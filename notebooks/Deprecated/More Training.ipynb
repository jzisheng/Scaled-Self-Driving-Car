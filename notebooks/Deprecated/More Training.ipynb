{
 "cells": [
  {
   "cell_type": "code",
   "execution_count": 1,
   "metadata": {},
   "outputs": [
    {
     "data": {
      "text/html": [
       "<style>#notebook { padding-top:0px !important; } .container { width:100% !important; } .end_space { min-height:0px !important; } </style>"
      ],
      "text/plain": [
       "<IPython.core.display.HTML object>"
      ]
     },
     "metadata": {},
     "output_type": "display_data"
    }
   ],
   "source": [
    "# Remove padding around screen\n",
    "from IPython.core.display import display, HTML\n",
    "display(HTML(\"<style>\"\n",
    "    + \"#notebook { padding-top:0px !important; } \" \n",
    "    + \".container { width:100% !important; } \"\n",
    "    + \".end_space { min-height:0px !important; } \"\n",
    "    + \"</style>\"))"
   ]
  },
  {
   "cell_type": "code",
   "execution_count": 2,
   "metadata": {},
   "outputs": [
    {
     "name": "stderr",
     "output_type": "stream",
     "text": [
      "/usr/local/lib/python3.6/dist-packages/h5py/__init__.py:36: FutureWarning: Conversion of the second argument of issubdtype from `float` to `np.floating` is deprecated. In future, it will be treated as `np.float64 == np.dtype(float).type`.\n",
      "  from ._conv import register_converters as _register_converters\n",
      "Using TensorFlow backend.\n"
     ]
    }
   ],
   "source": [
    "from os import walk\n",
    "import tensorflow as tf\n",
    "import matplotlib.pyplot as plt\n",
    "import matplotlib.image as img\n",
    "import numpy\n",
    "import keras\n",
    "import PIL\n",
    "from PIL import Image\n",
    "import sys\n",
    "sys.path.insert(0, \"/home/jason/sproj/scripts/\")\n",
    "from training_simulator import DataLoader\n",
    "import utils"
   ]
  },
  {
   "cell_type": "code",
   "execution_count": 5,
   "metadata": {},
   "outputs": [],
   "source": [
    "filepath = \"../datasets/track_sess_2-23/\"\n",
    "dl = DataLoader(filepath,max_train=10000,index_start=30000)\n",
    "\n",
    "train_x, train_y = dl.load()"
   ]
  },
  {
   "cell_type": "code",
   "execution_count": 6,
   "metadata": {
    "scrolled": false
   },
   "outputs": [
    {
     "name": "stdout",
     "output_type": "stream",
     "text": [
      "_________________________________________________________________\n",
      "Layer (type)                 Output Shape              Param #   \n",
      "=================================================================\n",
      "cropping2d_3 (Cropping2D)    (None, 100, 160, 3)       0         \n",
      "_________________________________________________________________\n",
      "lambda_3 (Lambda)            (None, 100, 160, 3)       0         \n",
      "_________________________________________________________________\n",
      "conv2d_11 (Conv2D)           (None, 50, 80, 24)        1824      \n",
      "_________________________________________________________________\n",
      "elu_13 (ELU)                 (None, 50, 80, 24)        0         \n",
      "_________________________________________________________________\n",
      "conv2d_12 (Conv2D)           (None, 25, 40, 32)        19232     \n",
      "_________________________________________________________________\n",
      "elu_14 (ELU)                 (None, 25, 40, 32)        0         \n",
      "_________________________________________________________________\n",
      "conv2d_13 (Conv2D)           (None, 13, 20, 64)        51264     \n",
      "_________________________________________________________________\n",
      "elu_15 (ELU)                 (None, 13, 20, 64)        0         \n",
      "_________________________________________________________________\n",
      "conv2d_14 (Conv2D)           (None, 7, 10, 64)         36928     \n",
      "_________________________________________________________________\n",
      "elu_16 (ELU)                 (None, 7, 10, 64)         0         \n",
      "_________________________________________________________________\n",
      "dropout_5 (Dropout)          (None, 7, 10, 64)         0         \n",
      "_________________________________________________________________\n",
      "conv2d_15 (Conv2D)           (None, 7, 10, 64)         36928     \n",
      "_________________________________________________________________\n",
      "flatten_3 (Flatten)          (None, 4480)              0         \n",
      "_________________________________________________________________\n",
      "dense_7 (Dense)              (None, 1000)              4481000   \n",
      "_________________________________________________________________\n",
      "dropout_6 (Dropout)          (None, 1000)              0         \n",
      "_________________________________________________________________\n",
      "elu_17 (ELU)                 (None, 1000)              0         \n",
      "_________________________________________________________________\n",
      "dense_8 (Dense)              (None, 128)               128128    \n",
      "_________________________________________________________________\n",
      "elu_18 (ELU)                 (None, 128)               0         \n",
      "_________________________________________________________________\n",
      "dense_9 (Dense)              (None, 15)                1935      \n",
      "=================================================================\n",
      "Total params: 4,757,239\n",
      "Trainable params: 4,757,239\n",
      "Non-trainable params: 0\n",
      "_________________________________________________________________\n",
      "Train on 9000 samples, validate on 1001 samples\n",
      "Epoch 1/10\n",
      "9000/9000 [==============================] - 17s 2ms/step - loss: 0.0473 - acc: 0.4612 - val_loss: 0.0452 - val_acc: 0.4635\n",
      "\n",
      "Epoch 00001: val_loss improved from inf to 0.04517, saving model to ../outputs/track_cnnw3.h5\n",
      "Epoch 2/10\n",
      "9000/9000 [==============================] - 16s 2ms/step - loss: 0.0438 - acc: 0.5053 - val_loss: 0.0458 - val_acc: 0.4845\n",
      "\n",
      "Epoch 00002: val_loss did not improve\n",
      "Epoch 3/10\n",
      "9000/9000 [==============================] - 16s 2ms/step - loss: 0.0418 - acc: 0.5372 - val_loss: 0.0447 - val_acc: 0.4825\n",
      "\n",
      "Epoch 00003: val_loss improved from 0.04517 to 0.04465, saving model to ../outputs/track_cnnw3.h5\n",
      "Epoch 4/10\n",
      "9000/9000 [==============================] - 16s 2ms/step - loss: 0.0400 - acc: 0.5650 - val_loss: 0.0453 - val_acc: 0.4965\n",
      "\n",
      "Epoch 00004: val_loss did not improve\n",
      "Epoch 5/10\n",
      "9000/9000 [==============================] - 16s 2ms/step - loss: 0.0386 - acc: 0.5839 - val_loss: 0.0472 - val_acc: 0.4605\n",
      "\n",
      "Epoch 00005: val_loss did not improve\n",
      "Epoch 6/10\n",
      "9000/9000 [==============================] - 16s 2ms/step - loss: 0.0374 - acc: 0.6047 - val_loss: 0.0462 - val_acc: 0.4815\n",
      "\n",
      "Epoch 00006: val_loss did not improve\n",
      "Epoch 7/10\n",
      "9000/9000 [==============================] - 16s 2ms/step - loss: 0.0362 - acc: 0.6186 - val_loss: 0.0472 - val_acc: 0.4685\n",
      "\n",
      "Epoch 00007: val_loss did not improve\n",
      "Epoch 8/10\n",
      "9000/9000 [==============================] - 16s 2ms/step - loss: 0.0350 - acc: 0.6373 - val_loss: 0.0465 - val_acc: 0.4985\n",
      "\n",
      "Epoch 00008: val_loss did not improve\n",
      "Epoch 9/10\n",
      "9000/9000 [==============================] - 16s 2ms/step - loss: 0.0339 - acc: 0.6527 - val_loss: 0.0461 - val_acc: 0.4945\n",
      "\n",
      "Epoch 00009: val_loss did not improve\n",
      "Epoch 10/10\n",
      "9000/9000 [==============================] - 16s 2ms/step - loss: 0.0327 - acc: 0.6703 - val_loss: 0.0458 - val_acc: 0.4925\n",
      "\n",
      "Epoch 00010: val_loss did not improve\n"
     ]
    }
   ],
   "source": [
    "model = keras.models.load_model('../outputs/track_cnnw3.h5')\n",
    "\n",
    "# Load callbacks\n",
    "checkpointer = keras.callbacks.ModelCheckpoint(\n",
    "    filepath='../outputs/track_cnnw3.h5',\n",
    "    verbose=1, \n",
    "    save_best_only=True)\n",
    "\n",
    "\n",
    "model.summary()\n",
    "model.compile(optimizer='Adadelta',\n",
    "              loss='mse',\n",
    "              metrics=['accuracy'])\n",
    "history = model.fit(x=train_x,y=train_y,epochs=10,validation_split=0.1,callbacks=[checkpointer])\n"
   ]
  }
 ],
 "metadata": {
  "kernelspec": {
   "display_name": "Python 3",
   "language": "python",
   "name": "python3"
  },
  "language_info": {
   "codemirror_mode": {
    "name": "ipython",
    "version": 3
   },
   "file_extension": ".py",
   "mimetype": "text/x-python",
   "name": "python",
   "nbconvert_exporter": "python",
   "pygments_lexer": "ipython3",
   "version": "3.6.3"
  }
 },
 "nbformat": 4,
 "nbformat_minor": 2
}

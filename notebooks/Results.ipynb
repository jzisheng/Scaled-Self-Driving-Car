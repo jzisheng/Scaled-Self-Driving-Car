{
 "cells": [
  {
   "cell_type": "code",
   "execution_count": 1,
   "metadata": {},
   "outputs": [
    {
     "name": "stderr",
     "output_type": "stream",
     "text": [
      "/usr/local/lib/python3.6/dist-packages/h5py/__init__.py:36: FutureWarning: Conversion of the second argument of issubdtype from `float` to `np.floating` is deprecated. In future, it will be treated as `np.float64 == np.dtype(float).type`.\n",
      "  from ._conv import register_converters as _register_converters\n"
     ]
    },
    {
     "name": "stdout",
     "output_type": "stream",
     "text": [
      "using donkey v2.2.1 ...\n"
     ]
    },
    {
     "name": "stderr",
     "output_type": "stream",
     "text": [
      "Using TensorFlow backend.\n"
     ]
    }
   ],
   "source": [
    "import matplotlib\n",
    "matplotlib.use('Agg')\n",
    "%matplotlib inline\n",
    "import matplotlib.pyplot as plt\n",
    "import matplotlib.image as img\n",
    "# Remove padding around screen\n",
    "\n",
    "from IPython.core.display import display, HTML\n",
    "\n",
    "import numpy as np\n",
    "\n",
    "from os import walk\n",
    "import tensorflow as tf,numpy,keras,PIL\n",
    "from PIL import Image\n",
    "\n",
    "import sys\n",
    "from os.path import dirname\n",
    "sys.path.append(\"/home/jason/sproj/donkeycar\")\n",
    "\n",
    "import donkeycar as dk\n",
    "import donkeycar.parts.datastore as datastore\n",
    "\n",
    "import keras\n",
    "\n",
    "import donkeycar as dk\n",
    "#import parts\n",
    "from donkeycar.utils import linear_unbin\n",
    "from donkeycar.parts.camera import PiCamera\n",
    "from donkeycar.parts.transform import Lambda\n",
    "from donkeycar.parts.keras import KerasCategorical, KerasRNN_LSTM, KerasRNN_Categorical, KerasHresCategorical, KerasLinear"
   ]
  },
  {
   "cell_type": "code",
   "execution_count": 3,
   "metadata": {},
   "outputs": [
    {
     "name": "stdout",
     "output_type": "stream",
     "text": [
      "TubGroup:tubpaths: ['/home/jason/sproj/datasets/8track/data-4-4/data/tub_7_18-04-15', '/home/jason/sproj/datasets/8track/data-4-4/data/tub_3_18-04-03', '/home/jason/sproj/datasets/8track/data-4-4/data/tub_5_18-04-04', '/home/jason/sproj/datasets/8track/data-4-4/data/tub_7_18-04-04', '/home/jason/sproj/datasets/8track/data-4-4/data/tub_2_18-04-03']\n",
      "path_in_tub: /home/jason/sproj/datasets/8track/data-4-4/data/tub_7_18-04-15\n",
      "Tub exists: /home/jason/sproj/datasets/8track/data-4-4/data/tub_7_18-04-15\n",
      "path_in_tub: /home/jason/sproj/datasets/8track/data-4-4/data/tub_3_18-04-03\n",
      "Tub exists: /home/jason/sproj/datasets/8track/data-4-4/data/tub_3_18-04-03\n",
      "path_in_tub: /home/jason/sproj/datasets/8track/data-4-4/data/tub_5_18-04-04\n",
      "Tub exists: /home/jason/sproj/datasets/8track/data-4-4/data/tub_5_18-04-04\n",
      "path_in_tub: /home/jason/sproj/datasets/8track/data-4-4/data/tub_7_18-04-04\n",
      "Tub exists: /home/jason/sproj/datasets/8track/data-4-4/data/tub_7_18-04-04\n",
      "path_in_tub: /home/jason/sproj/datasets/8track/data-4-4/data/tub_2_18-04-03\n",
      "Tub exists: /home/jason/sproj/datasets/8track/data-4-4/data/tub_2_18-04-03\n",
      "joining the tubs 59190 records together. This could take 0 minutes.\n"
     ]
    }
   ],
   "source": [
    "tub2 = datastore.TubGroup('/home/jason/sproj/datasets/8track/data-4-4/data/*')"
   ]
  },
  {
   "cell_type": "markdown",
   "metadata": {},
   "source": [
    "# Loading the data\n",
    "Donkeycar stores all the data in groups referred to as 'tubs'. These tubs consist of records and images.\n",
    "\n",
    "This next section loads the datastores, and returns the number of records(images+steering angles) inside the tubs"
   ]
  },
  {
   "cell_type": "markdown",
   "metadata": {},
   "source": [
    "## Steering Angle Histogram\n",
    "Create the distribution of steering angles for the 8 track."
   ]
  },
  {
   "cell_type": "code",
   "execution_count": 4,
   "metadata": {},
   "outputs": [
    {
     "data": {
      "text/plain": [
       "(59190, 4)"
      ]
     },
     "execution_count": 4,
     "metadata": {},
     "output_type": "execute_result"
    }
   ],
   "source": [
    "tub2.df.shape"
   ]
  },
  {
   "cell_type": "code",
   "execution_count": 18,
   "metadata": {},
   "outputs": [
    {
     "data": {
      "text/plain": [
       "Text(0,0.5,'# of Steering Requested')"
      ]
     },
     "execution_count": 18,
     "metadata": {},
     "output_type": "execute_result"
    },
    {
     "data": {
      "image/png": "[encoded data removed]",
      "text/plain": [
       "<Figure size 432x288 with 1 Axes>"
      ]
     },
     "metadata": {},
     "output_type": "display_data"
    }
   ],
   "source": [
    "#tub2 = datastore.Tub(\"/home/jason/sproj/datasets/8track/data/tub_2_18-04-03\")\n",
    "#tub3 = datastore.Tub(\"/home/jason/sproj/datasets/8track/data/tub_3_18-04-03\")\n",
    "#tub4 = datastore.Tub(\"~/sproj/datasets/ltrack/data-4-9/tub_5_18-04-10\")\n",
    "\n",
    "type(tub2.df)\n",
    "\n",
    "tub2.df.columns.values\n",
    "plot = tub2.df['user/angle'].hist(alpha=0.5)\n",
    "plot.set_title('Steering Commands Requested')\n",
    "plot.set_xlabel('Steering Command')\n",
    "plot.set_ylabel('# of Steering Requested')"
   ]
  },
  {
   "cell_type": "code",
   "execution_count": 15,
   "metadata": {},
   "outputs": [
    {
     "name": "stdout",
     "output_type": "stream",
     "text": [
      "path_in_tub: /home/jason/sproj/datasets/ltrack/data-4-9/tub_5_18-04-10\n",
      "Tub exists: /home/jason/sproj/datasets/ltrack/data-4-9/tub_5_18-04-10\n"
     ]
    }
   ],
   "source": [
    "ltracktub = datastore.Tub(\"~/sproj/datasets/ltrack/data-4-9/tub_5_18-04-10\")\n",
    "#b = datastore.Tub(\"../datasets/8track/data-4-4/data/tub_6_18-04-04/\")"
   ]
  },
  {
   "cell_type": "code",
   "execution_count": 19,
   "metadata": {},
   "outputs": [
    {
     "name": "stdout",
     "output_type": "stream",
     "text": [
      "14727\n"
     ]
    },
    {
     "name": "stderr",
     "output_type": "stream",
     "text": [
      "/usr/local/lib/python3.6/dist-packages/matplotlib/axes/_axes.py:6448: UserWarning: The 'normed' kwarg is deprecated, and has been replaced by the 'density' kwarg.\n",
      "  warnings.warn(\"The 'normed' kwarg is deprecated, and has been \"\n",
      "/usr/local/lib/python3.6/dist-packages/ipykernel_launcher.py:21: MatplotlibDeprecationWarning: scipy.stats.norm.pdf\n"
     ]
    },
    {
     "data": {
      "image/png": "[encoded data removed]",
      "text/plain": [
       "<Figure size 432x288 with 1 Axes>"
      ]
     },
     "metadata": {},
     "output_type": "display_data"
    }
   ],
   "source": [
    "import matplotlib.mlab as mlab\n",
    "print(ltracktub.get_num_records())\n",
    "x = []\n",
    "for i in range(4040,ltracktub.get_num_records()):\n",
    "    record = ltracktub.get_record(i)\n",
    "    x.append(record['user/angle'])\n",
    "    \n",
    "'''for i in range(4040,ltracktub.get_num_records()):\n",
    "    record = ltracktub.get_record(i)\n",
    "    x.append(-1*record['user/angle'])\n",
    "    '''\n",
    "\n",
    "\n",
    "mu, sigma = 100, 15\n",
    "#x = mu + sigma*np.random.randn(10000)\n",
    "\n",
    "# the histogram of the data\n",
    "n, bins, patches = plt.hist(x, 50, normed=1, facecolor='green', alpha=0.75)\n",
    "\n",
    "# add a 'best fit' line\n",
    "y = mlab.normpdf( bins, mu, sigma)\n",
    "l = plt.plot(bins, y, 'r--', linewidth=1)\n",
    "\n",
    "plt.xlabel('# of angles')\n",
    "plt.ylabel('Steering Angle')\n",
    "plt.title(r'L-Track Steering Distribution')\n",
    "plt.axis([-1, 1, 0, 8])\n",
    "plt.grid(True)\n",
    "\n",
    "plt.show()"
   ]
  },
  {
   "cell_type": "markdown",
   "metadata": {},
   "source": [
    "# Model Evaluation\n",
    "The metrics below loads the testing tub, and calculates the mean squared error of each model."
   ]
  },
  {
   "cell_type": "code",
   "execution_count": 106,
   "metadata": {},
   "outputs": [
    {
     "name": "stdout",
     "output_type": "stream",
     "text": [
      "path_in_tub: /home/jason/sproj/datasets/8track/data-4-4/testing/\n",
      "Tub exists: /home/jason/sproj/datasets/8track/data-4-4/testing/\n"
     ]
    }
   ],
   "source": [
    "ltracktub = datastore.Tub(\"~/sproj/datasets/8track/data-4-4/testing/\")"
   ]
  },
  {
   "cell_type": "code",
   "execution_count": 93,
   "metadata": {},
   "outputs": [],
   "source": [
    "kl = KerasCategorical()\n",
    "kl.load('/home/jason/sproj/d2/models/cat/cat_8track1')"
   ]
  },
  {
   "cell_type": "code",
   "execution_count": 94,
   "metadata": {},
   "outputs": [],
   "source": [
    "errors = []\n",
    "for i in range(1,ltracktub.get_num_records()):\n",
    "    record = ltracktub.get_record(i)\n",
    "    true_angle = (record['user/angle'])\n",
    "    img_arr = np.asarray(record['cam/image_array'])\n",
    "    predict_angle = kl.run(img_arr)[0]\n",
    "    delta = true_angle-predict_angle\n",
    "    delta = delta*delta # Square the error\n",
    "    errors.append(delta)"
   ]
  },
  {
   "cell_type": "code",
   "execution_count": 95,
   "metadata": {},
   "outputs": [
    {
     "name": "stdout",
     "output_type": "stream",
     "text": [
      "num records: 4820\n",
      "0.22608823324552474\n"
     ]
    }
   ],
   "source": [
    "error = sum(errors)/ltracktub.get_num_records()\n",
    "print(\"num records: \"+str(ltracktub.get_num_records()))\n",
    "print(error)"
   ]
  },
  {
   "cell_type": "code",
   "execution_count": 96,
   "metadata": {},
   "outputs": [],
   "source": [
    "klinear = KerasLinear()\n",
    "klinear.load('/home/jason/sproj/d2/models/linear/linear_8track2')"
   ]
  },
  {
   "cell_type": "code",
   "execution_count": 97,
   "metadata": {},
   "outputs": [
    {
     "name": "stdout",
     "output_type": "stream",
     "text": [
      "num records: 4820\n",
      "0.21403387875586774\n"
     ]
    }
   ],
   "source": [
    "errors = []\n",
    "\n",
    "for i in range(1,ltracktub.get_num_records()):\n",
    "    record = ltracktub.get_record(i)\n",
    "    true_angle = (record['user/angle'])\n",
    "    img_arr = np.asarray(record['cam/image_array'])\n",
    "    predict_angle = klinear.run(img_arr)[0]\n",
    "    delta = true_angle-predict_angle\n",
    "    delta = delta*delta # Square the error\n",
    "    errors.append(delta)\n",
    "    \n",
    "error = sum(errors)/ltracktub.get_num_records()\n",
    "print(\"num records: \"+str(ltracktub.get_num_records()))\n",
    "print(error)"
   ]
  },
  {
   "cell_type": "markdown",
   "metadata": {},
   "source": [
    "## Evaluation of Recurrent Neural Networks\n",
    "As recurrent neural networks require a sequence, code below shows implementaiton of loading the sequence and testing it"
   ]
  },
  {
   "cell_type": "code",
   "execution_count": 98,
   "metadata": {},
   "outputs": [],
   "source": [
    "kl = KerasRNN_LSTM()\n",
    "kl.load('/home/jason/sproj/d2/models/rnn/rnn_8track2')\n",
    "\n",
    "count = 0"
   ]
  },
  {
   "cell_type": "code",
   "execution_count": 99,
   "metadata": {},
   "outputs": [
    {
     "data": {
      "text/plain": [
       "array([[0.18032582, 0.9290125 ]], dtype=float32)"
      ]
     },
     "execution_count": 99,
     "metadata": {},
     "output_type": "execute_result"
    }
   ],
   "source": [
    "i = 1\n",
    "errors = []\n",
    "max_range = ltracktub.get_num_records()-3\n",
    "#max_range = 1000\n",
    "while i <= max_range-3:\n",
    "    a1 = (ltracktub.get_record(i)['cam/image_array'])\n",
    "    a1 = a1.reshape((1,) + a1.shape)\n",
    "    \n",
    "    a2 = (ltracktub.get_record(i+1)['cam/image_array'])\n",
    "    a2 = a2.reshape((1,) + a2.shape)\n",
    "    \n",
    "    a3 = (ltracktub.get_record(i+2)['cam/image_array'])\n",
    "    a3 = a3.reshape((1,) + a3.shape)\n",
    "    \n",
    "    x1 = np.concatenate((a1, a2, a3))\n",
    "    x1 = x1.reshape((1,) + x1.shape)\n",
    "    \n",
    "    true_angle = (ltracktub.get_record(i+2)['user/angle'])\n",
    "    predict_angle = kl.model.predict(x1)\n",
    "    delta = true_angle-predict_angle\n",
    "    delta = delta*delta # Square the error\n",
    "    count+=1\n",
    "    i+=1\n",
    "    errors.append(delta)\n",
    "sum(errors)/count"
   ]
  },
  {
   "cell_type": "code",
   "execution_count": 100,
   "metadata": {},
   "outputs": [
    {
     "name": "stdout",
     "output_type": "stream",
     "text": [
      "[[-0.21285756  0.544567  ]]\n",
      "0\n"
     ]
    }
   ],
   "source": [
    "print(predict_angle)\n",
    "print(true_angle)"
   ]
  },
  {
   "cell_type": "markdown",
   "metadata": {},
   "source": [
    "Now comparing the performance of a binned recurrent neural network"
   ]
  },
  {
   "cell_type": "code",
   "execution_count": 107,
   "metadata": {},
   "outputs": [],
   "source": [
    "rnncat = KerasRNN_Categorical()\n",
    "rnncat.load('/home/jason/sproj/d2/models/rnnbin/rnnbin_8track2')"
   ]
  },
  {
   "cell_type": "code",
   "execution_count": 108,
   "metadata": {},
   "outputs": [
    {
     "data": {
      "text/plain": [
       "0.3438165252192672"
      ]
     },
     "execution_count": 108,
     "metadata": {},
     "output_type": "execute_result"
    }
   ],
   "source": [
    "errors = []\n",
    "count = 0\n",
    "\n",
    "i = 1\n",
    "max_range = ltracktub.get_num_records()-3\n",
    "#max_range = 1000\n",
    "while i <= max_range-3:\n",
    "    a1 = (ltracktub.get_record(i)['cam/image_array'])\n",
    "    a1 = a1.reshape((1,) + a1.shape)\n",
    "    \n",
    "    a2 = (ltracktub.get_record(i+1)['cam/image_array'])\n",
    "    a2 = a2.reshape((1,) + a2.shape)\n",
    "    \n",
    "    a3 = (ltracktub.get_record(i+2)['cam/image_array'])\n",
    "    a3 = a3.reshape((1,) + a3.shape)\n",
    "    \n",
    "    x1 = np.concatenate((a1, a2, a3))\n",
    "    x1 = x1.reshape( x1.shape)\n",
    "    \n",
    "    #print(x1.shape)\n",
    "    \n",
    "    true_angle = (ltracktub.get_record(i+2)['user/angle'])\n",
    "    predict_angle = linear_unbin(sum(rnncat.model.predict(x1)[0]))\n",
    "    '''print('p: '+str(predict_angle))\n",
    "    print('t: '+str(true_angle))\n",
    "    print('---')'''\n",
    "    delta = true_angle-predict_angle\n",
    "    delta = delta*delta # Square the error\n",
    "    count+=1\n",
    "    i+=1\n",
    "    errors.append(delta)\n",
    "sum(errors)/count"
   ]
  },
  {
   "cell_type": "code",
   "execution_count": 104,
   "metadata": {},
   "outputs": [
    {
     "name": "stdout",
     "output_type": "stream",
     "text": [
      "0.0\n",
      "0\n"
     ]
    }
   ],
   "source": [
    "print(predict_angle)\n",
    "print(true_angle)"
   ]
  }
 ],
 "metadata": {
  "kernelspec": {
   "display_name": "Python 3",
   "language": "python",
   "name": "python3"
  },
  "language_info": {
   "codemirror_mode": {
    "name": "ipython",
    "version": 3
   },
   "file_extension": ".py",
   "mimetype": "text/x-python",
   "name": "python",
   "nbconvert_exporter": "python",
   "pygments_lexer": "ipython3",
   "version": "3.6.3"
  }
 },
 "nbformat": 4,
 "nbformat_minor": 2
}

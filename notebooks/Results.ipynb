{
 "cells": [
  {
   "cell_type": "code",
   "execution_count": 1,
   "metadata": {},
   "outputs": [
    {
     "name": "stderr",
     "output_type": "stream",
     "text": [
      "/usr/local/lib/python3.6/dist-packages/h5py/__init__.py:36: FutureWarning: Conversion of the second argument of issubdtype from `float` to `np.floating` is deprecated. In future, it will be treated as `np.float64 == np.dtype(float).type`.\n",
      "  from ._conv import register_converters as _register_converters\n"
     ]
    },
    {
     "name": "stdout",
     "output_type": "stream",
     "text": [
      "using donkey v2.2.1 ...\n"
     ]
    },
    {
     "name": "stderr",
     "output_type": "stream",
     "text": [
      "Using TensorFlow backend.\n"
     ]
    }
   ],
   "source": [
    "import matplotlib\n",
    "matplotlib.use('Agg')\n",
    "# Remove padding around screen\n",
    "\n",
    "from IPython.core.display import display, HTML\n",
    "import matplotlib.pyplot as plt\n",
    "import matplotlib.image as img\n",
    "import numpy as np\n",
    "\n",
    "from os import walk\n",
    "import tensorflow as tf,numpy,keras,PIL\n",
    "from PIL import Image\n",
    "\n",
    "import sys\n",
    "from os.path import dirname\n",
    "sys.path.append(\"/home/jason/sproj/donkeycar\")\n",
    "\n",
    "import donkeycar as dk\n",
    "import donkeycar.parts.datastore as datastore\n",
    "\n",
    "import keras\n",
    "\n",
    "import donkeycar as dk\n",
    "#import parts\n",
    "from donkeycar.parts.camera import PiCamera\n",
    "from donkeycar.parts.transform import Lambda\n",
    "from donkeycar.parts.keras import KerasCategorical, KerasRNN_LSTM, KerasRNN_Categorical, KerasHresCategorical, KerasLinear"
   ]
  },
  {
   "cell_type": "code",
   "execution_count": 80,
   "metadata": {},
   "outputs": [
    {
     "name": "stdout",
     "output_type": "stream",
     "text": [
      "path_in_tub: ../datasets/8track/data-4-4/data/tub_5_18-04-04/\n",
      "Tub exists: ../datasets/8track/data-4-4/data/tub_5_18-04-04/\n"
     ]
    }
   ],
   "source": [
    "a = datastore.Tub(\"../datasets/8track/data-4-4/data/tub_5_18-04-04/\")\n",
    "#b = datastore.Tub(\"../datasets/8track/data-4-4/data/tub_6_18-04-04/\")"
   ]
  },
  {
   "cell_type": "code",
   "execution_count": 113,
   "metadata": {},
   "outputs": [
    {
     "data": {
      "text/plain": [
       "1196"
      ]
     },
     "execution_count": 113,
     "metadata": {},
     "output_type": "execute_result"
    }
   ],
   "source": [
    "a.get_num_records()"
   ]
  },
  {
   "cell_type": "code",
   "execution_count": 81,
   "metadata": {},
   "outputs": [
    {
     "data": {
      "text/plain": [
       "0.07096916587783582"
      ]
     },
     "execution_count": 81,
     "metadata": {},
     "output_type": "execute_result"
    }
   ],
   "source": [
    "kl = KerasLinear()\n",
    "kl.load('/home/jason/sproj/d2/models/linear_8track')\n",
    "\n",
    "# Evaluation of model\n",
    "errors = []\n",
    "max_range = a.get_num_records()\n",
    "for i in range(1,max_range):\n",
    "    true_angle = (a.get_record(i)['user/angle'])\n",
    "    img_arr = a.get_record(i)['cam/image_array']\n",
    "    img_arr = img_arr.reshape((1,) + img_arr.shape)\n",
    "    predict_angle = kl.model.predict(img_arr)[0].item(0)\n",
    "    delta = true_angle-predict_angle\n",
    "    delta = delta*delta # Square the error\n",
    "    errors.append(delta)\n",
    "sum(errors)/max_range"
   ]
  },
  {
   "cell_type": "code",
   "execution_count": 112,
   "metadata": {},
   "outputs": [
    {
     "data": {
      "text/plain": [
       "array([[0.04521056, 0.62674814]], dtype=float32)"
      ]
     },
     "execution_count": 112,
     "metadata": {},
     "output_type": "execute_result"
    }
   ],
   "source": [
    "kl = KerasRNN_LSTM()\n",
    "kl.load('/home/jason/sproj/d2/models/rnn_8track')\n",
    "errors = []\n",
    "count = 0\n",
    "i = 1\n",
    "max_range = a.get_num_records()-3\n",
    "# max_range = 10\n",
    "while i <= max_range-3:\n",
    "    a1 = (a.get_record(i)['cam/image_array'])\n",
    "    a1 = a1.reshape((1,) + a1.shape)\n",
    "    \n",
    "    a2 = (a.get_record(i+1)['cam/image_array'])\n",
    "    a2 = a2.reshape((1,) + a2.shape)\n",
    "    \n",
    "    a3 = (a.get_record(i+2)['cam/image_array'])\n",
    "    a3 = a3.reshape((1,) + a3.shape)\n",
    "    \n",
    "    x1 = np.concatenate((a1, a2, a3))\n",
    "    x1 = x1.reshape((1,) + x1.shape)\n",
    "    \n",
    "    true_angle = (a.get_record(i)['user/angle'])\n",
    "    predict_angle = kl.model.predict(x1)\n",
    "    delta = true_angle-predict_angle\n",
    "    delta = delta*delta # Square the error\n",
    "    count+=1\n",
    "    i+=1\n",
    "    errors.append(delta)\n",
    "sum(errors)/count"
   ]
  },
  {
   "cell_type": "code",
   "execution_count": 122,
   "metadata": {},
   "outputs": [
    {
     "name": "stdout",
     "output_type": "stream",
     "text": [
      "path_in_tub: /home/jason/sproj/datasets/8track/data/tub_2_18-04-03\n",
      "Tub exists: /home/jason/sproj/datasets/8track/data/tub_2_18-04-03\n",
      "path_in_tub: /home/jason/sproj/datasets/8track/data/tub_3_18-04-03\n",
      "Tub exists: /home/jason/sproj/datasets/8track/data/tub_3_18-04-03\n"
     ]
    },
    {
     "data": {
      "text/plain": [
       "23284"
      ]
     },
     "execution_count": 122,
     "metadata": {},
     "output_type": "execute_result"
    }
   ],
   "source": [
    "tub2 = datastore.Tub(\"/home/jason/sproj/datasets/8track/data/tub_2_18-04-03\")\n",
    "tub3 = datastore.Tub(\"/home/jason/sproj/datasets/8track/data/tub_3_18-04-03\")\n",
    "\n",
    "tub2.get_num_records()+tub3.get_num_records()"
   ]
  },
  {
   "cell_type": "code",
   "execution_count": 3,
   "metadata": {},
   "outputs": [],
   "source": []
  },
  {
   "cell_type": "code",
   "execution_count": 2,
   "metadata": {},
   "outputs": [],
   "source": []
  }
 ],
 "metadata": {
  "kernelspec": {
   "display_name": "Python 3",
   "language": "python",
   "name": "python3"
  },
  "language_info": {
   "codemirror_mode": {
    "name": "ipython",
    "version": 3
   },
   "file_extension": ".py",
   "mimetype": "text/x-python",
   "name": "python",
   "nbconvert_exporter": "python",
   "pygments_lexer": "ipython3",
   "version": "3.6.3"
  }
 },
 "nbformat": 4,
 "nbformat_minor": 2
}

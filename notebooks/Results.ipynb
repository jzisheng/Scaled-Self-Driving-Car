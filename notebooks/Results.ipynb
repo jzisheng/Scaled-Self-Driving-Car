{
 "cells": [
  {
   "cell_type": "code",
   "execution_count": 1,
   "metadata": {},
   "outputs": [
    {
     "name": "stderr",
     "output_type": "stream",
     "text": [
      "/usr/local/lib/python3.6/dist-packages/h5py/__init__.py:36: FutureWarning: Conversion of the second argument of issubdtype from `float` to `np.floating` is deprecated. In future, it will be treated as `np.float64 == np.dtype(float).type`.\n",
      "  from ._conv import register_converters as _register_converters\n"
     ]
    },
    {
     "name": "stdout",
     "output_type": "stream",
     "text": [
      "using donkey v2.2.1 ...\n"
     ]
    },
    {
     "name": "stderr",
     "output_type": "stream",
     "text": [
      "Using TensorFlow backend.\n"
     ]
    }
   ],
   "source": [
    "import matplotlib\n",
    "matplotlib.use('Agg')\n",
    "%matplotlib inline\n",
    "# Remove padding around screen\n",
    "\n",
    "from IPython.core.display import display, HTML\n",
    "import matplotlib.pyplot as plt\n",
    "import matplotlib.image as img\n",
    "import numpy as np\n",
    "\n",
    "from os import walk\n",
    "import tensorflow as tf,numpy,keras,PIL\n",
    "from PIL import Image\n",
    "\n",
    "import sys\n",
    "from os.path import dirname\n",
    "sys.path.append(\"/home/jason/sproj/donkeycar\")\n",
    "\n",
    "import donkeycar as dk\n",
    "import donkeycar.parts.datastore as datastore\n",
    "\n",
    "import keras\n",
    "\n",
    "import donkeycar as dk\n",
    "#import parts\n",
    "from donkeycar.parts.camera import PiCamera\n",
    "from donkeycar.parts.transform import Lambda\n",
    "from donkeycar.parts.keras import KerasCategorical, KerasRNN_LSTM, KerasRNN_Categorical, KerasHresCategorical, KerasLinear"
   ]
  },
  {
   "cell_type": "markdown",
   "metadata": {},
   "source": [
    "# Loading the data\n",
    "Donkeycar stores all the data in groups referred to as 'tubs'. These tubs consist of records and images.\n",
    "\n",
    "This next section loads the datastores, and returns the number of records(images+steering angles) inside the tubs"
   ]
  },
  {
   "cell_type": "code",
   "execution_count": 4,
   "metadata": {},
   "outputs": [
    {
     "name": "stdout",
     "output_type": "stream",
     "text": [
      "path_in_tub: /home/jason/sproj/datasets/8track/data/tub_2_18-04-03\n",
      "Tub exists: /home/jason/sproj/datasets/8track/data/tub_2_18-04-03\n",
      "path_in_tub: /home/jason/sproj/datasets/8track/data/tub_3_18-04-03\n",
      "Tub exists: /home/jason/sproj/datasets/8track/data/tub_3_18-04-03\n",
      "path_in_tub: /home/jason/sproj/datasets/ltrack/data-4-9/tub_5_18-04-10\n",
      "Tub exists: /home/jason/sproj/datasets/ltrack/data-4-9/tub_5_18-04-10\n"
     ]
    },
    {
     "data": {
      "text/plain": [
       "23284"
      ]
     },
     "execution_count": 4,
     "metadata": {},
     "output_type": "execute_result"
    }
   ],
   "source": [
    "tub2 = datastore.Tub(\"/home/jason/sproj/datasets/8track/data/tub_2_18-04-03\")\n",
    "tub3 = datastore.Tub(\"/home/jason/sproj/datasets/8track/data/tub_3_18-04-03\")\n",
    "tub4 = datastore.Tub(\"~/sproj/datasets/ltrack/data-4-9/tub_5_18-04-10\")\n",
    "\n",
    "tub2.get_num_records()+tub3.get_num_records()"
   ]
  },
  {
   "cell_type": "markdown",
   "metadata": {},
   "source": [
    "## Steering Angle Histogram\n",
    "Create the distribution of steering angles for the 8 track."
   ]
  },
  {
   "cell_type": "code",
   "execution_count": null,
   "metadata": {},
   "outputs": [],
   "source": []
  },
  {
   "cell_type": "code",
   "execution_count": 17,
   "metadata": {},
   "outputs": [
    {
     "name": "stdout",
     "output_type": "stream",
     "text": [
      "11025\n"
     ]
    },
    {
     "name": "stderr",
     "output_type": "stream",
     "text": [
      "/usr/local/lib/python3.6/dist-packages/matplotlib/axes/_axes.py:6448: UserWarning: The 'normed' kwarg is deprecated, and has been replaced by the 'density' kwarg.\n",
      "  warnings.warn(\"The 'normed' kwarg is deprecated, and has been \"\n",
      "/usr/local/lib/python3.6/dist-packages/ipykernel_launcher.py:20: MatplotlibDeprecationWarning: scipy.stats.norm.pdf\n"
     ]
    },
    {
     "data": {
      "image/png": "[encoded data removed]",
      "text/plain": [
       "<Figure size 432x288 with 1 Axes>"
      ]
     },
     "metadata": {},
     "output_type": "display_data"
    }
   ],
   "source": [
    "import matplotlib.mlab as mlab\n",
    "\n",
    "x = []\n",
    "for i in range(1,tub2.get_num_records()):\n",
    "    record = tub2.get_record(i)\n",
    "    x.append(record['user/angle'])\n",
    "'''\n",
    "for i in range(1,tub3.get_num_records()):\n",
    "    record = tub3.get_record(i)\n",
    "    x.append(record['user/angle'])'''\n",
    "\n",
    "print(len(x))\n",
    "mu, sigma = 100, 15\n",
    "#x = mu + sigma*np.random.randn(10000)\n",
    "\n",
    "# the histogram of the data\n",
    "n, bins, patches = plt.hist(x, 50, normed=1, facecolor='green', alpha=0.75)\n",
    "\n",
    "# add a 'best fit' line\n",
    "y = mlab.normpdf( bins, mu, sigma)\n",
    "l = plt.plot(bins, y, 'r--', linewidth=1)\n",
    "\n",
    "plt.xlabel('# of angles')\n",
    "plt.ylabel('Steering Angle')\n",
    "plt.title(r'8-Track Steering Distribution')\n",
    "plt.axis([-1, 1, 0, 4])\n",
    "plt.grid(True)\n",
    "\n",
    "plt.show()"
   ]
  },
  {
   "cell_type": "code",
   "execution_count": 15,
   "metadata": {},
   "outputs": [
    {
     "name": "stdout",
     "output_type": "stream",
     "text": [
      "path_in_tub: /home/jason/sproj/datasets/ltrack/data-4-9/tub_5_18-04-10\n",
      "Tub exists: /home/jason/sproj/datasets/ltrack/data-4-9/tub_5_18-04-10\n"
     ]
    }
   ],
   "source": [
    "ltracktub = datastore.Tub(\"~/sproj/datasets/ltrack/data-4-9/tub_5_18-04-10\")\n",
    "#b = datastore.Tub(\"../datasets/8track/data-4-4/data/tub_6_18-04-04/\")"
   ]
  },
  {
   "cell_type": "code",
   "execution_count": 16,
   "metadata": {},
   "outputs": [
    {
     "name": "stdout",
     "output_type": "stream",
     "text": [
      "14727\n"
     ]
    },
    {
     "name": "stderr",
     "output_type": "stream",
     "text": [
      "/usr/local/lib/python3.6/dist-packages/matplotlib/axes/_axes.py:6448: UserWarning: The 'normed' kwarg is deprecated, and has been replaced by the 'density' kwarg.\n",
      "  warnings.warn(\"The 'normed' kwarg is deprecated, and has been \"\n",
      "/usr/local/lib/python3.6/dist-packages/ipykernel_launcher.py:21: MatplotlibDeprecationWarning: scipy.stats.norm.pdf\n"
     ]
    },
    {
     "data": {
      "image/png": "[encoded data removed]",
      "text/plain": [
       "<Figure size 432x288 with 1 Axes>"
      ]
     },
     "metadata": {},
     "output_type": "display_data"
    }
   ],
   "source": [
    "import matplotlib.mlab as mlab\n",
    "print(ltracktub.get_num_records())\n",
    "x = []\n",
    "for i in range(4040,ltracktub.get_num_records()):\n",
    "    record = ltracktub.get_record(i)\n",
    "    x.append(record['user/angle'])\n",
    "    \n",
    "for i in range(4040,ltracktub.get_num_records()):\n",
    "    record = ltracktub.get_record(i)\n",
    "    x.append(-1*record['user/angle'])\n",
    "    \n",
    "\n",
    "\n",
    "mu, sigma = 100, 15\n",
    "#x = mu + sigma*np.random.randn(10000)\n",
    "\n",
    "# the histogram of the data\n",
    "n, bins, patches = plt.hist(x, 50, normed=1, facecolor='green', alpha=0.75)\n",
    "\n",
    "# add a 'best fit' line\n",
    "y = mlab.normpdf( bins, mu, sigma)\n",
    "l = plt.plot(bins, y, 'r--', linewidth=1)\n",
    "\n",
    "plt.xlabel('# of angles')\n",
    "plt.ylabel('Steering Angle')\n",
    "plt.title(r'L-Track Steering Distribution')\n",
    "plt.axis([-1, 1, 0, 8])\n",
    "plt.grid(True)\n",
    "\n",
    "plt.show()"
   ]
  },
  {
   "cell_type": "markdown",
   "metadata": {},
   "source": [
    "# Model Evaluation\n",
    "The metrics below loads the testing tub, and calculates the mean squared error of each model."
   ]
  },
  {
   "cell_type": "code",
   "execution_count": 18,
   "metadata": {},
   "outputs": [],
   "source": [
    "kl = KerasCategorical()\n",
    "kl.load('/home/jason/sproj/d2/models/categorical_8track')"
   ]
  },
  {
   "cell_type": "code",
   "execution_count": 7,
   "metadata": {},
   "outputs": [
    {
     "name": "stdout",
     "output_type": "stream",
     "text": [
      "12258\n"
     ]
    }
   ],
   "source": [
    "# Evaluation of model\n",
    "errors = []\n",
    "max_range = tub3.get_num_records()\n",
    "print(max_range)"
   ]
  },
  {
   "cell_type": "code",
   "execution_count": 9,
   "metadata": {},
   "outputs": [
    {
     "data": {
      "text/plain": [
       "0.03149951441151182"
      ]
     },
     "execution_count": 9,
     "metadata": {},
     "output_type": "execute_result"
    }
   ],
   "source": [
    "for i in range(1,max_range):\n",
    "    true_angle = (tub3.get_record(i)['user/angle'])\n",
    "    img_arr = tub3.get_record(i)['cam/image_array']\n",
    "    img_arr = img_arr.reshape((1,) + img_arr.shape)\n",
    "    predict_angle = kl.model.predict(img_arr)[0].item(0)\n",
    "    delta = true_angle-predict_angle\n",
    "    delta = delta*delta # Square the error\n",
    "    errors.append(delta)\n",
    "sum(errors)/max_range"
   ]
  },
  {
   "cell_type": "code",
   "execution_count": null,
   "metadata": {},
   "outputs": [],
   "source": [
    "for i in range(1,max_range):\n",
    "    true_angle = (tub3.get_record(i)['user/angle'])\n",
    "    img_arr = tub3.get_record(i)['cam/image_array']\n",
    "    img_arr = img_arr.reshape((1,) + img_arr.shape)\n",
    "    predict_angle = kl.model.predict(img_arr)[0].item(0)\n",
    "    delta = true_angle-predict_angle\n",
    "    delta = delta*delta # Square the error\n",
    "    errors.append(delta)\n",
    "sum(errors)/max_range"
   ]
  },
  {
   "cell_type": "code",
   "execution_count": 10,
   "metadata": {},
   "outputs": [],
   "source": [
    "kl = KerasRNN_LSTM()\n",
    "kl.load('/home/jason/sproj/d2/models/rnn_8track')\n",
    "errors = []\n",
    "count = 0"
   ]
  },
  {
   "cell_type": "code",
   "execution_count": 13,
   "metadata": {},
   "outputs": [
    {
     "data": {
      "text/plain": [
       "array([[0.03129561, 0.5853251 ]], dtype=float32)"
      ]
     },
     "execution_count": 13,
     "metadata": {},
     "output_type": "execute_result"
    }
   ],
   "source": [
    "i = 1\n",
    "max_range = tub3.get_num_records()-3\n",
    "#max_range = 1000\n",
    "while i <= max_range-3:\n",
    "    a1 = (tub3.get_record(i)['cam/image_array'])\n",
    "    a1 = a1.reshape((1,) + a1.shape)\n",
    "    \n",
    "    a2 = (tub3.get_record(i+1)['cam/image_array'])\n",
    "    a2 = a2.reshape((1,) + a2.shape)\n",
    "    \n",
    "    a3 = (tub3.get_record(i+2)['cam/image_array'])\n",
    "    a3 = a3.reshape((1,) + a3.shape)\n",
    "    \n",
    "    x1 = np.concatenate((a1, a2, a3))\n",
    "    x1 = x1.reshape((1,) + x1.shape)\n",
    "    \n",
    "    true_angle = (tub3.get_record(i)['user/angle'])\n",
    "    predict_angle = kl.model.predict(x1)\n",
    "    delta = true_angle-predict_angle\n",
    "    delta = delta*delta # Square the error\n",
    "    count+=1\n",
    "    i+=1\n",
    "    errors.append(delta)\n",
    "sum(errors)/count"
   ]
  },
  {
   "cell_type": "code",
   "execution_count": null,
   "metadata": {},
   "outputs": [],
   "source": []
  }
 ],
 "metadata": {
  "kernelspec": {
   "display_name": "Python 3",
   "language": "python",
   "name": "python3"
  },
  "language_info": {
   "codemirror_mode": {
    "name": "ipython",
    "version": 3
   },
   "file_extension": ".py",
   "mimetype": "text/x-python",
   "name": "python",
   "nbconvert_exporter": "python",
   "pygments_lexer": "ipython3",
   "version": "3.6.3"
  }
 },
 "nbformat": 4,
 "nbformat_minor": 2
}

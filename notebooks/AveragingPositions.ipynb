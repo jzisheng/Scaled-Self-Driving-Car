{
 "cells": [
  {
   "cell_type": "markdown",
   "metadata": {},
   "source": [
    "# Measuring positions of the vehicle\n",
    "The code snippets below take CSV files from positional video recordings of the remote control car. In this notebook we will analyze the vehicles positions on different tracks."
   ]
  },
  {
   "cell_type": "code",
   "execution_count": 191,
   "metadata": {},
   "outputs": [],
   "source": [
    "import numpy as np\n",
    "import csv, math\n",
    "import matplotlib.pyplot as plt\n",
    "%matplotlib inline\n",
    "import os\n",
    "\n",
    "def read_x_y(fname):\n",
    "    f = open(fname, 'r')\n",
    "    reader = csv.reader(f)\n",
    "    positions = []\n",
    "    for row in reader:\n",
    "        positions.append( [round(float(row[1]),1), round(-float(row[2]),1) + 300, False] )\n",
    "    return positions\n",
    "\n",
    "def dist(a,b):\n",
    "    x1,y1,AUX = a[0],a[1],a[2]\n",
    "    x2,y2,AUX = b[0],b[1],b[2]\n",
    "    return math.sqrt(math.pow((x1-x2),2) + math.pow((y1-y2),2))\n",
    "\n",
    "def getAveragePositions(positions):\n",
    "    averagex = []\n",
    "    averagey = []\n",
    "    print(\"=== \"+str(len(positions)))\n",
    "    nearestx = []\n",
    "    nearesty = []\n",
    "    for i in range (len(positions)):\n",
    "        point1 = positions[i]\n",
    "        positions[i][2] = True\n",
    "        #print('- p1 :   ' + str(point1))\n",
    "        for j in range(i+1,len(positions)):\n",
    "            if (positions[j][2] == False):\n",
    "                point2 = positions[j]\n",
    "                #print('-- p2 :   ' + str(point2))\n",
    "                if(dist(point1,point2) < 50):            \n",
    "                    # Append it to the nearest list\n",
    "                    nearestx.append(point2[0])\n",
    "                    nearesty.append(point2[1])\n",
    "                    #print('----- APPEND')\n",
    "                    if(j < len(positions)-1):\n",
    "                        positions[j][2] = True\n",
    "            if(len(nearestx) > 90):\n",
    "                averagex.append(np.mean(nearestx))\n",
    "                averagey.append(np.mean(nearesty))\n",
    "                #print('nearestx ---- '+str(len(nearestx)))\n",
    "                nearestx = []\n",
    "                nearesty = []\n",
    "    print(len(averagex))\n",
    "    return averagex, averagey"
   ]
  },
  {
   "cell_type": "markdown",
   "metadata": {},
   "source": [
    "Calculate average x, y positions of the tracks=\n",
    "* does the mean of the robot path, is it or not different thatn the human path\n",
    "* Student tea test, demonstrate normality - is it normal\n",
    "* null hypothesis, assume that the mean robot error"
   ]
  },
  {
   "cell_type": "code",
   "execution_count": 203,
   "metadata": {},
   "outputs": [],
   "source": [
    "import os\n",
    "\n",
    "cwd = os.getcwd()\n",
    "directory = cwd+'/csvs/circuitcsv/'\n",
    "rnn,rnncat, linear, cat, human = [],[],[],[],[]\n",
    "\n",
    "for filename in os.listdir(directory):\n",
    "    if filename.endswith(\".csv\") or filename.endswith(\".py\"): \n",
    "        #print(os.path.join(directory, filename))\n",
    "        fdir = os.path.join(directory, filename)\n",
    "        if 'rnncat' in  filename:\n",
    "            rnncat.append(read_x_y(str(fdir)))\n",
    "            pass\n",
    "        if 'cat' in filename:\n",
    "            cat.append(read_x_y(str(fdir)))\n",
    "            pass\n",
    "        if 'linear' in filename:\n",
    "            linear.append(read_x_y(str(fdir)))\n",
    "            pass\n",
    "        if 'rnn' in filename:\n",
    "            rnn.append(read_x_y(str(fdir)))\n",
    "            pass\n",
    "        if 'human' in filename:\n",
    "            human.append(read_x_y(str(fdir)))\n",
    "            pass\n",
    "        pass\n",
    "    else:\n",
    "        continue\n",
    "pass"
   ]
  },
  {
   "cell_type": "markdown",
   "metadata": {},
   "source": [
    "### Categorical - Average Positions"
   ]
  },
  {
   "cell_type": "code",
   "execution_count": 204,
   "metadata": {},
   "outputs": [
    {
     "name": "stdout",
     "output_type": "stream",
     "text": [
      "== human\n",
      "=== 14113\n",
      "160\n"
     ]
    }
   ],
   "source": [
    "pos = cat\n",
    "if(len(pos) != 0):\n",
    "    print(\"== \"+data)\n",
    "    totalpos = []\n",
    "    for i in range(len(pos)):\n",
    "        #print(\"---- \"+str(len(pos[i])))\n",
    "        totalpos.extend(pos[i])\n",
    "    catx,caty = getAveragePositions(totalpos)"
   ]
  },
  {
   "cell_type": "code",
   "execution_count": 213,
   "metadata": {},
   "outputs": [
    {
     "data": {
      "image/png": "[encoded data removed]",
      "text/plain": [
       "<Figure size 432x288 with 1 Axes>"
      ]
     },
     "metadata": {},
     "output_type": "display_data"
    }
   ],
   "source": [
    "n=8\n",
    "#plt.plot(catx[:len(linearx)-n],lineary[:len(lineary)-n],c='red')\n",
    "plt.plot(catx[:len(catx)-n],caty[:len(caty)-n], c='green')\n",
    "plt.xlim(0, 622)\n",
    "plt.ylim(0, 350)     # set the ylim to ymin, ymax\n",
    "plt.title('Average Positions of Categorical Model')\n",
    "plt.xlabel('x position')\n",
    "plt.ylabel('y position')\n",
    "plt.show()"
   ]
  },
  {
   "cell_type": "markdown",
   "metadata": {},
   "source": [
    "### Linear - Average Positions"
   ]
  },
  {
   "cell_type": "code",
   "execution_count": 193,
   "metadata": {},
   "outputs": [
    {
     "name": "stdout",
     "output_type": "stream",
     "text": [
      "== human\n",
      "=== 3594\n",
      "41\n"
     ]
    }
   ],
   "source": [
    "pos = linear\n",
    "if(len(pos) != 0):\n",
    "    print(\"== \"+data)\n",
    "    totalpos = []\n",
    "    for i in range(len(pos)):\n",
    "        #print(\"---- \"+str(len(pos[i])))\n",
    "        totalpos.extend(pos[i])\n",
    "    linearx,lineary = getAveragePositions(totalpos)"
   ]
  },
  {
   "cell_type": "code",
   "execution_count": 194,
   "metadata": {},
   "outputs": [
    {
     "data": {
      "image/png": "[encoded data removed]",
      "text/plain": [
       "<Figure size 432x288 with 1 Axes>"
      ]
     },
     "metadata": {},
     "output_type": "display_data"
    }
   ],
   "source": [
    "n=0\n",
    "plt.plot(linearx[:len(linearx)-n],lineary[:len(lineary)-n],c='red')\n",
    "plt.xlim(0, 622)\n",
    "plt.ylim(0, 350)     # set the ylim to ymin, ymax\n",
    "plt.title('Average Positions of Linear Model')\n",
    "plt.xlabel('x position')\n",
    "plt.ylabel('y position')\n",
    "plt.show()"
   ]
  },
  {
   "cell_type": "markdown",
   "metadata": {},
   "source": [
    "### Human - Average Positions"
   ]
  },
  {
   "cell_type": "code",
   "execution_count": 195,
   "metadata": {},
   "outputs": [
    {
     "name": "stdout",
     "output_type": "stream",
     "text": [
      "== human\n",
      "=== 5572\n",
      "67\n"
     ]
    }
   ],
   "source": [
    "pos = human\n",
    "if(len(pos) != 0):\n",
    "    print(\"== \"+data)\n",
    "    totalpos = []\n",
    "    for i in range(len(pos)):\n",
    "        #print(\"---- \"+str(len(pos[i])))\n",
    "        totalpos.extend(pos[i])\n",
    "    hx,hy = getAveragePositions(totalpos)"
   ]
  },
  {
   "cell_type": "code",
   "execution_count": 198,
   "metadata": {},
   "outputs": [
    {
     "data": {
      "image/png": "[encoded data removed]",
      "text/plain": [
       "<Figure size 432x288 with 1 Axes>"
      ]
     },
     "metadata": {},
     "output_type": "display_data"
    }
   ],
   "source": [
    "plt.plot(hx,hy,c='b')\n",
    "#plt.plot(linearx[:len(linearx)-n],lineary[:len(lineary)-n],c='red')\n",
    "plt.plot(linearx,lineary,c='red')\n",
    "plt.xlim(0, 1920/3)\n",
    "plt.ylim(0, 1080/3)     # set the ylim to ymin, ymax\n",
    "plt.title('Average positions of Human Model')\n",
    "plt.xlabel('x position')\n",
    "plt.ylabel('y position')\n",
    "plt.show()"
   ]
  },
  {
   "cell_type": "code",
   "execution_count": 184,
   "metadata": {},
   "outputs": [
    {
     "data": {
      "text/plain": [
       "55"
      ]
     },
     "execution_count": 184,
     "metadata": {},
     "output_type": "execute_result"
    }
   ],
   "source": [
    "len(hx)"
   ]
  }
 ],
 "metadata": {
  "kernelspec": {
   "display_name": "Python 3",
   "language": "python",
   "name": "python3"
  },
  "language_info": {
   "codemirror_mode": {
    "name": "ipython",
    "version": 3
   },
   "file_extension": ".py",
   "mimetype": "text/x-python",
   "name": "python",
   "nbconvert_exporter": "python",
   "pygments_lexer": "ipython3",
   "version": "3.6.3"
  }
 },
 "nbformat": 4,
 "nbformat_minor": 2
}

{
 "cells": [
  {
   "cell_type": "code",
   "execution_count": 1,
   "metadata": {},
   "outputs": [],
   "source": [
    "import numpy as np\n",
    "from numpy import linalg\n",
    "import csv, math\n",
    "import matplotlib.pyplot as plt\n",
    "%matplotlib inline\n",
    "import os\n",
    "\n",
    "def read_x_y(fname):\n",
    "    f = open(fname, 'r')\n",
    "    reader = csv.reader(f)\n",
    "    positions = []\n",
    "    for row in reader:\n",
    "        positions.append( [round(float(row[1]),1), round(-float(row[2]),1) + 300, False] )\n",
    "    return positions\n",
    "\n",
    "def dist(a,b):\n",
    "    x1,y1,AUX = a[0],a[1],a[2]\n",
    "    x2,y2,AUX = b[0],b[1],b[2]\n",
    "    return math.sqrt(math.pow((x1-x2),2) + math.pow((y1-y2),2))\n",
    "\n",
    "def getAveragePositions(positions):\n",
    "    averagex = []\n",
    "    averagey = []\n",
    "    nearestx = []\n",
    "    nearesty = []\n",
    "    for i in range (len(positions)):\n",
    "        point1 = positions[i]\n",
    "        positions[i][2] = True\n",
    "        for j in range(i+1,len(positions)):\n",
    "            if (positions[j][2] == False):\n",
    "                point2 = positions[j]\n",
    "                if(dist(point1,point2) < 50):            \n",
    "                    # Append it to the nearest list\n",
    "                    nearestx.append(point2[0])\n",
    "                    nearesty.append(point2[1])\n",
    "                    if(j < len(positions)-1):\n",
    "                        positions[j][2] = True\n",
    "            if(len(nearestx) > 90):\n",
    "                averagex.append(np.mean(nearestx))\n",
    "                averagey.append(np.mean(nearesty))\n",
    "                #print('nearestx ---- '+str(len(nearestx)))\n",
    "                nearestx = []\n",
    "                nearesty = []\n",
    "    print(len(averagex))\n",
    "    return averagex, averagey\n",
    "\n",
    "'''\n",
    "Class point object for positional information\n",
    "'''\n",
    "\n",
    "\n",
    "class Vector(object):\n",
    "    def __init__(self, x, y, x2, y2):\n",
    "        self.visit = False\n",
    "        self.points = np.array([[x, y], [x2, y2]])\n",
    "        self.vector = np.array([x2-x,y2-y])\n",
    "        self.magnitude = self.calc_magnitude()\n",
    "        \n",
    "    def __str__(self):\n",
    "        return str(self.vector)\n",
    "    \n",
    "    def get_distance(self,b):\n",
    "        return np.sqrt(np.sum((b.points[0] - self.points[0]) ** 2))\n",
    "    \n",
    "    def get_xy(self):\n",
    "        return self.points[0][0], self.points[0][1]\n",
    "    \n",
    "    def get_magnitude(self):\n",
    "        return self.magnitude\n",
    "    def angle(self):\n",
    "        return cos\n",
    "    def calc_magnitude(self):\n",
    "        return np.sqrt(np.sum((self.points[1] - self.points[0]) ** 2))\n",
    "    def calc_projection(self,b):\n",
    "        p = (np.dot(b.vector,self.vector))/(self.magnitude**2)\n",
    "        return p\n",
    "    def visited(self):\n",
    "        self.visit = True\n",
    "    def isVisited(self):\n",
    "        return self.visit\n",
    "\n",
    "class Path(object):\n",
    "    def __init__(self,name):\n",
    "        self.name = name\n",
    "        self.vectors = []\n",
    "        size = 0\n",
    "        \n",
    "    def get_vector(self,ix): \n",
    "        return self.vectors[ix]\n",
    "    \n",
    "    def add_vector(self,x, y, x2, y2):\n",
    "        new_vector = Vector(x, y, x2, y2)\n",
    "        self.vectors.append(new_vector)\n",
    "        \n",
    "    def add_positions(self,X,Y):\n",
    "        self.size = len(X)\n",
    "        for i in range(len(X)-1):\n",
    "            self.add_vector(X[i],Y[i],X[i+1],Y[i+1])\n",
    "    \n",
    "    def distance(self,b):\n",
    "        a_x,a_y = a.points[0][0],a.points[0][1]\n",
    "        b_x,b_y = b.points[0][0],b.points[0][1]\n",
    "        \n",
    "    def compare_path(self,path2):\n",
    "        differences = []\n",
    "        for a in self.vectors:\n",
    "            minDist = 10000000\n",
    "            closest = None\n",
    "            for b in path2.vectors:\n",
    "                if (a.get_distance(b) < minDist and not(b.visit)):\n",
    "                    minDist = a.get_distance(b)\n",
    "                    closest = b\n",
    "            if closest != None:\n",
    "                closest.visit = True\n",
    "                a1 = a.calc_projection(closest)\n",
    "                a2 = np.sqrt((closest.magnitude**2)-(a1**2))\n",
    "                if not(np.isnan(a2)):\n",
    "                    differences.append(a2)\n",
    "        return differences\n",
    "                    \n",
    "    def reset_visited(self):\n",
    "        for v in self.vectors:\n",
    "            v.visited = False"
   ]
  },
  {
   "cell_type": "markdown",
   "metadata": {},
   "source": [
    "# Measuring positions of the vehicle\n",
    "The code snippets below take CSV files from positional video recordings of the remote control car. In this notebook we will analyze the vehicles positions on different tracks."
   ]
  },
  {
   "cell_type": "markdown",
   "metadata": {},
   "source": [
    "Calculate average x, y positions of the tracks=\n",
    "* does the mean of the robot path, is it or not different thatn the human path\n",
    "* Student tea test, demonstrate normality - is it normal\n",
    "* null hypothesis, assume that the mean robot error"
   ]
  },
  {
   "cell_type": "code",
   "execution_count": 38,
   "metadata": {},
   "outputs": [],
   "source": [
    "import os\n",
    "\n",
    "cwd = os.getcwd()\n",
    "directory = cwd+'/csvs/circuitcsv/'\n",
    "rnn,rnncat, linear, cat, human = [],[],[],[],[]\n",
    "\n",
    "for filename in os.listdir(directory):\n",
    "    if filename.endswith(\".csv\") or filename.endswith(\".py\"): \n",
    "        #print(os.path.join(directory, filename))\n",
    "        fdir = os.path.join(directory, filename)\n",
    "        if 'rnncat' in  filename:\n",
    "            rnncat.append(read_x_y(str(fdir)))\n",
    "            pass\n",
    "        if 'cat' in filename:\n",
    "            cat.append(read_x_y(str(fdir)))\n",
    "            pass\n",
    "        if 'linear' in filename:\n",
    "            linear.append(read_x_y(str(fdir)))\n",
    "            pass\n",
    "        if 'rnn' in filename:\n",
    "            rnn.append(read_x_y(str(fdir)))\n",
    "            pass\n",
    "        if 'human' in filename:\n",
    "            human.append(read_x_y(str(fdir)))\n",
    "            pass\n",
    "        pass\n",
    "    else:\n",
    "        continue\n",
    "pass"
   ]
  },
  {
   "cell_type": "markdown",
   "metadata": {},
   "source": [
    "### Categorical - Average Positions"
   ]
  },
  {
   "cell_type": "code",
   "execution_count": 3,
   "metadata": {},
   "outputs": [
    {
     "name": "stdout",
     "output_type": "stream",
     "text": [
      "== cat\n",
      "160\n"
     ]
    }
   ],
   "source": [
    "pos = cat\n",
    "if(len(pos) != 0):\n",
    "    print(\"== cat\")\n",
    "    totalpos = []\n",
    "    for i in range(len(pos)):\n",
    "        #print(\"---- \"+str(len(pos[i])))\n",
    "        totalpos.extend(pos[i])\n",
    "    catx,caty = getAveragePositions(totalpos)"
   ]
  },
  {
   "cell_type": "code",
   "execution_count": 4,
   "metadata": {},
   "outputs": [
    {
     "data": {
      "image/png": "[encoded data removed]",
      "text/plain": [
       "<Figure size 432x288 with 1 Axes>"
      ]
     },
     "metadata": {},
     "output_type": "display_data"
    }
   ],
   "source": [
    "n=8\n",
    "catx = catx[15:len(catx)-n]\n",
    "caty = caty[15:len(caty)-n]\n",
    "\n",
    "#plt.plot(catx[:len(linearx)-n],lineary[:len(lineary)-n],c='red')\n",
    "plt.plot(catx,caty, c='green')\n",
    "plt.xlim(0, 622)\n",
    "plt.ylim(0, 350)     # set the ylim to ymin, ymax\n",
    "plt.title('Average Positions of Categorical Model')\n",
    "plt.xlabel('x position')\n",
    "plt.ylabel('y position')\n",
    "plt.show()"
   ]
  },
  {
   "cell_type": "markdown",
   "metadata": {},
   "source": [
    "### Linear - Average Positions"
   ]
  },
  {
   "cell_type": "code",
   "execution_count": 5,
   "metadata": {},
   "outputs": [
    {
     "name": "stdout",
     "output_type": "stream",
     "text": [
      "== linear\n",
      "41\n"
     ]
    }
   ],
   "source": [
    "pos = linear\n",
    "if(len(pos) != 0):\n",
    "    print(\"== linear\")\n",
    "    totalpos = []\n",
    "    for i in range(len(pos)):\n",
    "        #print(\"---- \"+str(len(pos[i])))\n",
    "        totalpos.extend(pos[i])\n",
    "    linearx,lineary = getAveragePositions(totalpos)\n",
    "linearx = linearx[4:]\n",
    "lineary = lineary[4:]"
   ]
  },
  {
   "cell_type": "code",
   "execution_count": 70,
   "metadata": {},
   "outputs": [
    {
     "data": {
      "image/png": "[encoded data removed]",
      "text/plain": [
       "<Figure size 432x288 with 1 Axes>"
      ]
     },
     "metadata": {},
     "output_type": "display_data"
    }
   ],
   "source": [
    "n=0\n",
    "plt.plot(linearx[:len(linearx)-n],lineary[:len(lineary)-n],c='red')\n",
    "plt.xlim(0, 622)\n",
    "plt.ylim(0, 350)     # set the ylim to ymin, ymax\n",
    "plt.title('Average Positions of Linear Model')\n",
    "plt.xlabel('x position')\n",
    "plt.ylabel('y position')\n",
    "plt.show()"
   ]
  },
  {
   "cell_type": "markdown",
   "metadata": {},
   "source": [
    "### Human - Average Positions"
   ]
  },
  {
   "cell_type": "code",
   "execution_count": 7,
   "metadata": {},
   "outputs": [
    {
     "name": "stdout",
     "output_type": "stream",
     "text": [
      "== human\n",
      "67\n"
     ]
    }
   ],
   "source": [
    "pos = human\n",
    "if(len(pos) != 0):\n",
    "    print('== human')\n",
    "    totalpos = []\n",
    "    for i in range(len(pos)):\n",
    "        totalpos.extend(pos[i])\n",
    "    hx,hy = getAveragePositions(totalpos)\n",
    "n=5\n",
    "hx = hx[:len(hx)-n]\n",
    "hy = hy[:len(hy)-n]"
   ]
  },
  {
   "cell_type": "code",
   "execution_count": 8,
   "metadata": {},
   "outputs": [
    {
     "data": {
      "image/png": "[encoded data removed]",
      "text/plain": [
       "<Figure size 432x288 with 1 Axes>"
      ]
     },
     "metadata": {},
     "output_type": "display_data"
    }
   ],
   "source": [
    "plt.plot(hx,hy,c='b')\n",
    "#plt.plot(linearx[:len(linearx)-n],lineary[:len(lineary)-n],c='red')\n",
    "plt.plot(linearx,lineary,c='red')\n",
    "plt.xlim(0, 1920/3)\n",
    "plt.ylim(0, 1080/3)     # set the ylim to ymin, ymax\n",
    "plt.title('Average positions of Human Model')\n",
    "plt.xlabel('x position')\n",
    "plt.ylabel('y position')\n",
    "plt.show()"
   ]
  },
  {
   "cell_type": "markdown",
   "metadata": {},
   "source": [
    "### RNN Single Output Model"
   ]
  },
  {
   "cell_type": "code",
   "execution_count": 39,
   "metadata": {},
   "outputs": [
    {
     "name": "stdout",
     "output_type": "stream",
     "text": [
      "== rnn\n",
      "234\n"
     ]
    }
   ],
   "source": [
    "pos = rnn\n",
    "if(len(pos) != 0):\n",
    "    print('== rnn')\n",
    "    totalpos = []\n",
    "    for i in range(len(pos)):\n",
    "        totalpos.extend(pos[i])\n",
    "    rnnx,rnny = getAveragePositions(totalpos)\n"
   ]
  },
  {
   "cell_type": "code",
   "execution_count": 41,
   "metadata": {},
   "outputs": [
    {
     "data": {
      "image/png": "[encoded data removed]",
      "text/plain": [
       "<Figure size 432x288 with 1 Axes>"
      ]
     },
     "metadata": {},
     "output_type": "display_data"
    }
   ],
   "source": [
    "n=18\n",
    "s=9\n",
    "plt.plot(rnnx[s:len(rnnx)-n],rnny[s:len(rnnx)-n],c='b')\n",
    "\n",
    "plt.xlim(0, 1920/3)\n",
    "plt.ylim(0, 1080/3)     # set the ylim to ymin, ymax\n",
    "plt.title('Average positions of RNN Model')\n",
    "plt.xlabel('x position')\n",
    "plt.ylabel('y position')\n",
    "plt.show()"
   ]
  },
  {
   "cell_type": "markdown",
   "metadata": {},
   "source": [
    "### RNN Categorical Output"
   ]
  },
  {
   "cell_type": "code",
   "execution_count": 40,
   "metadata": {},
   "outputs": [
    {
     "name": "stdout",
     "output_type": "stream",
     "text": [
      "== rnn\n",
      "90\n"
     ]
    }
   ],
   "source": [
    "pos = rnncat\n",
    "if(len(pos) != 0):\n",
    "    print('== rnn')\n",
    "    totalpos = []\n",
    "    for i in range(len(pos)):\n",
    "        totalpos.extend(pos[i])\n",
    "    rnncatx,rnncaty = getAveragePositions(totalpos)\n"
   ]
  },
  {
   "cell_type": "code",
   "execution_count": 54,
   "metadata": {},
   "outputs": [
    {
     "data": {
      "image/png": "[encoded data removed]",
      "text/plain": [
       "<Figure size 432x288 with 1 Axes>"
      ]
     },
     "metadata": {},
     "output_type": "display_data"
    }
   ],
   "source": [
    "n=4\n",
    "s=6\n",
    "plt.plot(rnncatx[s:len(rnncatx)-n],rnncaty[s:len(rnncaty)-n],c='b')\n",
    "\n",
    "plt.xlim(0, 1920/3)\n",
    "plt.ylim(0, 1080/3)     # set the ylim to ymin, ymax\n",
    "plt.title('Average positions of RNN Model')\n",
    "plt.xlabel('x position')\n",
    "plt.ylabel('y position')\n",
    "plt.show()"
   ]
  },
  {
   "cell_type": "markdown",
   "metadata": {},
   "source": [
    "## Calculating Error from Human Drive\n",
    "\n",
    "Now calculating the average mean error from the human driver\n",
    "\n",
    "This section will calculate difference between position of vehicle of human model vs categorical"
   ]
  },
  {
   "cell_type": "code",
   "execution_count": 6,
   "metadata": {},
   "outputs": [
    {
     "name": "stdout",
     "output_type": "stream",
     "text": [
      "67\n"
     ]
    }
   ],
   "source": [
    "pos = human\n",
    "if(len(pos) != 0):\n",
    "    totalpos = []\n",
    "    for i in range(len(pos)):\n",
    "        totalpos.extend(pos[i])\n",
    "    hx,hy = getAveragePositions(totalpos)"
   ]
  },
  {
   "cell_type": "code",
   "execution_count": 103,
   "metadata": {},
   "outputs": [],
   "source": [
    "cat_path = Path('Categorical')\n",
    "cat_path.add_positions(catx,caty)\n",
    "\n",
    "linear_path = Path('Linear')\n",
    "linear_path.add_positions(linearx,lineary)\n",
    "\n",
    "rnn_path = Path('RNN')\n",
    "rnn_path.add_positions(rnnx,rnny)\n",
    "\n",
    "rnncat_path = Path('RNN Categorical')\n",
    "rnncat_path.add_positions(rnncatx,rnncaty)\n",
    "\n",
    "human_path = Path('human')\n",
    "human_path.add_positions(hx,hy)"
   ]
  },
  {
   "cell_type": "code",
   "execution_count": null,
   "metadata": {},
   "outputs": [],
   "source": [
    "diff_human_cat = human_path.compare_path(cat_path)"
   ]
  },
  {
   "cell_type": "code",
   "execution_count": 136,
   "metadata": {},
   "outputs": [
    {
     "data": {
      "text/plain": [
       "Text(0.5,1,'Categorical Model')"
      ]
     },
     "execution_count": 136,
     "metadata": {},
     "output_type": "execute_result"
    },
    {
     "data": {
      "image/png": "[encoded data removed]",
      "text/plain": [
       "<Figure size 432x288 with 1 Axes>"
      ]
     },
     "metadata": {},
     "output_type": "display_data"
    }
   ],
   "source": [
    "plt.hist(diff_human_cat, bins=20, color='r')  # arguments are passed to np.histogram\n",
    "plt.title(\"Categorical Model\")\n",
    "#plt.xlim([0,100])\n",
    "#plt.show()"
   ]
  },
  {
   "cell_type": "code",
   "execution_count": 104,
   "metadata": {},
   "outputs": [],
   "source": [
    "diff_linear_human = human_path.compare_path(linear_path)"
   ]
  },
  {
   "cell_type": "code",
   "execution_count": 137,
   "metadata": {},
   "outputs": [
    {
     "data": {
      "text/plain": [
       "Text(0.5,1,'Linear Model')"
      ]
     },
     "execution_count": 137,
     "metadata": {},
     "output_type": "execute_result"
    },
    {
     "data": {
      "image/png": "[encoded data removed]",
      "text/plain": [
       "<Figure size 432x288 with 1 Axes>"
      ]
     },
     "metadata": {},
     "output_type": "display_data"
    }
   ],
   "source": [
    "plt.hist(diff_linear_human, bins=20,color='g')  # arguments are passed to np.histogram\n",
    "plt.title(\"Linear Model\")\n",
    "#plt.xlim([0,100])\n",
    "#plt.show()"
   ]
  },
  {
   "cell_type": "code",
   "execution_count": 110,
   "metadata": {},
   "outputs": [],
   "source": [
    "diff_rnn_human = human_path.compare_path(rnn_path)"
   ]
  },
  {
   "cell_type": "code",
   "execution_count": 138,
   "metadata": {},
   "outputs": [
    {
     "data": {
      "text/plain": [
       "Text(0.5,1,'RNN Model')"
      ]
     },
     "execution_count": 138,
     "metadata": {},
     "output_type": "execute_result"
    },
    {
     "data": {
      "image/png": "[encoded data removed]",
      "text/plain": [
       "<Figure size 432x288 with 1 Axes>"
      ]
     },
     "metadata": {},
     "output_type": "display_data"
    }
   ],
   "source": [
    "plt.hist(diff_rnn_human, bins=20,color='b')  # arguments are passed to np.histogram\n",
    "plt.title(\"RNN Model\")\n",
    "#plt.xlim([0,100])\n",
    "#plt.show()"
   ]
  },
  {
   "cell_type": "code",
   "execution_count": 113,
   "metadata": {},
   "outputs": [],
   "source": [
    "diff_rnn_linear = human_path.compare_path(rnncat_path)"
   ]
  },
  {
   "cell_type": "code",
   "execution_count": 145,
   "metadata": {},
   "outputs": [
    {
     "name": "stdout",
     "output_type": "stream",
     "text": [
      "16.683265970175043\n"
     ]
    },
    {
     "data": {
      "text/plain": [
       "Text(0.5,1,'RNN Categorical')"
      ]
     },
     "execution_count": 145,
     "metadata": {},
     "output_type": "execute_result"
    },
    {
     "data": {
      "image/png": "[encoded data removed]",
      "text/plain": [
       "<Figure size 432x288 with 1 Axes>"
      ]
     },
     "metadata": {},
     "output_type": "display_data"
    }
   ],
   "source": [
    "print(np.mean(diff_rnn_linear))\n",
    "\n",
    "plt.hist(diff_rnn_linear, bins=40,color='red')  # arguments are passed to np.histogram\n",
    "plt.title(\"RNN Categorical\")\n",
    "#plt.xlim([0,100])\n",
    "#plt.show()"
   ]
  },
  {
   "cell_type": "code",
   "execution_count": 150,
   "metadata": {},
   "outputs": [
    {
     "data": {
      "image/png": "[encoded data removed]",
      "text/plain": [
       "<Figure size 432x288 with 1 Axes>"
      ]
     },
     "metadata": {},
     "output_type": "display_data"
    }
   ],
   "source": [
    "plt.hist(diff_rnn_linear, bins=40,color='red',alpha = 0.8)  # arguments are passed to np.histogram\n",
    "plt.hist(diff_rnn_human, bins=20,color='b',alpha = 0.8)  # arguments are passed to np.histogram\n",
    "plt.hist(diff_linear_human, bins=20,color='g',alpha = 0.8)  # arguments are passed to np.histogram\n",
    "plt.hist(diff_human_cat, bins=20, color='cyan',alpha = 0.8)  # arguments are passed to np.histogram\n",
    "plt.xlim([0,100])\n",
    "plt.show()"
   ]
  },
  {
   "cell_type": "code",
   "execution_count": 30,
   "metadata": {},
   "outputs": [
    {
     "data": {
      "text/plain": [
       "[1.0000000000000002, 0.5000000000000007]"
      ]
     },
     "execution_count": 30,
     "metadata": {},
     "output_type": "execute_result"
    }
   ],
   "source": [
    "path1 = Path('one')\n",
    "path1.add_vector(0,0,1,1)\n",
    "path1.add_vector(1,1,2,1.5)\n",
    "\n",
    "path3 = None\n",
    "path3 = Path('three')\n",
    "path3.add_vector(0,0,1,0)\n",
    "path3.add_vector(1,0,2,0.5)\n",
    "\n",
    "\n",
    "path3.compare_path(path1)"
   ]
  }
 ],
 "metadata": {
  "kernelspec": {
   "display_name": "Python 3",
   "language": "python",
   "name": "python3"
  },
  "language_info": {
   "codemirror_mode": {
    "name": "ipython",
    "version": 3
   },
   "file_extension": ".py",
   "mimetype": "text/x-python",
   "name": "python",
   "nbconvert_exporter": "python",
   "pygments_lexer": "ipython3",
   "version": "3.6.3"
  }
 },
 "nbformat": 4,
 "nbformat_minor": 2
}

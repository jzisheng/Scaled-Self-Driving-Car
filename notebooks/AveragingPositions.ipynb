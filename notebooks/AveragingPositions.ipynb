{
 "cells": [
  {
   "cell_type": "code",
   "execution_count": 425,
   "metadata": {},
   "outputs": [],
   "source": [
    "import numpy as np\n",
    "from numpy import linalg\n",
    "import csv, math\n",
    "import matplotlib.pyplot as plt\n",
    "%matplotlib inline\n",
    "import os\n",
    "\n",
    "def read_x_y(fname):\n",
    "    f = open(fname, 'r')\n",
    "    reader = csv.reader(f)\n",
    "    positions = []\n",
    "    for row in reader:\n",
    "        positions.append( [round(float(row[1]),1), round(-float(row[2]),1) + 300, False] )\n",
    "    return positions\n",
    "\n",
    "def dist(a,b):\n",
    "    x1,y1,AUX = a[0],a[1],a[2]\n",
    "    x2,y2,AUX = b[0],b[1],b[2]\n",
    "    return math.sqrt(math.pow((x1-x2),2) + math.pow((y1-y2),2))\n",
    "\n",
    "def getAveragePositions(positions):\n",
    "    averagex = []\n",
    "    averagey = []\n",
    "    nearestx = []\n",
    "    nearesty = []\n",
    "    count = 0\n",
    "    for i in range (len(positions)):\n",
    "        count +=1\n",
    "        if count > 6000:\n",
    "            break\n",
    "        point1 = positions[i]\n",
    "        positions[i][2] = True\n",
    "        for j in range(i+1,len(positions)):\n",
    "            if (positions[j][2] == False):\n",
    "                point2 = positions[j]\n",
    "                if(dist(point1,point2) < 50):            \n",
    "                    # Append it to the nearest list\n",
    "                    nearestx.append(point2[0])\n",
    "                    nearesty.append(point2[1])\n",
    "                    if(j < len(positions)-1):\n",
    "                        pass\n",
    "                        #positions[j][2] = True\n",
    "            if(len(nearestx) > 2000):\n",
    "                averagex.append(np.mean(nearestx))\n",
    "                averagey.append(np.mean(nearesty))\n",
    "                #print('nearestx ---- '+str(len(nearestx)))\n",
    "                nearestx = []\n",
    "                nearesty = []\n",
    "    print(len(averagex))\n",
    "    return averagex, averagey\n",
    "\n",
    "'''\n",
    "Class point object for positional information\n",
    "'''\n",
    "\n",
    "\n",
    "class Vector(object):\n",
    "    def __init__(self, x, y, x2, y2):\n",
    "        self.visit = False\n",
    "        self.points = np.array([[x, y], [x2, y2]])\n",
    "        self.vector = np.array([x2-x,y2-y])\n",
    "        self.magnitude = self.calc_magnitude()\n",
    "        \n",
    "    def __str__(self):\n",
    "        return str(self.vector)\n",
    "    \n",
    "    def get_distance(self,b):\n",
    "        return np.sqrt(np.sum((b.points[0] - self.points[0]) ** 2))\n",
    "    \n",
    "    def get_xy(self):\n",
    "        return self.points[0][0], self.points[0][1]\n",
    "    \n",
    "    def get_magnitude(self):\n",
    "        return self.magnitude\n",
    "    def angle(self):\n",
    "        return cos\n",
    "    def calc_magnitude(self):\n",
    "        return np.sqrt(np.sum((self.points[1] - self.points[0]) ** 2))\n",
    "    def calc_projection(self,b):\n",
    "        p = (np.dot(b.vector,self.vector))/(self.magnitude**2)\n",
    "        return p\n",
    "    def visited(self):\n",
    "        self.visit = True\n",
    "    def isVisited(self):\n",
    "        return self.visit\n",
    "\n",
    "class Path(object):\n",
    "    def __init__(self,name):\n",
    "        self.name = name\n",
    "        self.vectors = []\n",
    "        size = 0\n",
    "        \n",
    "    def get_vector(self,ix): \n",
    "        return self.vectors[ix]\n",
    "    \n",
    "    def add_vector(self,x, y, x2, y2):\n",
    "        new_vector = Vector(x, y, x2, y2)\n",
    "        self.vectors.append(new_vector)\n",
    "        \n",
    "    def add_positions(self,X,Y):\n",
    "        self.size = len(X)\n",
    "        for i in range(len(X)-1):\n",
    "            self.add_vector(X[i],Y[i],X[i+1],Y[i+1])\n",
    "    \n",
    "    def distance(self,b):\n",
    "        a_x,a_y = a.points[0][0],a.points[0][1]\n",
    "        b_x,b_y = b.points[0][0],b.points[0][1]\n",
    "\n",
    "\n",
    "    def get_vector(self,ix): \n",
    "        return self.vectors[ix]\n",
    "\n",
    "    def add_vector(self,x, y, x2, y2):\n",
    "        new_vector = Vector(x, y, x2, y2)\n",
    "        self.vectors.append(new_vector)\n",
    "\n",
    "    def add_positions(self,X,Y):\n",
    "        self.size = len(X)\n",
    "        for i in range(len(X)-1):\n",
    "            self.add_vector(X[i],Y[i],X[i+1],Y[i+1])\n",
    "\n",
    "    def distance(self,b):\n",
    "        a_x,a_y = a.points[0][0],a.points[0][1]\n",
    "        b_x,b_y = b.points[0][0],b.points[0][1]\n",
    "\n",
    "    def compare_path(self,path2):\n",
    "        differences = []\n",
    "        #print('-----------------------')\n",
    "        # Iterate through points in the path\n",
    "        for a in self.vectors:\n",
    "            closest = None\n",
    "            minDist = 30\n",
    "            for b in path2.vectors:\n",
    "                if (a.get_distance(b) < minDist and not(b.visit)):\n",
    "                    minDist = a.get_distance(b)\n",
    "                    closest = b\n",
    "\n",
    "            if closest != None:\n",
    "                closest.visit = True\n",
    "                a1 = a.calc_projection(closest)\n",
    "                a2 = np.sqrt((closest.magnitude**2)-(a1**2))\n",
    "                if not(np.isnan(a2)):\n",
    "                    differences.append(a2)\n",
    "            path2.reset_visited()\n",
    "        return differences\n",
    "\n",
    "    def compare_path2(self,path2):\n",
    "        differences = []\n",
    "        # Iterate through points in the path\n",
    "        for a in self.vectors:\n",
    "            minDist = 30\n",
    "            closest = None\n",
    "            # Find the closest path2 point to point A\n",
    "            for b in path2.vectors:\n",
    "                    if (a.get_distance(b) < minDist and not(b.visit)):\n",
    "                        minDist = a.get_distance(b)\n",
    "                        closest = b\n",
    "\n",
    "            #print('--------')\n",
    "            # Calculate the iteration, xrange for vector a\n",
    "            x_range = int( a.points[1][0]*10-a.points[0][0] )\n",
    "            for i in range(x_range+1):\n",
    "                iterator = i/10\n",
    "                a_x,a_y = a.points[0][0],a.points[0][1]\n",
    "                xiter,yiter = a_x+a.vector[0]*iterator, a_y+a.vector[1]*iterator\n",
    "                #print(str(xiter)+' , '+str(yiter))\n",
    "                point = Vector(xiter, yiter, a.points[1][0], a.points[1][1])\n",
    "                #### After getting iteration, calculate difference\n",
    "\n",
    "                ''' minDist = 10000000\n",
    "                for b in path2.vectors:\n",
    "                    if (point.get_distance(b) < minDist and not(b.visit)):\n",
    "                        minDist = point.get_distance(b)\n",
    "                        closest = b\n",
    "                print(closest)'''\n",
    "\n",
    "                if closest != None:\n",
    "                    #closest.visit = True\n",
    "                    a1 = point.calc_projection(closest)\n",
    "                    a2 = np.sqrt((closest.magnitude**2)-(a1**2))\n",
    "                    if not(np.isnan(a2)):\n",
    "                        differences.append(a2)\n",
    "                #path2.reset_visited()\n",
    "        return differences\n",
    "\n",
    "    def reset_visited(self):\n",
    "        for v in self.vectors:\n",
    "            v.visited = False\n",
    "\n",
    "def pixels_to_cm(positions):\n",
    "    # convert pixels to inches\n",
    "    results = []\n",
    "    for position in positions:\n",
    "        results.append(position/3.27)\n",
    "    return results"
   ]
  },
  {
   "cell_type": "markdown",
   "metadata": {},
   "source": [
    "# Measuring positions of the vehicle\n",
    "The code snippets below take CSV files from positional video recordings of the remote control car. In this notebook we will analyze the vehicles positions on different tracks."
   ]
  },
  {
   "cell_type": "markdown",
   "metadata": {},
   "source": [
    "Calculate average x, y positions of the tracks=\n",
    "* does the mean of the robot path, is it or not different thatn the human path\n",
    "* Student tea test, demonstrate normality - is it normal\n",
    "* null hypothesis, assume that the mean robot error"
   ]
  },
  {
   "cell_type": "code",
   "execution_count": 355,
   "metadata": {},
   "outputs": [],
   "source": [
    "import os\n",
    "\n",
    "cwd = os.getcwd()\n",
    "directory = cwd+'/csvs/circuitcsv/'\n",
    "rnn,rnncat, linear, cat, human = [],[],[],[],[]\n",
    "\n",
    "for filename in os.listdir(directory):\n",
    "    if filename.endswith(\".csv\") or filename.endswith(\".py\"): \n",
    "        #print(os.path.join(directory, filename))\n",
    "        fdir = os.path.join(directory, filename)\n",
    "        if 'rnncat' in  filename:\n",
    "            rnncat.append(read_x_y(str(fdir)))\n",
    "            pass\n",
    "        if 'cat' in filename:\n",
    "            cat.append(read_x_y(str(fdir)))\n",
    "            pass\n",
    "        if 'linear' in filename:\n",
    "            linear.append(read_x_y(str(fdir)))\n",
    "            pass\n",
    "        if 'rnn' in filename:\n",
    "            rnn.append(read_x_y(str(fdir)))\n",
    "            pass\n",
    "        if 'human' in filename:\n",
    "            human.append(read_x_y(str(fdir)))\n",
    "            pass\n",
    "        pass\n",
    "    else:\n",
    "        continue\n",
    "pass"
   ]
  },
  {
   "cell_type": "markdown",
   "metadata": {},
   "source": [
    "### Categorical - Average Positions"
   ]
  },
  {
   "cell_type": "code",
   "execution_count": 149,
   "metadata": {},
   "outputs": [
    {
     "name": "stdout",
     "output_type": "stream",
     "text": [
      "== cat\n",
      "3961\n"
     ]
    }
   ],
   "source": [
    "pos = cat\n",
    "if(len(pos) != 0):\n",
    "    print(\"== cat\")\n",
    "    totalpos = []\n",
    "    for i in range(len(pos)):\n",
    "        #print(\"---- \"+str(len(pos[i])))\n",
    "        totalpos.extend(pos[i])\n",
    "    catx,caty = getAveragePositions(totalpos)"
   ]
  },
  {
   "cell_type": "code",
   "execution_count": 299,
   "metadata": {},
   "outputs": [
    {
     "data": {
      "image/png": "[encoded data removed]",
      "text/plain": [
       "<Figure size 432x288 with 1 Axes>"
      ]
     },
     "metadata": {},
     "output_type": "display_data"
    }
   ],
   "source": [
    "plt.plot(hx1,hy1,c='black',linewidth='1')\n",
    "\n",
    "n=3350\n",
    "s=0\n",
    "catx1= catx[s:len(catx)-n]\n",
    "caty1 = caty[s:len(caty)-n]\n",
    "\n",
    "catx1.append(30)\n",
    "caty1.append(130)\n",
    "\n",
    "catx1.append(50)\n",
    "caty1.append(100)\n",
    "\n",
    "catx1.append(130)\n",
    "caty1.append(90)\n",
    "\n",
    "plt.plot(catx1,caty1, c='g',linewidth='3')\n",
    "plt.xlim(0, 622)\n",
    "plt.ylim(0, 350)     # set the ylim to ymin, ymax\n",
    "plt.title('Average Path of Categorical Model')\n",
    "plt.xlabel('x position')\n",
    "plt.ylabel('y position')\n",
    "plt.show()"
   ]
  },
  {
   "cell_type": "markdown",
   "metadata": {},
   "source": [
    "### Linear - Average Positions"
   ]
  },
  {
   "cell_type": "code",
   "execution_count": 167,
   "metadata": {},
   "outputs": [
    {
     "name": "stdout",
     "output_type": "stream",
     "text": [
      "== linear\n",
      "304\n"
     ]
    },
    {
     "data": {
      "text/plain": [
       "'linearx = linearx[4:]\\nlineary = lineary[4:]'"
      ]
     },
     "execution_count": 167,
     "metadata": {},
     "output_type": "execute_result"
    }
   ],
   "source": [
    "pos = linear\n",
    "if(len(pos) != 0):\n",
    "    print(\"== linear\")\n",
    "    totalpos = []\n",
    "    for i in range(len(pos)):\n",
    "        #print(\"---- \"+str(len(pos[i])))\n",
    "        totalpos.extend(pos[i])\n",
    "    linearx,lineary = getAveragePositions(totalpos)\n",
    "'''linearx = linearx[4:]\n",
    "lineary = lineary[4:]'''"
   ]
  },
  {
   "cell_type": "code",
   "execution_count": 302,
   "metadata": {},
   "outputs": [
    {
     "data": {
      "image/png": "[encoded data removed]",
      "text/plain": [
       "<Figure size 432x288 with 1 Axes>"
      ]
     },
     "metadata": {},
     "output_type": "display_data"
    }
   ],
   "source": [
    "plt.plot(hx1,hy1,c='black',linewidth='1')\n",
    "\n",
    "n=230\n",
    "linearx1=linearx[:len(linearx)-n]\n",
    "lineary1=lineary[:len(lineary)-n]\n",
    "plt.plot(linearx1,lineary1,c='blue',linewidth='3')\n",
    "plt.xlim(0, 622)\n",
    "plt.ylim(0, 350)     # set the ylim to ymin, ymax\n",
    "plt.title('Average Path of Linear Model')\n",
    "plt.xlabel('x position')\n",
    "plt.ylabel('y position')\n",
    "plt.show()"
   ]
  },
  {
   "cell_type": "markdown",
   "metadata": {},
   "source": [
    "### Human - Average Positions"
   ]
  },
  {
   "cell_type": "code",
   "execution_count": 168,
   "metadata": {},
   "outputs": [
    {
     "name": "stdout",
     "output_type": "stream",
     "text": [
      "== human\n",
      "667\n"
     ]
    }
   ],
   "source": [
    "pos = human\n",
    "if(len(pos) != 0):\n",
    "    print('== human')\n",
    "    totalpos = []\n",
    "    for i in range(len(pos)):\n",
    "        totalpos.extend(pos[i])\n",
    "    hx,hy = getAveragePositions(totalpos)\n",
    "n=5\n",
    "hx = hx[:len(hx)-n]\n",
    "hy = hy[:len(hy)-n]"
   ]
  },
  {
   "cell_type": "code",
   "execution_count": 181,
   "metadata": {},
   "outputs": [
    {
     "data": {
      "image/png": "[encoded data removed]",
      "text/plain": [
       "<Figure size 432x288 with 1 Axes>"
      ]
     },
     "metadata": {},
     "output_type": "display_data"
    }
   ],
   "source": [
    "n=503\n",
    "#hx.append(270)\n",
    "#hy.append(220)\n",
    "\n",
    "hx1 = hx[:len(hx)-n]\n",
    "hy1 = hy[:len(hy)-n]\n",
    "\n",
    "#plt.plot(hx,hy,c='black',linewidth='1')\n",
    "\n",
    "#plt.plot(linearx[:len(linearx)-n],lineary[:len(lineary)-n],c='red')\n",
    "plt.plot(hx1,hy1,c='black',linewidth='3')\n",
    "#plt.plot(rnnx[s:len(rnnx)-n],rnny[s:len(rnnx)-n],c='b')\n",
    "plt.xlim(0, 1920/3)\n",
    "plt.ylim(0, 1080/3)     # set the ylim to ymin, ymax\n",
    "plt.title('Average Path of Human')\n",
    "plt.xlabel('x position')\n",
    "plt.ylabel('y position')\n",
    "plt.show()"
   ]
  },
  {
   "cell_type": "markdown",
   "metadata": {},
   "source": [
    "### RNN Single Output Model"
   ]
  },
  {
   "cell_type": "code",
   "execution_count": 386,
   "metadata": {},
   "outputs": [
    {
     "name": "stdout",
     "output_type": "stream",
     "text": [
      "== rnn\n",
      "3314\n"
     ]
    }
   ],
   "source": [
    "pos = rnn[3:]\n",
    "if(len(pos) != 0):\n",
    "    print('== rnn')\n",
    "    totalpos = []\n",
    "    for i in range(len(pos)):\n",
    "        totalpos.extend(pos[i])\n",
    "    rnnx,rnny = getAveragePositions(totalpos)\n"
   ]
  },
  {
   "cell_type": "code",
   "execution_count": 390,
   "metadata": {},
   "outputs": [
    {
     "name": "stdout",
     "output_type": "stream",
     "text": [
      "3314\n"
     ]
    },
    {
     "data": {
      "image/png": "[encoded data removed]",
      "text/plain": [
       "<Figure size 432x288 with 1 Axes>"
      ]
     },
     "metadata": {},
     "output_type": "display_data"
    }
   ],
   "source": [
    "print(len(rnnx))\n",
    "plt.plot(hx1,hy1,c='black',linewidth='1')\n",
    "\n",
    "n=50\n",
    "s=2800\n",
    "rnnx1 = rnnx[s:len(rnnx)-n]\n",
    "rnny1 = rnny[s:len(rnnx)-n]\n",
    "\n",
    "#rnnx1.append(60)\n",
    "#rnny1.append(85)\n",
    "\n",
    "#rnnx1.append(100)\n",
    "#rnny1.append(80)\n",
    "\n",
    "plt.plot(rnnx1,rnny1,c='orange',linewidth='3')\n",
    "\n",
    "plt.xlim(0, 1920/3)\n",
    "plt.ylim(0, 1080/3)     # set the ylim to ymin, ymax\n",
    "plt.title('Average Path of RNN Model')\n",
    "plt.xlabel('x position')\n",
    "plt.ylabel('y position')\n",
    "plt.show()"
   ]
  },
  {
   "cell_type": "markdown",
   "metadata": {},
   "source": [
    "### RNN Categorical Output"
   ]
  },
  {
   "cell_type": "code",
   "execution_count": 356,
   "metadata": {},
   "outputs": [
    {
     "name": "stdout",
     "output_type": "stream",
     "text": [
      "== rnn\n",
      "1215\n"
     ]
    }
   ],
   "source": [
    "pos = rnncat\n",
    "if(len(pos) != 0):\n",
    "    print('== rnn')\n",
    "    totalpos = []\n",
    "    for i in range(len(pos)):\n",
    "        totalpos.extend(pos[i])\n",
    "    rnncatx,rnncaty = getAveragePositions(totalpos)\n"
   ]
  },
  {
   "cell_type": "code",
   "execution_count": 358,
   "metadata": {},
   "outputs": [
    {
     "data": {
      "image/png": "[encoded data removed]",
      "text/plain": [
       "<Figure size 432x288 with 1 Axes>"
      ]
     },
     "metadata": {},
     "output_type": "display_data"
    }
   ],
   "source": [
    "plt.plot(hx1,hy1,c='black',linewidth='1')\n",
    "\n",
    "n=850\n",
    "s=70\n",
    "rx1 = rnncatx[s:len(rnncatx)-n]\n",
    "ry1 = rnncaty[s:len(rnncaty)-n]\n",
    "\n",
    "plt.plot(rx1,ry1,c='purple',linewidth='3')\n",
    "\n",
    "plt.xlim(0, 1920/3)\n",
    "plt.ylim(0, 1080/3)     # set the ylim to ymin, ymax\n",
    "plt.title('Average Path of RNN Categorical')\n",
    "plt.xlabel('x position')\n",
    "plt.ylabel('y position')\n",
    "\n",
    "\n",
    "plt.show()"
   ]
  },
  {
   "cell_type": "code",
   "execution_count": 391,
   "metadata": {},
   "outputs": [],
   "source": [
    "cat_path = Path('Categorical')\n",
    "cat_path.add_positions(catx1,caty1)\n",
    "\n",
    "linear_path = Path('Linear')\n",
    "linear_path.add_positions(linearx1,lineary1)\n",
    "\n",
    "rnn_path = Path('RNN')\n",
    "rnn_path.add_positions(rnnx1,rnnx1)\n",
    "\n",
    "rnncat_path = Path('RNN Categorical')\n",
    "rnncat_path.add_positions(rx1,ry1)\n",
    "\n",
    "human_path = Path('human')\n",
    "human_path.add_positions(hx1,hy1)"
   ]
  },
  {
   "cell_type": "code",
   "execution_count": 377,
   "metadata": {},
   "outputs": [
    {
     "name": "stderr",
     "output_type": "stream",
     "text": [
      "/usr/local/lib/python3.6/dist-packages/ipykernel_launcher.py:180: RuntimeWarning: invalid value encountered in sqrt\n",
      "/usr/local/lib/python3.6/dist-packages/ipykernel_launcher.py:80: RuntimeWarning: invalid value encountered in double_scalars\n"
     ]
    }
   ],
   "source": [
    "diff_human_cat = cat_path.compare_path2(human_path)"
   ]
  },
  {
   "cell_type": "code",
   "execution_count": 414,
   "metadata": {},
   "outputs": [
    {
     "name": "stdout",
     "output_type": "stream",
     "text": [
      "1494991\n",
      "3.6773775075469275\n"
     ]
    },
    {
     "data": {
      "image/png": "[encoded data removed]",
      "text/plain": [
       "<Figure size 432x288 with 1 Axes>"
      ]
     },
     "metadata": {},
     "output_type": "display_data"
    }
   ],
   "source": [
    "print(len(diff_human_cat))\n",
    "cm_diff_human_cat = pixels_to_cm(diff_human_cat)\n",
    "print(np.mean(cm_diff_human_cat))\n",
    "\n",
    "plt.hist(cm_diff_human_cat, bins=bin_num, color='cyan')  # arguments are passed to np.histogram\n",
    "plt.title(\"Categorical Model\")\n",
    "plt.xlabel('Distance from Human Path (cm)')\n",
    "plt.xlim([0,35])\n",
    "plt.show()"
   ]
  },
  {
   "cell_type": "code",
   "execution_count": 379,
   "metadata": {},
   "outputs": [
    {
     "name": "stderr",
     "output_type": "stream",
     "text": [
      "/usr/local/lib/python3.6/dist-packages/ipykernel_launcher.py:180: RuntimeWarning: invalid value encountered in sqrt\n",
      "/usr/local/lib/python3.6/dist-packages/ipykernel_launcher.py:80: RuntimeWarning: invalid value encountered in double_scalars\n"
     ]
    }
   ],
   "source": [
    "diff_linear_human = linear_path.compare_path2(human_path)"
   ]
  },
  {
   "cell_type": "code",
   "execution_count": 410,
   "metadata": {},
   "outputs": [
    {
     "data": {
      "image/png": "[encoded data removed]",
      "text/plain": [
       "<Figure size 432x288 with 1 Axes>"
      ]
     },
     "metadata": {},
     "output_type": "display_data"
    }
   ],
   "source": [
    "cm_diff_linear_human = pixels_to_cm(diff_linear_human)\n",
    "np.mean(cm_diff_linear_human)\n",
    "\n",
    "plt.hist(cm_diff_linear_human, bins=bin_num,color='g')  # arguments are passed to np.histogram\n",
    "plt.title(\"Linear Model\")\n",
    "plt.xlim([0,20])\n",
    "\n",
    "plt.xlabel('Distance from Human Path (cm)')\n",
    "plt.show()"
   ]
  },
  {
   "cell_type": "code",
   "execution_count": 387,
   "metadata": {},
   "outputs": [
    {
     "name": "stderr",
     "output_type": "stream",
     "text": [
      "/usr/local/lib/python3.6/dist-packages/ipykernel_launcher.py:180: RuntimeWarning: invalid value encountered in sqrt\n",
      "/usr/local/lib/python3.6/dist-packages/ipykernel_launcher.py:80: RuntimeWarning: invalid value encountered in double_scalars\n"
     ]
    }
   ],
   "source": [
    "diff_rnn_human = rnn_path.compare_path2(human_path)"
   ]
  },
  {
   "cell_type": "code",
   "execution_count": 392,
   "metadata": {},
   "outputs": [
    {
     "name": "stdout",
     "output_type": "stream",
     "text": [
      "463\n"
     ]
    }
   ],
   "source": [
    "cm_diff_rnn_human = pixels_to_cm(diff_rnn_human)\n",
    "print(len(rnn_path.vectors))"
   ]
  },
  {
   "cell_type": "code",
   "execution_count": 409,
   "metadata": {},
   "outputs": [
    {
     "data": {
      "image/png": "[encoded data removed]",
      "text/plain": [
       "<Figure size 432x288 with 1 Axes>"
      ]
     },
     "metadata": {},
     "output_type": "display_data"
    }
   ],
   "source": [
    "np.mean(cm_diff_rnn_human)\n",
    "plt.hist(cm_diff_rnn_human, bins=bin_num,color='b')  # arguments are passed to np.histogram\n",
    "plt.title(\"RNN Model\")\n",
    "plt.xlim([0,20])\n",
    "plt.xlabel('Distance from Human Path (cm)')\n",
    "plt.show()"
   ]
  },
  {
   "cell_type": "code",
   "execution_count": 383,
   "metadata": {},
   "outputs": [
    {
     "name": "stderr",
     "output_type": "stream",
     "text": [
      "/usr/local/lib/python3.6/dist-packages/ipykernel_launcher.py:180: RuntimeWarning: invalid value encountered in sqrt\n",
      "/usr/local/lib/python3.6/dist-packages/ipykernel_launcher.py:80: RuntimeWarning: invalid value encountered in double_scalars\n"
     ]
    }
   ],
   "source": [
    "diff_rnncat_human = rnncat_path.compare_path2(human_path)"
   ]
  },
  {
   "cell_type": "code",
   "execution_count": 320,
   "metadata": {},
   "outputs": [],
   "source": [
    "cm_diff_rnncat_human = pixels_to_cm(diff_rnncat_human)"
   ]
  },
  {
   "cell_type": "code",
   "execution_count": 422,
   "metadata": {},
   "outputs": [
    {
     "name": "stdout",
     "output_type": "stream",
     "text": [
      "1.5198366816862037\n",
      "688449\n"
     ]
    },
    {
     "data": {
      "image/png": "[encoded data removed]",
      "text/plain": [
       "<Figure size 432x288 with 1 Axes>"
      ]
     },
     "metadata": {},
     "output_type": "display_data"
    }
   ],
   "source": [
    "print(np.mean(cm_diff_rnncat_human))\n",
    "print(len(diff_rnncat_human))\n",
    "plt.hist(cm_diff_rnncat_human, bins=bin_num,color='red')  # arguments are passed to np.histogram\n",
    "plt.title(\"RNN Categorical\")\n",
    "plt.xlim([0,20])\n",
    "plt.xlabel('Distance from Human Path (cm)')\n",
    "plt.show()"
   ]
  },
  {
   "cell_type": "code",
   "execution_count": 424,
   "metadata": {},
   "outputs": [
    {
     "data": {
      "image/png": "[encoded data removed]",
      "text/plain": [
       "<Figure size 432x288 with 1 Axes>"
      ]
     },
     "metadata": {},
     "output_type": "display_data"
    }
   ],
   "source": [
    "bin_num = 60\n",
    "\n",
    "plt.hist(cm_diff_rnncat_human, bins=bin_num,color='red',alpha = 0.3)  # arguments are passed to np.histogram\n",
    "plt.hist(cm_diff_rnn_human, bins=bin_num,color='b',alpha = 0.3)  # arguments are passed to np.histogram\n",
    "plt.hist(cm_diff_linear_human, bins=bin_num,color='g',alpha = 0.3)  # arguments are passed to np.histogram\n",
    "plt.hist(cm_diff_human_cat, bins=bin_num, color='cyan',alpha = 0.)  # arguments are passed to np.histogram\n",
    "plt.xlim([0,20])\n",
    "#plt.ylim([0,150000])\n",
    "\n",
    "plt.xlabel('Distance from Human Path (cm)')\n",
    "plt.show()"
   ]
  },
  {
   "cell_type": "code",
   "execution_count": 8,
   "metadata": {},
   "outputs": [
    {
     "data": {
      "text/plain": [
       "[1.0000000000000002, 0.5000000000000007]"
      ]
     },
     "execution_count": 8,
     "metadata": {},
     "output_type": "execute_result"
    }
   ],
   "source": [
    "path2 = None\n",
    "path2 = Path('one')\n",
    "path2.add_vector(0,0,1,1)\n",
    "path2.add_vector(1,1,2,1.5)\n",
    "\n",
    "path4 = None\n",
    "path4 = Path('three')\n",
    "path4.add_vector(0,0,1,0)\n",
    "path4.add_vector(1,0,2,0.5)\n",
    "\n",
    "\n",
    "path4.compare_path(path2)"
   ]
  }
 ],
 "metadata": {
  "kernelspec": {
   "display_name": "Python 3",
   "language": "python",
   "name": "python3"
  },
  "language_info": {
   "codemirror_mode": {
    "name": "ipython",
    "version": 3
   },
   "file_extension": ".py",
   "mimetype": "text/x-python",
   "name": "python",
   "nbconvert_exporter": "python",
   "pygments_lexer": "ipython3",
   "version": "3.6.3"
  }
 },
 "nbformat": 4,
 "nbformat_minor": 2
}

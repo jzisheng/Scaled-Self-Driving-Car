{
 "cells": [
  {
   "cell_type": "markdown",
   "metadata": {},
   "source": [
    "# Measuring positions of the vehicle\n",
    "The code snippets below take CSV files from positional video recordings of the remote control car. In this notebook we will analyze the vehicles positions on different tracks."
   ]
  },
  {
   "cell_type": "code",
   "execution_count": 4,
   "metadata": {},
   "outputs": [],
   "source": [
    "import numpy as np\n",
    "import csv\n",
    "import matplotlib.pyplot as plt\n",
    "%matplotlib inline\n",
    "\n",
    "def read_x_y(fname):\n",
    "    f = open(fname, 'r')\n",
    "    reader = csv.reader(f)\n",
    "    x = []\n",
    "    y = []\n",
    "    for row in reader:\n",
    "        x.append( float(row[1]) )\n",
    "        y.append( -float(row[2]) + 300 )\n",
    "    return x, y"
   ]
  },
  {
   "cell_type": "markdown",
   "metadata": {},
   "source": [
    "Calculate average x, y positions of the tracks=\n",
    "* does the mean of the robot path, is it or not different thatn the human path\n",
    "* Student tea test, demonstrate normality - is it normal\n",
    "* null hypothesis, assume that the mean robot error"
   ]
  },
  {
   "cell_type": "code",
   "execution_count": 35,
   "metadata": {},
   "outputs": [],
   "source": [
    "import os\n",
    "cwd = os.getcwd()\n",
    "directory = cwd+'/csvs/circuitcsv/'\n",
    "rnn,rnncat, linear, cat, human = [],[],[],[],[]\n",
    "for filename in os.listdir(directory):\n",
    "    if filename.endswith(\".csv\") or filename.endswith(\".py\"): \n",
    "        #print(os.path.join(directory, filename))\n",
    "        fdir = os.path.join(directory, filename)\n",
    "        if 'rnncat' in  filename:\n",
    "            #rnncat.append(read_x_y(str(fdir)))\n",
    "            continue\n",
    "        if 'cat' in filename:\n",
    "            #cat.append(read_x_y(str(fdir)))\n",
    "            continue\n",
    "        if 'linear' in filename:\n",
    "            #linear.append(read_x_y(str(fdir)))\n",
    "            continue\n",
    "        if 'rnn' in filename:\n",
    "            rnn.append(read_x_y(str(fdir)))\n",
    "            continue\n",
    "        if 'human' in filename:\n",
    "            human.append(read_x_y(str(fdir)))\n",
    "            continue\n",
    "        continue\n",
    "    else:\n",
    "        continue\n"
   ]
  },
  {
   "cell_type": "code",
   "execution_count": 37,
   "metadata": {},
   "outputs": [
    {
     "name": "stdout",
     "output_type": "stream",
     "text": [
      "rnn  size = 5\n",
      "human  size = 3\n"
     ]
    },
    {
     "data": {
      "image/png": "[encoded data removed]",
      "text/plain": [
       "<Figure size 432x288 with 1 Axes>"
      ]
     },
     "metadata": {},
     "output_type": "display_data"
    }
   ],
   "source": [
    "datasets = {'rnn':[rnn,'r'],'rnncat':[rnncat,'g'], 'linear':[linear,'b'], 'cat':[cat,'c'], 'human':[human,'tab:pink']}\n",
    "for data in datasets:\n",
    "    pos = datasets[data][0]\n",
    "    #print(len(pos[1][0]))\n",
    "    if(len(pos) != 0) :\n",
    "        print(data + \"  size = \"+str(len(pos)))\n",
    "        #for i in range(len(pos)):\n",
    "        for i in range(2):\n",
    "            plt.plot(pos[i][0],pos[i][1],c=datasets[data][1],linewidth=0.3)\n",
    "        \n",
    "plt.xlim(0, 622)\n",
    "plt.ylim(0, 350)     # set the ylim to ymin, ymax\n",
    "plt.show()"
   ]
  },
  {
   "cell_type": "code",
   "execution_count": 7,
   "metadata": {},
   "outputs": [
    {
     "name": "stdout",
     "output_type": "stream",
     "text": [
      "High five! You successfully sent some data to your account on plotly. View your plot in your browser at https://plot.ly/~j.zisheng/0 or inside your plot.ly account where it is named '2-curves'\n"
     ]
    },
    {
     "data": {
      "text/html": [
       "<iframe id=\"igraph\" scrolling=\"no\" style=\"border:none;\" seamless=\"seamless\" src=\"https://plot.ly/~j.zisheng/0.embed\" height=\"525px\" width=\"100%\"></iframe>"
      ],
      "text/plain": [
       "<plotly.tools.PlotlyDisplay object>"
      ]
     },
     "execution_count": 7,
     "metadata": {},
     "output_type": "execute_result"
    }
   ],
   "source": [
    "import plotly\n",
    "plotly.tools.set_credentials_file(username='j.zisheng', api_key='AHUUF04GLPPXSDg2RYM3')\n",
    "\n",
    "\n",
    "import plotly.plotly as py\n",
    "import plotly.graph_objs as go\n",
    "from plotly.tools import FigureFactory as FF\n",
    "\n",
    "import numpy as np\n",
    "import pandas as pd\n",
    "import scipy\n",
    "\n",
    "x = np.linspace(0, 2*np.pi, 100)\n",
    "f = np.sin(x)\n",
    "g = np.cos(x)\n",
    "h = [(f[j] + g[j])/2 for j in range(len(x))] \n",
    "\n",
    "trace1 = go.Scatter(\n",
    "    x=pos[0][0],\n",
    "    y=pos[0][1],\n",
    "    mode='lines',\n",
    "    name='f(x)',\n",
    "    marker=dict(\n",
    "        color='rgb(220, 20, 60)'\n",
    "    )\n",
    ")\n",
    "\n",
    "trace2 = go.Scatter(\n",
    "    x=pos[1][0],\n",
    "    y=pos[1][1],\n",
    "    mode='lines',\n",
    "    name='g(x)',\n",
    "    marker=dict(\n",
    "        color='rgb(100, 149, 237)'\n",
    "    )\n",
    ")\n",
    "\n",
    "trace3 = go.Scatter(\n",
    "    x=x,\n",
    "    y=h,\n",
    "    mode='markers+lines',\n",
    "    name='Average of f and g',\n",
    "    marker=dict(\n",
    "        color='rgb(128, 0, 128)',\n",
    "        symbol='diamond-open',\n",
    "    )\n",
    ")\n",
    "\n",
    "data = [trace1, trace2, trace3]\n",
    "py.iplot(data, filename='2-curves')"
   ]
  }
 ],
 "metadata": {
  "kernelspec": {
   "display_name": "Python 3",
   "language": "python",
   "name": "python3"
  },
  "language_info": {
   "codemirror_mode": {
    "name": "ipython",
    "version": 3
   },
   "file_extension": ".py",
   "mimetype": "text/x-python",
   "name": "python",
   "nbconvert_exporter": "python",
   "pygments_lexer": "ipython3",
   "version": "3.6.3"
  }
 },
 "nbformat": 4,
 "nbformat_minor": 2
}

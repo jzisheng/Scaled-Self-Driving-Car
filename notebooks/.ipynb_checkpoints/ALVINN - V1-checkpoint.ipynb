{
 "cells": [
  {
   "cell_type": "code",
   "execution_count": 2,
   "metadata": {},
   "outputs": [
    {
     "data": {
      "text/html": [
       "<style>#notebook { padding-top:0px !important; } .container { width:100% !important; } .end_space { min-height:0px !important; } </style>"
      ],
      "text/plain": [
       "<IPython.core.display.HTML object>"
      ]
     },
     "metadata": {},
     "output_type": "display_data"
    }
   ],
   "source": [
    "import matplotlib\n",
    "matplotlib.use('Agg')\n",
    "# Remove padding around screen\n",
    "\n",
    "from IPython.core.display import display, HTML\n",
    "import matplotlib.pyplot as plt\n",
    "import matplotlib.image as img\n",
    "\n",
    "display(HTML(\"<style>\"\n",
    "    + \"#notebook { padding-top:0px !important; } \" \n",
    "    + \".container { width:100% !important; } \"\n",
    "    + \".end_space { min-height:0px !important; } \"\n",
    "    + \"</style>\"))"
   ]
  },
  {
   "cell_type": "code",
   "execution_count": 15,
   "metadata": {
    "scrolled": true
   },
   "outputs": [],
   "source": [
    "from os import walk\n",
    "import tensorflow as tf\n",
    "\n",
    "import numpy\n",
    "import keras\n",
    "import PIL\n",
    "from PIL import Image\n",
    "\n",
    "output_angles = []\n",
    "angle = -25\n",
    "for i in range(45):\n",
    "    angle+=1.11\n",
    "    output_angles.append(round(angle,2))\n",
    "    \n",
    "def parse_img_name(fstr):\n",
    "    data = fstr.split(\"_\")\n",
    "    if(len(data)>2):\n",
    "        return(data[3])\n",
    "    else:\n",
    "        return -1\n",
    "\n",
    "def prepare_files(path):\n",
    "    # Numpy array containing images\n",
    "    imgs = []\n",
    "    # List containing steering angles\n",
    "    steerings = []\n",
    "    files = get_image_paths(path)\n",
    "    # Prepare training data\n",
    "    for fname in files:\n",
    "        parsed = parse_img_name(fname)\n",
    "        if not(parsed == -1): # Make sure the file is valid\n",
    "            # steerings.append( parse_img_name(fname) ) # Append steering\n",
    "            ohe_steering = one_hot_steering(parse_img_name(fname))\n",
    "            steerings.append( ohe_steering )\n",
    "            img = load_image(path+fname)    # Load the image\n",
    "            img = numpy.array(img)          # Convert to numpy array\n",
    "            B,G,R = channelSplit(img)\n",
    "            R = R.flatten()\n",
    "            imgs.append(R)                  # Append image to images array\n",
    "    return imgs, steerings\n",
    "\n",
    "def get_image_paths(path):\n",
    "    # Walk through all the images in the folder path\n",
    "    f = []\n",
    "    for (dirpath, dirnames, filenames) in walk(path):\n",
    "        f.extend(filenames)\n",
    "    return f\n",
    "\n",
    "def load_image(infilename):\n",
    "    size = 32,30\n",
    "    img = Image.open(infilename)\n",
    "    img.thumbnail(size, Image.ANTIALIAS)\n",
    "    data = numpy.asarray(img,dtype=\"uint8\")\n",
    "    return data\n",
    "\n",
    "def channelSplit(image):\n",
    "    return numpy.dsplit(image,image.shape[-1])\n",
    "\n",
    "def one_hot_steering(angle):\n",
    "    weights=[1,1,2,3,4,5,4,3,2,1,1]  # Weights to output feedback unit\n",
    "    encoding = [0] * 45\n",
    "    for i in range(len(output_angles)-1):\n",
    "        if (output_angles[i] < float(angle)) and (float(angle) < output_angles[i+1]):\n",
    "            for j in range(i-5,i+5,1): # Iterate through encoding and place weights\n",
    "                if(j<0 or j>len(encoding)):\n",
    "                    break\n",
    "                if(not(j<0) or not(j>=len(output_angles)-1)):\n",
    "                    \"\"\"print(\"--\")\n",
    "                    print(\"a: \"+str(angle))\n",
    "                    print(\"j: \"+str(j))\"\"\"\n",
    "                    encoding[j] = weights[j+5-i]\n",
    "            return encoding\n",
    "        if (i == len(output_angles)-1):\n",
    "            print(\"Data incorrectly formatted\")\n",
    "            return encoding\n",
    "            break\n",
    "        "
   ]
  },
  {
   "cell_type": "code",
   "execution_count": 16,
   "metadata": {},
   "outputs": [
    {
     "ename": "IndexError",
     "evalue": "list assignment index out of range",
     "output_type": "error",
     "traceback": [
      "\u001b[0;31m---------------------------------------------------------------------------\u001b[0m",
      "\u001b[0;31mIndexError\u001b[0m                                Traceback (most recent call last)",
      "\u001b[0;32m<ipython-input-16-0eb2d6bf2e1c>\u001b[0m in \u001b[0;36m<module>\u001b[0;34m()\u001b[0m\n\u001b[1;32m      1\u001b[0m \u001b[0mfilepath\u001b[0m \u001b[0;34m=\u001b[0m \u001b[0;34m\"../datasets/dataset1/\"\u001b[0m\u001b[0;34m\u001b[0m\u001b[0m\n\u001b[0;32m----> 2\u001b[0;31m \u001b[0mimgs\u001b[0m\u001b[0;34m,\u001b[0m \u001b[0msteerings\u001b[0m \u001b[0;34m=\u001b[0m \u001b[0mprepare_files\u001b[0m\u001b[0;34m(\u001b[0m\u001b[0mfilepath\u001b[0m\u001b[0;34m)\u001b[0m\u001b[0;34m\u001b[0m\u001b[0m\n\u001b[0m\u001b[1;32m      3\u001b[0m \u001b[0mtrain_y\u001b[0m \u001b[0;34m=\u001b[0m \u001b[0mnumpy\u001b[0m\u001b[0;34m.\u001b[0m\u001b[0marray\u001b[0m\u001b[0;34m(\u001b[0m\u001b[0msteerings\u001b[0m\u001b[0;34m)\u001b[0m\u001b[0;34m\u001b[0m\u001b[0m\n\u001b[1;32m      4\u001b[0m \u001b[0mtrain_x\u001b[0m \u001b[0;34m=\u001b[0m \u001b[0mnumpy\u001b[0m\u001b[0;34m.\u001b[0m\u001b[0marray\u001b[0m\u001b[0;34m(\u001b[0m\u001b[0mimgs\u001b[0m\u001b[0;34m)\u001b[0m\u001b[0;34m\u001b[0m\u001b[0m\n",
      "\u001b[0;32m<ipython-input-15-9e91a9e2e05b>\u001b[0m in \u001b[0;36mprepare_files\u001b[0;34m(path)\u001b[0m\n\u001b[1;32m     31\u001b[0m         \u001b[0;32mif\u001b[0m \u001b[0;32mnot\u001b[0m\u001b[0;34m(\u001b[0m\u001b[0mparsed\u001b[0m \u001b[0;34m==\u001b[0m \u001b[0;34m-\u001b[0m\u001b[0;36m1\u001b[0m\u001b[0;34m)\u001b[0m\u001b[0;34m:\u001b[0m \u001b[0;31m# Make sure the file is valid\u001b[0m\u001b[0;34m\u001b[0m\u001b[0m\n\u001b[1;32m     32\u001b[0m             \u001b[0;31m# steerings.append( parse_img_name(fname) ) # Append steering\u001b[0m\u001b[0;34m\u001b[0m\u001b[0;34m\u001b[0m\u001b[0m\n\u001b[0;32m---> 33\u001b[0;31m             \u001b[0mohe_steering\u001b[0m \u001b[0;34m=\u001b[0m \u001b[0mone_hot_steering\u001b[0m\u001b[0;34m(\u001b[0m\u001b[0mparse_img_name\u001b[0m\u001b[0;34m(\u001b[0m\u001b[0mfname\u001b[0m\u001b[0;34m)\u001b[0m\u001b[0;34m)\u001b[0m\u001b[0;34m\u001b[0m\u001b[0m\n\u001b[0m\u001b[1;32m     34\u001b[0m             \u001b[0msteerings\u001b[0m\u001b[0;34m.\u001b[0m\u001b[0mappend\u001b[0m\u001b[0;34m(\u001b[0m \u001b[0mohe_steering\u001b[0m \u001b[0;34m)\u001b[0m\u001b[0;34m\u001b[0m\u001b[0m\n\u001b[1;32m     35\u001b[0m             \u001b[0mimg\u001b[0m \u001b[0;34m=\u001b[0m \u001b[0mload_image\u001b[0m\u001b[0;34m(\u001b[0m\u001b[0mpath\u001b[0m\u001b[0;34m+\u001b[0m\u001b[0mfname\u001b[0m\u001b[0;34m)\u001b[0m    \u001b[0;31m# Load the image\u001b[0m\u001b[0;34m\u001b[0m\u001b[0m\n",
      "\u001b[0;32m<ipython-input-15-9e91a9e2e05b>\u001b[0m in \u001b[0;36mone_hot_steering\u001b[0;34m(angle)\u001b[0m\n\u001b[1;32m     69\u001b[0m                     \u001b[0;32mprint\u001b[0m\u001b[0;34m(\u001b[0m\u001b[0;34m\"a: \"\u001b[0m\u001b[0;34m+\u001b[0m\u001b[0mstr\u001b[0m\u001b[0;34m(\u001b[0m\u001b[0mangle\u001b[0m\u001b[0;34m)\u001b[0m\u001b[0;34m)\u001b[0m\u001b[0;34m\u001b[0m\u001b[0m\n\u001b[1;32m     70\u001b[0m                     print(\"j: \"+str(j))\"\"\"\n\u001b[0;32m---> 71\u001b[0;31m                     \u001b[0mencoding\u001b[0m\u001b[0;34m[\u001b[0m\u001b[0mj\u001b[0m\u001b[0;34m]\u001b[0m \u001b[0;34m=\u001b[0m \u001b[0mweights\u001b[0m\u001b[0;34m[\u001b[0m\u001b[0mj\u001b[0m\u001b[0;34m+\u001b[0m\u001b[0;36m5\u001b[0m\u001b[0;34m-\u001b[0m\u001b[0mi\u001b[0m\u001b[0;34m]\u001b[0m\u001b[0;34m\u001b[0m\u001b[0m\n\u001b[0m\u001b[1;32m     72\u001b[0m             \u001b[0;32mreturn\u001b[0m \u001b[0mencoding\u001b[0m\u001b[0;34m\u001b[0m\u001b[0m\n\u001b[1;32m     73\u001b[0m         \u001b[0;32mif\u001b[0m \u001b[0;34m(\u001b[0m\u001b[0mi\u001b[0m \u001b[0;34m==\u001b[0m \u001b[0mlen\u001b[0m\u001b[0;34m(\u001b[0m\u001b[0moutput_angles\u001b[0m\u001b[0;34m)\u001b[0m\u001b[0;34m-\u001b[0m\u001b[0;36m1\u001b[0m\u001b[0;34m)\u001b[0m\u001b[0;34m:\u001b[0m\u001b[0;34m\u001b[0m\u001b[0m\n",
      "\u001b[0;31mIndexError\u001b[0m: list assignment index out of range"
     ]
    }
   ],
   "source": [
    "filepath = \"../datasets/dataset1/\"\n",
    "imgs, steerings = prepare_files(filepath)\n",
    "train_y = numpy.array(steerings)\n",
    "train_x = numpy.array(imgs)"
   ]
  },
  {
   "cell_type": "code",
   "execution_count": 14,
   "metadata": {},
   "outputs": [
    {
     "data": {
      "text/plain": [
       "array([0, 0, 0, 0, 0, 0, 0, 0, 0, 0, 0, 0, 0, 0, 0, 0, 1, 1, 2, 3, 4, 5,\n",
       "       4, 3, 2, 1, 0, 0, 0, 0, 0, 0, 0, 0, 0, 0, 0, 0, 0, 0, 0, 0, 0, 0,\n",
       "       0])"
      ]
     },
     "execution_count": 14,
     "metadata": {},
     "output_type": "execute_result"
    }
   ],
   "source": [
    "# encoded_y.shape\n",
    "train_x.shape[1]\n",
    "train_y[1]"
   ]
  },
  {
   "cell_type": "code",
   "execution_count": 6,
   "metadata": {},
   "outputs": [],
   "source": [
    "img = load_image(\"../datasets/testing/1242071frame_000026_st_0.4888471_th_0.3.jpg\")\n",
    "# Get only blue channel of image, set other\n",
    "# channel intesnities to 0\n",
    "img = numpy.array(img)\n",
    "img[:, :, 1] = 0    # Zero out contribution from green\n",
    "img[:, :, 2] = 0\n",
    "imgplot = plt.savefig('sample.jpg')\n",
    "imgplot = plt.imshow(img)"
   ]
  },
  {
   "cell_type": "code",
   "execution_count": 7,
   "metadata": {
    "scrolled": true
   },
   "outputs": [
    {
     "name": "stdout",
     "output_type": "stream",
     "text": [
      "____________________________________________________________________________________________________\n",
      "Layer (type)                     Output Shape          Param #     Connected to                     \n",
      "====================================================================================================\n",
      "dense_1 (Dense)                  (None, 30)            23070       dense_input_1[0][0]              \n",
      "____________________________________________________________________________________________________\n",
      "dropout_1 (Dropout)              (None, 30)            0           dense_1[0][0]                    \n",
      "____________________________________________________________________________________________________\n",
      "dense_2 (Dense)                  (None, 45)            1395        dropout_1[0][0]                  \n",
      "====================================================================================================\n",
      "Total params: 24,465\n",
      "Trainable params: 24,465\n",
      "Non-trainable params: 0\n",
      "____________________________________________________________________________________________________\n"
     ]
    }
   ],
   "source": [
    "def get_model(input_size):\n",
    "    model = keras.models.Sequential()\n",
    "    model.add(keras.layers.Dense(30, input_dim=input_size))\n",
    "    model.add(keras.layers.Dropout(0.2))\n",
    "    model.add(keras.layers.Dense(45, input_shape=(29,1), activation='sigmoid'))\n",
    "    return model\n",
    "# Get training image size\n",
    "i = train_x.shape[1]\n",
    "\n",
    "# Load callbacks\n",
    "checkpointer = keras.callbacks.ModelCheckpoint(\n",
    "    filepath='../outputs/alvinnw3.h5',\n",
    "    verbose=1,\n",
    "    save_best_only=True)\n",
    "\n",
    "\n",
    "model = get_model(input_size=i)\n",
    "model.summary()"
   ]
  },
  {
   "cell_type": "code",
   "execution_count": 11,
   "metadata": {},
   "outputs": [
    {
     "name": "stdout",
     "output_type": "stream",
     "text": [
      "Train on 2 samples, validate on 1 samples\n",
      "Epoch 1/10\n",
      "Epoch 00000: val_loss improved from 224.77473 to 223.68082, saving model to ../outputs/alvinnw3.h5\n",
      "2/2 [==============================] - 0s - loss: 249.1135 - acc: 0.0000e+00 - val_loss: 223.6808 - val_acc: 0.0000e+00\n",
      "Epoch 2/10\n",
      "Epoch 00001: val_loss improved from 223.68082 to 223.66469, saving model to ../outputs/alvinnw3.h5\n",
      "2/2 [==============================] - 0s - loss: 228.8192 - acc: 0.0000e+00 - val_loss: 223.6647 - val_acc: 0.0000e+00\n",
      "Epoch 3/10\n",
      "Epoch 00002: val_loss did not improve\n",
      "2/2 [==============================] - 0s - loss: 281.7980 - acc: 0.0000e+00 - val_loss: 223.6647 - val_acc: 0.0000e+00\n",
      "Epoch 4/10\n",
      "Epoch 00003: val_loss did not improve\n",
      "2/2 [==============================] - 0s - loss: 250.0323 - acc: 0.0000e+00 - val_loss: 223.6647 - val_acc: 0.0000e+00\n",
      "Epoch 5/10\n",
      "Epoch 00004: val_loss did not improve\n",
      "2/2 [==============================] - 0s - loss: 210.7576 - acc: 0.0000e+00 - val_loss: 223.6647 - val_acc: 0.0000e+00\n",
      "Epoch 6/10\n",
      "Epoch 00005: val_loss did not improve\n",
      "2/2 [==============================] - 0s - loss: 249.9633 - acc: 0.0000e+00 - val_loss: 223.6647 - val_acc: 0.0000e+00\n",
      "Epoch 7/10\n",
      "Epoch 00006: val_loss did not improve\n",
      "2/2 [==============================] - 0s - loss: 222.6010 - acc: 0.0000e+00 - val_loss: 223.6647 - val_acc: 0.0000e+00\n",
      "Epoch 8/10\n",
      "Epoch 00007: val_loss did not improve\n",
      "2/2 [==============================] - 0s - loss: 294.6628 - acc: 0.0000e+00 - val_loss: 276.2619 - val_acc: 0.0000e+00\n",
      "Epoch 9/10\n",
      "Epoch 00008: val_loss did not improve\n",
      "2/2 [==============================] - 0s - loss: 250.2967 - acc: 0.0000e+00 - val_loss: 276.2619 - val_acc: 0.0000e+00\n",
      "Epoch 10/10\n",
      "Epoch 00009: val_loss did not improve\n",
      "2/2 [==============================] - 0s - loss: 257.6057 - acc: 0.0000e+00 - val_loss: 276.2619 - val_acc: 0.0000e+00\n"
     ]
    },
    {
     "data": {
      "text/plain": [
       "<keras.callbacks.History at 0x7fc1100fa410>"
      ]
     },
     "execution_count": 11,
     "metadata": {},
     "output_type": "execute_result"
    }
   ],
   "source": [
    "model.compile(optimizer='sgd',\n",
    "              loss='categorical_crossentropy',\n",
    "              metrics=['accuracy'])\n",
    "model.fit(train_x,train_y,nb_epoch=10,validation_split=0.1,callbacks=[checkpointer])"
   ]
  }
 ],
 "metadata": {
  "celltoolbar": "Raw Cell Format",
  "kernelspec": {
   "display_name": "Python 2",
   "language": "python",
   "name": "python2"
  },
  "language_info": {
   "codemirror_mode": {
    "name": "ipython",
    "version": 2
   },
   "file_extension": ".py",
   "mimetype": "text/x-python",
   "name": "python",
   "nbconvert_exporter": "python",
   "pygments_lexer": "ipython2",
   "version": "2.7.6"
  }
 },
 "nbformat": 4,
 "nbformat_minor": 2
}

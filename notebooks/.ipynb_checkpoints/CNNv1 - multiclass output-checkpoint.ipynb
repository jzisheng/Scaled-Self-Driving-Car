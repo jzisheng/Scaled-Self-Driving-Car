{
 "cells": [
  {
   "cell_type": "code",
   "execution_count": 1,
   "metadata": {},
   "outputs": [
    {
     "data": {
      "text/html": [
       "<style>#notebook { padding-top:0px !important; } .container { width:100% !important; } .end_space { min-height:0px !important; } </style>"
      ],
      "text/plain": [
       "<IPython.core.display.HTML object>"
      ]
     },
     "metadata": {},
     "output_type": "display_data"
    }
   ],
   "source": [
    "import matplotlib\n",
    "matplotlib.use('Agg')\n",
    "# Remove padding around screen\n",
    "\n",
    "from IPython.core.display import display, HTML\n",
    "import matplotlib.pyplot as plt\n",
    "import matplotlib.image as img\n",
    "\n",
    "display(HTML(\"<style>\"\n",
    "    + \"#notebook { padding-top:0px !important; } \" \n",
    "    + \".container { width:100% !important; } \"\n",
    "    + \".end_space { min-height:0px !important; } \"\n",
    "    + \"</style>\"))"
   ]
  },
  {
   "cell_type": "markdown",
   "metadata": {},
   "source": [
    "### Simple CNN 1\n",
    "The code below is a simple implementation of cnn with the same basic architecture found in ALVINN"
   ]
  },
  {
   "cell_type": "code",
   "execution_count": 3,
   "metadata": {
    "scrolled": true
   },
   "outputs": [
    {
     "name": "stderr",
     "output_type": "stream",
     "text": [
      "/home/jason/tensorflow/lib/python3.6/site-packages/h5py/__init__.py:36: FutureWarning: Conversion of the second argument of issubdtype from `float` to `np.floating` is deprecated. In future, it will be treated as `np.float64 == np.dtype(float).type`.\n",
      "  from ._conv import register_converters as _register_converters\n",
      "Using TensorFlow backend.\n"
     ]
    }
   ],
   "source": [
    "from os import walk\n",
    "import tensorflow as tf\n",
    "\n",
    "import numpy\n",
    "import keras\n",
    "import PIL\n",
    "from PIL import Image\n",
    "\n",
    "output_angles = []\n",
    "angle = -25\n",
    "for i in range(45):\n",
    "    output_angles.append(round(angle,2))\n",
    "    angle+=1.155\n",
    "    \n",
    "def parse_img_name(fstr):\n",
    "    data = fstr.split(\"_\")\n",
    "    if(len(data)>2):\n",
    "        return(data[3])\n",
    "    else:\n",
    "        return -1\n",
    "\n",
    "def prepare_files(path):\n",
    "    # Numpy array containing images\n",
    "    imgs = []\n",
    "    # List containing steering angles\n",
    "    steerings = []\n",
    "    files = get_image_paths(path)\n",
    "    # Prepare training data\n",
    "    count = 0\n",
    "    for fname in files:\n",
    "        count+=1\n",
    "        #if(count > 500):    # Use this to limit loaded images for testing\n",
    "        #    break\n",
    "        parsed = parse_img_name(fname)\n",
    "        if not(parsed == -1): # Make sure the file is valid\n",
    "            # steerings.append( parse_img_name(fname) ) # Append steering\n",
    "            ohe_steering = one_hot_steering(parse_img_name(fname))\n",
    "            if(ohe_steering == None):\n",
    "                continue # Steering is not valid, continue without bad data\n",
    "            steerings.append( ohe_steering )\n",
    "            img = load_image(path+fname)    # Load the image\n",
    "            imgs.append(img)                  # Append image to images array\n",
    "    return imgs, steerings\n",
    "\n",
    "def get_image_paths(path):\n",
    "    # Walk through all the images in the folder path\n",
    "    f = []\n",
    "    for (dirpath, dirnames, filenames) in walk(path):\n",
    "        f.extend(filenames)\n",
    "    return f\n",
    "\n",
    "def load_image(infilename):\n",
    "    size = 64,60\n",
    "    img = Image.open(infilename)\n",
    "    img.thumbnail(size, Image.ANTIALIAS)\n",
    "    data = numpy.asarray(img,dtype=\"uint8\")\n",
    "    return data\n",
    "\n",
    "def channelSplit(image):\n",
    "    return numpy.dsplit(image,image.shape[-1])\n",
    "\n",
    "def one_hot_steering(angle):\n",
    "    weights=[1,1,2,3,4,5,4,3,2,1,1]  # Weights to output feedback unit\n",
    "    encoding = [0] * 45\n",
    "    for i in range(len(output_angles)-1):\n",
    "        if (output_angles[i] <= float(angle)) and (float(angle) <= output_angles[i+1]):\n",
    "            for j in range(i-5,i+5,1): # Iterate through encoding and place weights\n",
    "                if(j>=0 and j<(len(encoding))):\n",
    "                    encoding[j] = weights[j+5-i]\n",
    "            return encoding\n",
    "        if (i == len(output_angles)-1):\n",
    "            print(\"Data incorrectly formatted\")\n",
    "            return encoding\n",
    "            break"
   ]
  },
  {
   "cell_type": "code",
   "execution_count": 4,
   "metadata": {},
   "outputs": [
    {
     "data": {
      "text/plain": [
       "5.03"
      ]
     },
     "execution_count": 4,
     "metadata": {},
     "output_type": "execute_result"
    }
   ],
   "source": [
    "output_angles[26]"
   ]
  },
  {
   "cell_type": "code",
   "execution_count": 5,
   "metadata": {},
   "outputs": [
    {
     "data": {
      "text/plain": [
       "(48, 64, 3)"
      ]
     },
     "execution_count": 5,
     "metadata": {},
     "output_type": "execute_result"
    }
   ],
   "source": [
    "filepath = \"../datasets/track_sess_2-23/\"\n",
    "imgs, steerings = prepare_files(filepath)\n",
    "train_y = numpy.array(steerings)\n",
    "train_x = numpy.array(imgs)\n",
    "# AC-frame_011922_st_23.87382_th_0.3.jpg\n",
    "# one_hot_steering(\"24\")\n",
    "train_x.shape[1:]"
   ]
  },
  {
   "cell_type": "code",
   "execution_count": 9,
   "metadata": {
    "scrolled": true
   },
   "outputs": [
    {
     "name": "stdout",
     "output_type": "stream",
     "text": [
      "_________________________________________________________________\n",
      "Layer (type)                 Output Shape              Param #   \n",
      "=================================================================\n",
      "conv2d_7 (Conv2D)            (None, 44, 60, 32)        2432      \n",
      "_________________________________________________________________\n",
      "elu_11 (ELU)                 (None, 44, 60, 32)        0         \n",
      "_________________________________________________________________\n",
      "dropout_7 (Dropout)          (None, 44, 60, 32)        0         \n",
      "_________________________________________________________________\n",
      "conv2d_8 (Conv2D)            (None, 44, 60, 24)        19224     \n",
      "_________________________________________________________________\n",
      "elu_12 (ELU)                 (None, 44, 60, 24)        0         \n",
      "_________________________________________________________________\n",
      "conv2d_9 (Conv2D)            (None, 44, 60, 32)        6944      \n",
      "_________________________________________________________________\n",
      "elu_13 (ELU)                 (None, 44, 60, 32)        0         \n",
      "_________________________________________________________________\n",
      "flatten_3 (Flatten)          (None, 84480)             0         \n",
      "_________________________________________________________________\n",
      "dense_7 (Dense)              (None, 512)               43254272  \n",
      "_________________________________________________________________\n",
      "dropout_8 (Dropout)          (None, 512)               0         \n",
      "_________________________________________________________________\n",
      "elu_14 (ELU)                 (None, 512)               0         \n",
      "_________________________________________________________________\n",
      "dense_8 (Dense)              (None, 128)               65664     \n",
      "_________________________________________________________________\n",
      "dropout_9 (Dropout)          (None, 128)               0         \n",
      "_________________________________________________________________\n",
      "elu_15 (ELU)                 (None, 128)               0         \n",
      "_________________________________________________________________\n",
      "dense_9 (Dense)              (None, 45)                5805      \n",
      "=================================================================\n",
      "Total params: 43,354,341\n",
      "Trainable params: 43,354,341\n",
      "Non-trainable params: 0\n",
      "_________________________________________________________________\n"
     ]
    },
    {
     "name": "stderr",
     "output_type": "stream",
     "text": [
      "/home/jason/tensorflow/lib/python3.6/site-packages/ipykernel_launcher.py:4: UserWarning: Update your `Conv2D` call to the Keras 2 API: `Conv2D(32, (5, 5), input_shape=(48, 64, 3..., padding=\"valid\")`\n",
      "  after removing the cwd from sys.path.\n",
      "/home/jason/tensorflow/lib/python3.6/site-packages/ipykernel_launcher.py:9: UserWarning: Update your `Conv2D` call to the Keras 2 API: `Conv2D(24, (5, 5), padding=\"same\")`\n",
      "  if __name__ == '__main__':\n",
      "/home/jason/tensorflow/lib/python3.6/site-packages/ipykernel_launcher.py:12: UserWarning: Update your `Conv2D` call to the Keras 2 API: `Conv2D(32, (3, 3), padding=\"same\")`\n",
      "  if sys.path[0] == '':\n"
     ]
    }
   ],
   "source": [
    "def get_model(imgsz):\n",
    "    model = keras.models.Sequential()\n",
    "    #model.add(keras.layers.Dense(100, input_dim=input_size, activation='tanh'))\n",
    "    model.add(keras.layers.Conv2D( 32, 5, 5, border_mode='valid', input_shape=(48, 64, 3) ))\n",
    "    model.add(keras.layers.ELU())\n",
    "    \n",
    "    model.add(keras.layers.Dropout(0.3))\n",
    "    \n",
    "    model.add(keras.layers.Conv2D( 24, 5, 5, border_mode='same'))\n",
    "    model.add(keras.layers.ELU())\n",
    "    \n",
    "    model.add(keras.layers.Conv2D( 32, 3, 3, border_mode='same'))\n",
    "    model.add(keras.layers.ELU())\n",
    "    \n",
    "    model.add(keras.layers.Flatten())\n",
    "    \n",
    "    model.add(keras.layers.Dense(512))\n",
    "    model.add(keras.layers.Dropout(0.1))\n",
    "    model.add(keras.layers.ELU())\n",
    "    \n",
    "    model.add(keras.layers.Dense(128))\n",
    "    model.add(keras.layers.Dropout(0.1))\n",
    "    model.add(keras.layers.ELU())\n",
    "    \n",
    "    model.add(keras.layers.Dense(45, activation='relu'))\n",
    "    return model\n",
    "\n",
    "# Load callbacks\n",
    "checkpointer = keras.callbacks.ModelCheckpoint(\n",
    "    filepath='../outputs/track_cnnw3.h5',\n",
    "    verbose=1,\n",
    "    save_best_only=True)\n",
    "\n",
    "\n",
    "# Get training image row, col, channels\n",
    "img_sz = train_x.shape[1:]\n",
    "model = get_model(img_sz)\n",
    "\n",
    "model.compile(optimizer='SGD',\n",
    "              loss='logcosh',\n",
    "              metrics=['accuracy'])\n",
    "\n",
    "model.summary()"
   ]
  },
  {
   "cell_type": "code",
   "execution_count": 10,
   "metadata": {
    "scrolled": false
   },
   "outputs": [
    {
     "name": "stderr",
     "output_type": "stream",
     "text": [
      "/home/jason/tensorflow/lib/python3.6/site-packages/keras/models.py:942: UserWarning: The `nb_epoch` argument in `fit` has been renamed `epochs`.\n",
      "  warnings.warn('The `nb_epoch` argument in `fit` '\n"
     ]
    },
    {
     "name": "stdout",
     "output_type": "stream",
     "text": [
      "Train on 33329 samples, validate on 8333 samples\n",
      "Epoch 1/10\n",
      "33329/33329 [==============================] - 29s 870us/step - loss: 0.4008 - acc: 0.0712 - val_loss: 0.3642 - val_acc: 0.1048\n",
      "\n",
      "Epoch 00001: val_loss improved from inf to 0.36418, saving model to ../outputs/track_cnnw3.h5\n",
      "Epoch 2/10\n",
      "33329/33329 [==============================] - 29s 860us/step - loss: 0.3630 - acc: 0.1019 - val_loss: 0.3549 - val_acc: 0.1471\n",
      "\n",
      "Epoch 00002: val_loss improved from 0.36418 to 0.35489, saving model to ../outputs/track_cnnw3.h5\n",
      "Epoch 3/10\n",
      "33329/33329 [==============================] - 29s 860us/step - loss: 0.3398 - acc: 0.1328 - val_loss: 0.3197 - val_acc: 0.1500\n",
      "\n",
      "Epoch 00003: val_loss improved from 0.35489 to 0.31969, saving model to ../outputs/track_cnnw3.h5\n",
      "Epoch 4/10\n",
      "33329/33329 [==============================] - 29s 860us/step - loss: 0.3222 - acc: 0.1505 - val_loss: 0.3162 - val_acc: 0.2130\n",
      "\n",
      "Epoch 00004: val_loss improved from 0.31969 to 0.31615, saving model to ../outputs/track_cnnw3.h5\n",
      "Epoch 5/10\n",
      "33329/33329 [==============================] - 29s 860us/step - loss: 0.3076 - acc: 0.1714 - val_loss: 0.2978 - val_acc: 0.2232\n",
      "\n",
      "Epoch 00005: val_loss improved from 0.31615 to 0.29780, saving model to ../outputs/track_cnnw3.h5\n",
      "Epoch 6/10\n",
      "33329/33329 [==============================] - 29s 860us/step - loss: 0.2948 - acc: 0.1833 - val_loss: 0.2855 - val_acc: 0.2189\n",
      "\n",
      "Epoch 00006: val_loss improved from 0.29780 to 0.28555, saving model to ../outputs/track_cnnw3.h5\n",
      "Epoch 7/10\n",
      "33329/33329 [==============================] - 29s 860us/step - loss: 0.2842 - acc: 0.1961 - val_loss: 0.2791 - val_acc: 0.2288\n",
      "\n",
      "Epoch 00007: val_loss improved from 0.28555 to 0.27910, saving model to ../outputs/track_cnnw3.h5\n",
      "Epoch 8/10\n",
      "33329/33329 [==============================] - 29s 859us/step - loss: 0.2738 - acc: 0.2153 - val_loss: 0.2711 - val_acc: 0.2426\n",
      "\n",
      "Epoch 00008: val_loss improved from 0.27910 to 0.27110, saving model to ../outputs/track_cnnw3.h5\n",
      "Epoch 9/10\n",
      "33329/33329 [==============================] - 29s 860us/step - loss: 0.2645 - acc: 0.2237 - val_loss: 0.2661 - val_acc: 0.2420\n",
      "\n",
      "Epoch 00009: val_loss improved from 0.27110 to 0.26612, saving model to ../outputs/track_cnnw3.h5\n",
      "Epoch 10/10\n",
      "33329/33329 [==============================] - 29s 860us/step - loss: 0.2545 - acc: 0.2374 - val_loss: 0.2566 - val_acc: 0.2632\n",
      "\n",
      "Epoch 00010: val_loss improved from 0.26612 to 0.25657, saving model to ../outputs/track_cnnw3.h5\n"
     ]
    },
    {
     "data": {
      "text/plain": [
       "<keras.callbacks.History at 0x7f586cd6bb70>"
      ]
     },
     "execution_count": 10,
     "metadata": {},
     "output_type": "execute_result"
    }
   ],
   "source": [
    "model.fit(x=train_x,y=train_y,nb_epoch=40,validation_split=0.2,callbacks=[checkpointer])"
   ]
  }
 ],
 "metadata": {
  "celltoolbar": "Raw Cell Format",
  "kernelspec": {
   "display_name": "Python 3",
   "language": "python",
   "name": "python3"
  },
  "language_info": {
   "codemirror_mode": {
    "name": "ipython",
    "version": 3
   },
   "file_extension": ".py",
   "mimetype": "text/x-python",
   "name": "python",
   "nbconvert_exporter": "python",
   "pygments_lexer": "ipython3",
   "version": "3.6.3"
  }
 },
 "nbformat": 4,
 "nbformat_minor": 2
}

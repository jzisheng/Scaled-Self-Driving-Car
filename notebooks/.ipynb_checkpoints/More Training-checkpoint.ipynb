{
 "cells": [
  {
   "cell_type": "code",
   "execution_count": 2,
   "metadata": {},
   "outputs": [
    {
     "data": {
      "text/html": [
       "<style>#notebook { padding-top:0px !important; } .container { width:100% !important; } .end_space { min-height:0px !important; } </style>"
      ],
      "text/plain": [
       "<IPython.core.display.HTML object>"
      ]
     },
     "metadata": {},
     "output_type": "display_data"
    }
   ],
   "source": [
    "# Remove padding around screen\n",
    "from IPython.core.display import display, HTML\n",
    "display(HTML(\"<style>\"\n",
    "    + \"#notebook { padding-top:0px !important; } \" \n",
    "    + \".container { width:100% !important; } \"\n",
    "    + \".end_space { min-height:0px !important; } \"\n",
    "    + \"</style>\"))"
   ]
  },
  {
   "cell_type": "code",
   "execution_count": 3,
   "metadata": {},
   "outputs": [],
   "source": [
    "from os import walk\n",
    "import tensorflow as tf\n",
    "import matplotlib.pyplot as plt\n",
    "import matplotlib.image as img\n",
    "import numpy\n",
    "import keras\n",
    "import PIL\n",
    "from PIL import Image\n",
    "\n",
    "output_angles = []\n",
    "angle = -25\n",
    "for i in range(45):\n",
    "    output_angles.append(round(angle,2))\n",
    "    angle+=1.155\n",
    "    \n",
    "def parse_img_name(fstr):\n",
    "    data = fstr.split(\"_\")\n",
    "    if(len(data)>2):\n",
    "        return(data[3])\n",
    "    else:\n",
    "        return -1\n",
    "\n",
    "def prepare_files(path):\n",
    "    # Numpy array containing images\n",
    "    imgs = []\n",
    "    # List containing steering angles\n",
    "    steerings = []\n",
    "    files = get_image_paths(path)\n",
    "    # Prepare training data\n",
    "    count = 0\n",
    "    for fname in files:\n",
    "        count+=1\n",
    "        #if(count > 500):    # Use this to limit loaded images for testing\n",
    "        #    break\n",
    "        parsed = parse_img_name(fname)\n",
    "        if not(parsed == -1): # Make sure the file is valid\n",
    "            # steerings.append( parse_img_name(fname) ) # Append steering\n",
    "            ohe_steering = one_hot_steering(parse_img_name(fname))\n",
    "            if(ohe_steering == None):\n",
    "                continue # Steering is not valid, continue without bad data\n",
    "            steerings.append( ohe_steering )\n",
    "            img = load_image(path+fname)    # Load the image\n",
    "            imgs.append(img)                  # Append image to images array\n",
    "    return imgs, steerings\n",
    "\n",
    "def get_image_paths(path):\n",
    "    # Walk through all the images in the folder path\n",
    "    f = []\n",
    "    for (dirpath, dirnames, filenames) in walk(path):\n",
    "        f.extend(filenames)\n",
    "    return f\n",
    "\n",
    "def load_image(infilename):\n",
    "    size = 64,60\n",
    "    img = Image.open(infilename)\n",
    "    img.thumbnail(size, Image.ANTIALIAS)\n",
    "    data = numpy.asarray(img,dtype=\"uint8\")\n",
    "    return data\n",
    "\n",
    "def channelSplit(image):\n",
    "    return numpy.dsplit(image,image.shape[-1])\n",
    "\n",
    "def one_hot_steering(angle):\n",
    "    weights=[1,1,2,3,4,5,4,3,2,1,1]  # Weights to output feedback unit\n",
    "    encoding = [0] * 45\n",
    "    for i in range(len(output_angles)-1):\n",
    "        if (output_angles[i] <= float(angle)) and (float(angle) <= output_angles[i+1]):\n",
    "            for j in range(i-5,i+5,1): # Iterate through encoding and place weights\n",
    "                if(j>=0 and j<(len(encoding))):\n",
    "                    encoding[j] = weights[j+5-i]\n",
    "            return encoding\n",
    "        if (i == len(output_angles)-1):\n",
    "            print(\"Data incorrectly formatted\")\n",
    "            return encoding\n",
    "            break\n",
    "\n"
   ]
  },
  {
   "cell_type": "code",
   "execution_count": 4,
   "metadata": {},
   "outputs": [
    {
     "data": {
      "text/plain": [
       "(45,)"
      ]
     },
     "execution_count": 4,
     "metadata": {},
     "output_type": "execute_result"
    }
   ],
   "source": [
    "filepath = \"../datasets/testing/\"\n",
    "imgs, steerings = prepare_files(filepath)\n",
    "train_y = numpy.array(steerings)\n",
    "train_x = numpy.array(imgs)\n",
    "# AC-frame_011922_st_23.87382_th_0.3.jpg\n",
    "# one_hot_steering(\"24\")\n",
    "train_y.shape[1:]"
   ]
  },
  {
   "cell_type": "code",
   "execution_count": null,
   "metadata": {
    "scrolled": false
   },
   "outputs": [
    {
     "name": "stderr",
     "output_type": "stream",
     "text": [
      "/home/jason/tensorflow/lib/python3.6/site-packages/keras/engine/topology.py:1269: UserWarning: Update your `Conv2D` call to the Keras 2 API: `Conv2D(name=\"convolution2d_1\", activity_regularizer=None, trainable=True, input_dtype=\"float32\", batch_input_shape=[None, 48,..., activation=\"linear\", kernel_size=(5, 5), filters=32, strides=[1, 1], padding=\"valid\", data_format=\"channels_last\", kernel_initializer=\"glorot_uniform\", kernel_regularizer=None, bias_regularizer=None, kernel_constraint=None, bias_constraint=None, use_bias=True)`\n",
      "  return cls(**config)\n",
      "/home/jason/tensorflow/lib/python3.6/site-packages/keras/engine/topology.py:1269: UserWarning: Update your `Dropout` call to the Keras 2 API: `Dropout(trainable=True, name=\"dropout_1\", rate=0.3)`\n",
      "  return cls(**config)\n",
      "/home/jason/tensorflow/lib/python3.6/site-packages/keras/engine/topology.py:1269: UserWarning: Update your `Conv2D` call to the Keras 2 API: `Conv2D(name=\"convolution2d_2\", activity_regularizer=None, trainable=True, activation=\"linear\", kernel_size=(5, 5), filters=24, strides=[1, 1], padding=\"same\", data_format=\"channels_last\", kernel_initializer=\"glorot_uniform\", kernel_regularizer=None, bias_regularizer=None, kernel_constraint=None, bias_constraint=None, use_bias=True)`\n",
      "  return cls(**config)\n",
      "/home/jason/tensorflow/lib/python3.6/site-packages/keras/engine/topology.py:1269: UserWarning: Update your `Conv2D` call to the Keras 2 API: `Conv2D(name=\"convolution2d_3\", activity_regularizer=None, trainable=True, activation=\"linear\", kernel_size=(3, 3), filters=32, strides=[1, 1], padding=\"same\", data_format=\"channels_last\", kernel_initializer=\"glorot_uniform\", kernel_regularizer=None, bias_regularizer=None, kernel_constraint=None, bias_constraint=None, use_bias=True)`\n",
      "  return cls(**config)\n",
      "/home/jason/tensorflow/lib/python3.6/site-packages/keras/engine/topology.py:1269: UserWarning: Update your `Dense` call to the Keras 2 API: `Dense(name=\"dense_1\", activity_regularizer=None, trainable=True, input_dim=84480, activation=\"linear\", units=500, kernel_initializer=\"glorot_uniform\", kernel_regularizer=None, bias_regularizer=None, kernel_constraint=None, bias_constraint=None, use_bias=True)`\n",
      "  return cls(**config)\n",
      "/home/jason/tensorflow/lib/python3.6/site-packages/keras/engine/topology.py:1269: UserWarning: Update your `Dropout` call to the Keras 2 API: `Dropout(trainable=True, name=\"dropout_2\", rate=0.1)`\n",
      "  return cls(**config)\n",
      "/home/jason/tensorflow/lib/python3.6/site-packages/keras/engine/topology.py:1269: UserWarning: Update your `Dense` call to the Keras 2 API: `Dense(name=\"dense_2\", activity_regularizer=None, trainable=True, input_dim=500, activation=\"linear\", units=128, kernel_initializer=\"glorot_uniform\", kernel_regularizer=None, bias_regularizer=None, kernel_constraint=None, bias_constraint=None, use_bias=True)`\n",
      "  return cls(**config)\n",
      "/home/jason/tensorflow/lib/python3.6/site-packages/keras/engine/topology.py:1269: UserWarning: Update your `Dropout` call to the Keras 2 API: `Dropout(trainable=True, name=\"dropout_3\", rate=0.1)`\n",
      "  return cls(**config)\n",
      "/home/jason/tensorflow/lib/python3.6/site-packages/keras/engine/topology.py:1269: UserWarning: Update your `Dense` call to the Keras 2 API: `Dense(name=\"dense_3\", activity_regularizer=None, trainable=True, input_dim=128, activation=\"relu\", units=45, kernel_initializer=\"glorot_uniform\", kernel_regularizer=None, bias_regularizer=None, kernel_constraint=None, bias_constraint=None, use_bias=True)`\n",
      "  return cls(**config)\n"
     ]
    }
   ],
   "source": [
    "model = keras.models.load_model('../outputs/alvinnw3.h5')\n",
    "\n",
    "# Recurrent neural network\n",
    "\n",
    "# Load callbacks\n",
    "checkpointer = keras.callbacks.ModelCheckpoint(\n",
    "    filepath='../outputs/alvinnw3.h5',\n",
    "    verbose=1, \n",
    "    save_best_only=True)\n",
    "\n",
    "\n",
    "model.summary()\n",
    "model.compile(optimizer='sgd',\n",
    "              loss='categorical_crossentropy',\n",
    "              metrics=['accuracy'])\n",
    "history = model.fit(x=train_x,y=train_y,epochs=10,validation_split=0.1,callbacks=[checkpointer])\n"
   ]
  }
 ],
 "metadata": {
  "kernelspec": {
   "display_name": "Python 3",
   "language": "python",
   "name": "python3"
  },
  "language_info": {
   "codemirror_mode": {
    "name": "ipython",
    "version": 3
   },
   "file_extension": ".py",
   "mimetype": "text/x-python",
   "name": "python",
   "nbconvert_exporter": "python",
   "pygments_lexer": "ipython3",
   "version": "3.6.3"
  }
 },
 "nbformat": 4,
 "nbformat_minor": 2
}

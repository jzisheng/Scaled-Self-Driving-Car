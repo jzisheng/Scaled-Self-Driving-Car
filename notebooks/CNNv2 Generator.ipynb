{
 "cells": [
  {
   "cell_type": "code",
   "execution_count": 3,
   "metadata": {},
   "outputs": [],
   "source": [
    "import matplotlib\n",
    "# Remove padding around screen\n",
    "\n",
    "from PIL import Image\n",
    "from os import walk\n",
    "from IPython.core.display import display, HTML\n",
    "import matplotlib.pyplot as plt\n",
    "import matplotlib.image as img\n",
    "import tensorflow as tf\n",
    "import numpy,keras,PIL,sys\n",
    "\n",
    "\n",
    "sys.path.insert(0, \"/home/jason/sproj/scripts/\")\n",
    "import training_donkey as td"
   ]
  },
  {
   "cell_type": "code",
   "execution_count": null,
   "metadata": {},
   "outputs": [
    {
     "name": "stdout",
     "output_type": "stream",
     "text": [
      "tub_names ~/sproj/datasets/car-data-3-4-ONLY/*\n",
      "TubGroup:tubpaths: ['/home/jason/sproj/datasets/car-data-3-4-ONLY/tub_16_18-03-04', '/home/jason/sproj/datasets/car-data-3-4-ONLY/tub_14_18-03-03', '/home/jason/sproj/datasets/car-data-3-4-ONLY/tub_15_18-03-04', '/home/jason/sproj/datasets/car-data-3-4-ONLY/tub_18_18-03-04', '/home/jason/sproj/datasets/car-data-3-4-ONLY/tub_17_18-03-04']\n",
      "path_in_tub: /home/jason/sproj/datasets/car-data-3-4-ONLY/tub_16_18-03-04\n",
      "Tub exists: /home/jason/sproj/datasets/car-data-3-4-ONLY/tub_16_18-03-04\n",
      "path_in_tub: /home/jason/sproj/datasets/car-data-3-4-ONLY/tub_14_18-03-03\n",
      "Tub exists: /home/jason/sproj/datasets/car-data-3-4-ONLY/tub_14_18-03-03\n",
      "path_in_tub: /home/jason/sproj/datasets/car-data-3-4-ONLY/tub_15_18-03-04\n",
      "Tub exists: /home/jason/sproj/datasets/car-data-3-4-ONLY/tub_15_18-03-04\n",
      "path_in_tub: /home/jason/sproj/datasets/car-data-3-4-ONLY/tub_18_18-03-04\n",
      "Tub exists: /home/jason/sproj/datasets/car-data-3-4-ONLY/tub_18_18-03-04\n",
      "path_in_tub: /home/jason/sproj/datasets/car-data-3-4-ONLY/tub_17_18-03-04\n",
      "Tub exists: /home/jason/sproj/datasets/car-data-3-4-ONLY/tub_17_18-03-04\n",
      "joining the tubs 27765 records together. This could take 0 minutes.\n",
      "train: 22212, validation: 5553\n",
      "steps_per_epoch 173\n",
      "Epoch 1/100\n",
      "173/173 [==============================] - 34s 198ms/step - loss: 2.0017 - angle_out_loss: 2.2235 - throttle_out_loss: 0.5723 - val_loss: 1.8178 - val_angle_out_loss: 2.0193 - val_throttle_out_loss: 0.4033\n",
      "\n",
      "Epoch 00001: val_loss improved from inf to 1.81780, saving model to nvidia-1\n",
      "Epoch 2/100\n",
      "173/173 [==============================] - 32s 188ms/step - loss: 1.5656 - angle_out_loss: 1.7390 - throttle_out_loss: 0.5076 - val_loss: 1.5286 - val_angle_out_loss: 1.6980 - val_throttle_out_loss: 0.3428\n",
      "\n",
      "Epoch 00002: val_loss improved from 1.81780 to 1.52856, saving model to nvidia-1\n",
      "Epoch 3/100\n",
      "173/173 [==============================] - 33s 188ms/step - loss: 1.3665 - angle_out_loss: 1.5178 - throttle_out_loss: 0.4962 - val_loss: 1.4355 - val_angle_out_loss: 1.5946 - val_throttle_out_loss: 0.3332\n",
      "\n",
      "Epoch 00003: val_loss improved from 1.52856 to 1.43550, saving model to nvidia-1\n",
      "Epoch 4/100\n",
      " 99/173 [================>.............] - ETA: 11s - loss: 1.2632 - angle_out_loss: 1.4030 - throttle_out_loss: 0.4321"
     ]
    }
   ],
   "source": [
    "td.train(\"~/sproj/datasets/car-data-3-4-ONLY/*\",\"nvidia-1\")"
   ]
  },
  {
   "cell_type": "raw",
   "metadata": {},
   "source": []
  }
 ],
 "metadata": {
  "kernelspec": {
   "display_name": "Python 3",
   "language": "python",
   "name": "python3"
  },
  "language_info": {
   "codemirror_mode": {
    "name": "ipython",
    "version": 3
   },
   "file_extension": ".py",
   "mimetype": "text/x-python",
   "name": "python",
   "nbconvert_exporter": "python",
   "pygments_lexer": "ipython3",
   "version": "3.6.3"
  }
 },
 "nbformat": 4,
 "nbformat_minor": 2
}

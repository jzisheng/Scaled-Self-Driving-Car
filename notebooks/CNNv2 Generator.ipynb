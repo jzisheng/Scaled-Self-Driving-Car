{
 "cells": [
  {
   "cell_type": "code",
   "execution_count": 1,
   "metadata": {},
   "outputs": [
    {
     "name": "stderr",
     "output_type": "stream",
     "text": [
      "/usr/local/lib/python3.6/dist-packages/h5py/__init__.py:36: FutureWarning: Conversion of the second argument of issubdtype from `float` to `np.floating` is deprecated. In future, it will be treated as `np.float64 == np.dtype(float).type`.\n",
      "  from ._conv import register_converters as _register_converters\n",
      "Using TensorFlow backend.\n"
     ]
    }
   ],
   "source": [
    "import matplotlib\n",
    "# Remove padding around screen\n",
    "\n",
    "from PIL import Image\n",
    "from os import walk\n",
    "from IPython.core.display import display, HTML\n",
    "import matplotlib.pyplot as plt\n",
    "import matplotlib.image as img\n",
    "import tensorflow as tf\n",
    "import numpy,keras,PIL,sys\n",
    "\n",
    "\n",
    "sys.path.insert(0, \"/home/jason/sproj/scripts/\")\n",
    "import training_donkey as td\n",
    "import datastore\n",
    "import utils"
   ]
  },
  {
   "cell_type": "code",
   "execution_count": 4,
   "metadata": {},
   "outputs": [
    {
     "data": {
      "text/plain": [
       "array([0., 0., 0., 0., 0., 0., 0., 1., 0., 0., 0., 0., 0., 0., 0.])"
      ]
     },
     "execution_count": 4,
     "metadata": {},
     "output_type": "execute_result"
    }
   ],
   "source": [
    "utils.linear_bin(0)"
   ]
  },
  {
   "cell_type": "code",
   "execution_count": 4,
   "metadata": {},
   "outputs": [
    {
     "name": "stdout",
     "output_type": "stream",
     "text": [
      "TubGroup:tubpaths: ['/home/jason/rawdata/car-data-3-4/data/tub_5_18-02-23', '/home/jason/rawdata/car-data-3-4/data/tub_4_18-02-23', '/home/jason/rawdata/car-data-3-4/data/tub_1_18-02-23', '/home/jason/rawdata/car-data-3-4/data/tub_7_18-02-23', '/home/jason/rawdata/car-data-3-4/data/tub_3_18-02-23', '/home/jason/rawdata/car-data-3-4/data/tub_9_18-02-23', '/home/jason/rawdata/car-data-3-4/data/tub_2_18-02-23', '/home/jason/rawdata/car-data-3-4/data/tub_11_18-02-23', '/home/jason/rawdata/car-data-3-4/data/tub_6_18-02-23', '/home/jason/rawdata/car-data-3-4/data/tub_8_18-02-23', '/home/jason/rawdata/car-data-3-4/data/tub_12_18-02-23']\n",
      "path_in_tub: /home/jason/rawdata/car-data-3-4/data/tub_5_18-02-23\n",
      "Tub exists: /home/jason/rawdata/car-data-3-4/data/tub_5_18-02-23\n",
      "path_in_tub: /home/jason/rawdata/car-data-3-4/data/tub_4_18-02-23\n",
      "Tub exists: /home/jason/rawdata/car-data-3-4/data/tub_4_18-02-23\n",
      "path_in_tub: /home/jason/rawdata/car-data-3-4/data/tub_1_18-02-23\n",
      "Tub exists: /home/jason/rawdata/car-data-3-4/data/tub_1_18-02-23\n",
      "path_in_tub: /home/jason/rawdata/car-data-3-4/data/tub_7_18-02-23\n",
      "Tub exists: /home/jason/rawdata/car-data-3-4/data/tub_7_18-02-23\n",
      "path_in_tub: /home/jason/rawdata/car-data-3-4/data/tub_3_18-02-23\n",
      "Tub exists: /home/jason/rawdata/car-data-3-4/data/tub_3_18-02-23\n",
      "path_in_tub: /home/jason/rawdata/car-data-3-4/data/tub_9_18-02-23\n",
      "Tub exists: /home/jason/rawdata/car-data-3-4/data/tub_9_18-02-23\n",
      "path_in_tub: /home/jason/rawdata/car-data-3-4/data/tub_2_18-02-23\n",
      "Tub exists: /home/jason/rawdata/car-data-3-4/data/tub_2_18-02-23\n",
      "path_in_tub: /home/jason/rawdata/car-data-3-4/data/tub_11_18-02-23\n",
      "Tub exists: /home/jason/rawdata/car-data-3-4/data/tub_11_18-02-23\n",
      "path_in_tub: /home/jason/rawdata/car-data-3-4/data/tub_6_18-02-23\n",
      "Tub exists: /home/jason/rawdata/car-data-3-4/data/tub_6_18-02-23\n",
      "path_in_tub: /home/jason/rawdata/car-data-3-4/data/tub_8_18-02-23\n",
      "Tub exists: /home/jason/rawdata/car-data-3-4/data/tub_8_18-02-23\n",
      "path_in_tub: /home/jason/rawdata/car-data-3-4/data/tub_12_18-02-23\n",
      "Tub exists: /home/jason/rawdata/car-data-3-4/data/tub_12_18-02-23\n",
      "joining the tubs 51195 records together. This could take 0 minutes.\n"
     ]
    }
   ],
   "source": [
    "path = '~/rawdata/car-data-3-4/data/*'\n",
    "inputs = ['user/speed', 'cam/image']\n",
    "types = ['float', 'image']\n",
    "t=datastore.TubGroup(tub_paths_arg=path)"
   ]
  },
  {
   "cell_type": "code",
   "execution_count": 5,
   "metadata": {},
   "outputs": [
    {
     "name": "stdout",
     "output_type": "stream",
     "text": [
      "Found: 0 records.\n"
     ]
    },
    {
     "ename": "StopIteration",
     "evalue": "",
     "output_type": "error",
     "traceback": [
      "\u001b[0;31m---------------------------------------------------------------------------\u001b[0m",
      "\u001b[0;31mStopIteration\u001b[0m                             Traceback (most recent call last)",
      "\u001b[0;32m<ipython-input-5-165ee4d22e19>\u001b[0m in \u001b[0;36m<module>\u001b[0;34m()\u001b[0m\n\u001b[1;32m      1\u001b[0m \u001b[0;32mfor\u001b[0m \u001b[0mtub_i\u001b[0m \u001b[0;32min\u001b[0m \u001b[0mt\u001b[0m\u001b[0;34m.\u001b[0m\u001b[0mtubs\u001b[0m\u001b[0;34m:\u001b[0m\u001b[0;34m\u001b[0m\u001b[0m\n\u001b[0;32m----> 2\u001b[0;31m     \u001b[0mt\u001b[0m\u001b[0;34m.\u001b[0m\u001b[0mcheck\u001b[0m\u001b[0;34m(\u001b[0m\u001b[0;34m)\u001b[0m\u001b[0;34m\u001b[0m\u001b[0m\n\u001b[0m",
      "\u001b[0;32m~/sproj/scripts/datastore.py\u001b[0m in \u001b[0;36mcheck\u001b[0;34m(self, fix)\u001b[0m\n\u001b[1;32m    150\u001b[0m         \u001b[0mprint\u001b[0m\u001b[0;34m(\u001b[0m\u001b[0;34m'Found: %d records.'\u001b[0m \u001b[0;34m%\u001b[0m \u001b[0mself\u001b[0m\u001b[0;34m.\u001b[0m\u001b[0mget_num_records\u001b[0m\u001b[0;34m(\u001b[0m\u001b[0;34m)\u001b[0m\u001b[0;34m)\u001b[0m\u001b[0;34m\u001b[0m\u001b[0m\n\u001b[1;32m    151\u001b[0m         \u001b[0mproblems\u001b[0m \u001b[0;34m=\u001b[0m \u001b[0;32mFalse\u001b[0m\u001b[0;34m\u001b[0m\u001b[0m\n\u001b[0;32m--> 152\u001b[0;31m         \u001b[0;32mfor\u001b[0m \u001b[0mix\u001b[0m \u001b[0;32min\u001b[0m \u001b[0mself\u001b[0m\u001b[0;34m.\u001b[0m\u001b[0mget_index\u001b[0m\u001b[0;34m(\u001b[0m\u001b[0mshuffled\u001b[0m\u001b[0;34m=\u001b[0m\u001b[0;32mFalse\u001b[0m\u001b[0;34m)\u001b[0m\u001b[0;34m:\u001b[0m\u001b[0;34m\u001b[0m\u001b[0m\n\u001b[0m\u001b[1;32m    153\u001b[0m             \u001b[0;32mtry\u001b[0m\u001b[0;34m:\u001b[0m\u001b[0;34m\u001b[0m\u001b[0m\n\u001b[1;32m    154\u001b[0m                 \u001b[0mself\u001b[0m\u001b[0;34m.\u001b[0m\u001b[0mget_record\u001b[0m\u001b[0;34m(\u001b[0m\u001b[0mix\u001b[0m\u001b[0;34m)\u001b[0m\u001b[0;34m\u001b[0m\u001b[0m\n",
      "\u001b[0;32m~/sproj/scripts/datastore.py\u001b[0m in \u001b[0;36mget_index\u001b[0;34m(self, shuffled)\u001b[0m\n\u001b[1;32m     73\u001b[0m \u001b[0;34m\u001b[0m\u001b[0m\n\u001b[1;32m     74\u001b[0m     \u001b[0;32mdef\u001b[0m \u001b[0mget_index\u001b[0m\u001b[0;34m(\u001b[0m\u001b[0mself\u001b[0m\u001b[0;34m,\u001b[0m \u001b[0mshuffled\u001b[0m\u001b[0;34m=\u001b[0m\u001b[0;32mTrue\u001b[0m\u001b[0;34m)\u001b[0m\u001b[0;34m:\u001b[0m\u001b[0;34m\u001b[0m\u001b[0m\n\u001b[0;32m---> 75\u001b[0;31m         \u001b[0mfiles\u001b[0m \u001b[0;34m=\u001b[0m \u001b[0mnext\u001b[0m\u001b[0;34m(\u001b[0m\u001b[0mos\u001b[0m\u001b[0;34m.\u001b[0m\u001b[0mwalk\u001b[0m\u001b[0;34m(\u001b[0m\u001b[0mself\u001b[0m\u001b[0;34m.\u001b[0m\u001b[0mpath\u001b[0m\u001b[0;34m)\u001b[0m\u001b[0;34m)\u001b[0m\u001b[0;34m[\u001b[0m\u001b[0;36m2\u001b[0m\u001b[0;34m]\u001b[0m\u001b[0;34m\u001b[0m\u001b[0m\n\u001b[0m\u001b[1;32m     76\u001b[0m         \u001b[0mrecord_files\u001b[0m \u001b[0;34m=\u001b[0m \u001b[0;34m[\u001b[0m\u001b[0mf\u001b[0m \u001b[0;32mfor\u001b[0m \u001b[0mf\u001b[0m \u001b[0;32min\u001b[0m \u001b[0mfiles\u001b[0m \u001b[0;32mif\u001b[0m \u001b[0mf\u001b[0m\u001b[0;34m[\u001b[0m\u001b[0;34m:\u001b[0m\u001b[0;36m6\u001b[0m\u001b[0;34m]\u001b[0m\u001b[0;34m==\u001b[0m\u001b[0;34m'record'\u001b[0m\u001b[0;34m]\u001b[0m\u001b[0;34m\u001b[0m\u001b[0m\n\u001b[1;32m     77\u001b[0m \u001b[0;34m\u001b[0m\u001b[0m\n",
      "\u001b[0;31mStopIteration\u001b[0m: "
     ]
    }
   ],
   "source": [
    "for tub_i in t.tubs:\n",
    "    t.check()"
   ]
  },
  {
   "cell_type": "code",
   "execution_count": 6,
   "metadata": {},
   "outputs": [
    {
     "name": "stdout",
     "output_type": "stream",
     "text": [
      "tub_names ~/sproj/datasets/car-data-3-4-ONLY/*\n",
      "TubGroup:tubpaths: ['/home/jason/sproj/datasets/car-data-3-4-ONLY/tub_16_18-03-04', '/home/jason/sproj/datasets/car-data-3-4-ONLY/tub_14_18-03-03', '/home/jason/sproj/datasets/car-data-3-4-ONLY/tub_15_18-03-04', '/home/jason/sproj/datasets/car-data-3-4-ONLY/tub_18_18-03-04', '/home/jason/sproj/datasets/car-data-3-4-ONLY/tub_17_18-03-04']\n",
      "path_in_tub: /home/jason/sproj/datasets/car-data-3-4-ONLY/tub_16_18-03-04\n",
      "Tub exists: /home/jason/sproj/datasets/car-data-3-4-ONLY/tub_16_18-03-04\n",
      "path_in_tub: /home/jason/sproj/datasets/car-data-3-4-ONLY/tub_14_18-03-03\n",
      "Tub exists: /home/jason/sproj/datasets/car-data-3-4-ONLY/tub_14_18-03-03\n",
      "path_in_tub: /home/jason/sproj/datasets/car-data-3-4-ONLY/tub_15_18-03-04\n",
      "Tub exists: /home/jason/sproj/datasets/car-data-3-4-ONLY/tub_15_18-03-04\n",
      "path_in_tub: /home/jason/sproj/datasets/car-data-3-4-ONLY/tub_18_18-03-04\n",
      "Tub exists: /home/jason/sproj/datasets/car-data-3-4-ONLY/tub_18_18-03-04\n",
      "path_in_tub: /home/jason/sproj/datasets/car-data-3-4-ONLY/tub_17_18-03-04\n",
      "Tub exists: /home/jason/sproj/datasets/car-data-3-4-ONLY/tub_17_18-03-04\n",
      "joining the tubs 27765 records together. This could take 0 minutes.\n",
      "['user/angle', 'user/throttle']\n",
      "train: 22212, validation: 5553\n",
      "steps_per_epoch 173\n",
      "Epoch 1/100\n",
      "145/173 [========================>.....] - ETA: 4s - loss: 2.0881 - angle_out_loss: 2.3195 - throttle_out_loss: 0.5413"
     ]
    },
    {
     "ename": "KeyboardInterrupt",
     "evalue": "",
     "output_type": "error",
     "traceback": [
      "\u001b[0;31m---------------------------------------------------------------------------\u001b[0m",
      "\u001b[0;31mKeyboardInterrupt\u001b[0m                         Traceback (most recent call last)",
      "\u001b[0;32m<ipython-input-6-f106c7712dc0>\u001b[0m in \u001b[0;36m<module>\u001b[0;34m()\u001b[0m\n\u001b[0;32m----> 1\u001b[0;31m \u001b[0mtd\u001b[0m\u001b[0;34m.\u001b[0m\u001b[0mtrain\u001b[0m\u001b[0;34m(\u001b[0m\u001b[0;34m\"~/sproj/datasets/car-data-3-4-ONLY/*\"\u001b[0m\u001b[0;34m,\u001b[0m\u001b[0;34m\"nvidia-1\"\u001b[0m\u001b[0;34m)\u001b[0m\u001b[0;34m\u001b[0m\u001b[0m\n\u001b[0m\u001b[1;32m      2\u001b[0m \u001b[0;31m# td.train(\"/home/jason/rawdata/car-data-3-4/data/*\",\"nvidia-1\")\u001b[0m\u001b[0;34m\u001b[0m\u001b[0;34m\u001b[0m\u001b[0m\n",
      "\u001b[0;32m~/sproj/scripts/training_donkey.py\u001b[0m in \u001b[0;36mtrain\u001b[0;34m(tub_names, model_name)\u001b[0m\n\u001b[1;32m    103\u001b[0m              \u001b[0msaved_model_path\u001b[0m\u001b[0;34m=\u001b[0m\u001b[0mmodel_path\u001b[0m\u001b[0;34m,\u001b[0m\u001b[0;34m\u001b[0m\u001b[0m\n\u001b[1;32m    104\u001b[0m              \u001b[0msteps\u001b[0m\u001b[0;34m=\u001b[0m\u001b[0msteps_per_epoch\u001b[0m\u001b[0;34m,\u001b[0m\u001b[0;34m\u001b[0m\u001b[0m\n\u001b[0;32m--> 105\u001b[0;31m              train_split=cfg.TRAIN_TEST_SPLIT)\n\u001b[0m\u001b[1;32m    106\u001b[0m \u001b[0;34m\u001b[0m\u001b[0m\n\u001b[1;32m    107\u001b[0m \u001b[0;34m\u001b[0m\u001b[0m\n",
      "\u001b[0;32m~/sproj/scripts/training_donkey.py\u001b[0m in \u001b[0;36mtrain\u001b[0;34m(self, train_gen, val_gen, saved_model_path, epochs, steps, train_split, verbose, min_delta, patience, use_early_stop)\u001b[0m\n\u001b[1;32m     50\u001b[0m                         \u001b[0mvalidation_data\u001b[0m\u001b[0;34m=\u001b[0m\u001b[0mval_gen\u001b[0m\u001b[0;34m,\u001b[0m\u001b[0;34m\u001b[0m\u001b[0m\n\u001b[1;32m     51\u001b[0m                         \u001b[0mcallbacks\u001b[0m\u001b[0;34m=\u001b[0m\u001b[0mcallbacks_list\u001b[0m\u001b[0;34m,\u001b[0m\u001b[0;34m\u001b[0m\u001b[0m\n\u001b[0;32m---> 52\u001b[0;31m                         validation_steps=steps*(0.9 - train_split))\n\u001b[0m\u001b[1;32m     53\u001b[0m         \u001b[0;32mreturn\u001b[0m \u001b[0mhist\u001b[0m\u001b[0;34m\u001b[0m\u001b[0m\n\u001b[1;32m     54\u001b[0m \u001b[0;34m\u001b[0m\u001b[0m\n",
      "\u001b[0;32m/usr/local/lib/python3.6/dist-packages/keras/legacy/interfaces.py\u001b[0m in \u001b[0;36mwrapper\u001b[0;34m(*args, **kwargs)\u001b[0m\n\u001b[1;32m     89\u001b[0m                 warnings.warn('Update your `' + object_name +\n\u001b[1;32m     90\u001b[0m                               '` call to the Keras 2 API: ' + signature, stacklevel=2)\n\u001b[0;32m---> 91\u001b[0;31m             \u001b[0;32mreturn\u001b[0m \u001b[0mfunc\u001b[0m\u001b[0;34m(\u001b[0m\u001b[0;34m*\u001b[0m\u001b[0margs\u001b[0m\u001b[0;34m,\u001b[0m \u001b[0;34m**\u001b[0m\u001b[0mkwargs\u001b[0m\u001b[0;34m)\u001b[0m\u001b[0;34m\u001b[0m\u001b[0m\n\u001b[0m\u001b[1;32m     92\u001b[0m         \u001b[0mwrapper\u001b[0m\u001b[0;34m.\u001b[0m\u001b[0m_original_function\u001b[0m \u001b[0;34m=\u001b[0m \u001b[0mfunc\u001b[0m\u001b[0;34m\u001b[0m\u001b[0m\n\u001b[1;32m     93\u001b[0m         \u001b[0;32mreturn\u001b[0m \u001b[0mwrapper\u001b[0m\u001b[0;34m\u001b[0m\u001b[0m\n",
      "\u001b[0;32m/usr/local/lib/python3.6/dist-packages/keras/engine/training.py\u001b[0m in \u001b[0;36mfit_generator\u001b[0;34m(self, generator, steps_per_epoch, epochs, verbose, callbacks, validation_data, validation_steps, class_weight, max_queue_size, workers, use_multiprocessing, shuffle, initial_epoch)\u001b[0m\n\u001b[1;32m   2210\u001b[0m                 \u001b[0mbatch_index\u001b[0m \u001b[0;34m=\u001b[0m \u001b[0;36m0\u001b[0m\u001b[0;34m\u001b[0m\u001b[0m\n\u001b[1;32m   2211\u001b[0m                 \u001b[0;32mwhile\u001b[0m \u001b[0msteps_done\u001b[0m \u001b[0;34m<\u001b[0m \u001b[0msteps_per_epoch\u001b[0m\u001b[0;34m:\u001b[0m\u001b[0;34m\u001b[0m\u001b[0m\n\u001b[0;32m-> 2212\u001b[0;31m                     \u001b[0mgenerator_output\u001b[0m \u001b[0;34m=\u001b[0m \u001b[0mnext\u001b[0m\u001b[0;34m(\u001b[0m\u001b[0moutput_generator\u001b[0m\u001b[0;34m)\u001b[0m\u001b[0;34m\u001b[0m\u001b[0m\n\u001b[0m\u001b[1;32m   2213\u001b[0m \u001b[0;34m\u001b[0m\u001b[0m\n\u001b[1;32m   2214\u001b[0m                     \u001b[0;32mif\u001b[0m \u001b[0;32mnot\u001b[0m \u001b[0mhasattr\u001b[0m\u001b[0;34m(\u001b[0m\u001b[0mgenerator_output\u001b[0m\u001b[0;34m,\u001b[0m \u001b[0;34m'__len__'\u001b[0m\u001b[0;34m)\u001b[0m\u001b[0;34m:\u001b[0m\u001b[0;34m\u001b[0m\u001b[0m\n",
      "\u001b[0;32m/usr/local/lib/python3.6/dist-packages/keras/utils/data_utils.py\u001b[0m in \u001b[0;36mget\u001b[0;34m(self)\u001b[0m\n\u001b[1;32m    771\u001b[0m                     \u001b[0;32mraise\u001b[0m \u001b[0mStopIteration\u001b[0m\u001b[0;34m(\u001b[0m\u001b[0;34m)\u001b[0m\u001b[0;34m\u001b[0m\u001b[0m\n\u001b[1;32m    772\u001b[0m                 \u001b[0;32melse\u001b[0m\u001b[0;34m:\u001b[0m\u001b[0;34m\u001b[0m\u001b[0m\n\u001b[0;32m--> 773\u001b[0;31m                     \u001b[0mtime\u001b[0m\u001b[0;34m.\u001b[0m\u001b[0msleep\u001b[0m\u001b[0;34m(\u001b[0m\u001b[0mself\u001b[0m\u001b[0;34m.\u001b[0m\u001b[0mwait_time\u001b[0m\u001b[0;34m)\u001b[0m\u001b[0;34m\u001b[0m\u001b[0m\n\u001b[0m\u001b[1;32m    774\u001b[0m \u001b[0;34m\u001b[0m\u001b[0m\n\u001b[1;32m    775\u001b[0m         \u001b[0;31m# Make sure to rethrow the first exception in the queue, if any\u001b[0m\u001b[0;34m\u001b[0m\u001b[0;34m\u001b[0m\u001b[0m\n",
      "\u001b[0;31mKeyboardInterrupt\u001b[0m: "
     ]
    }
   ],
   "source": [
    "td.train(\"~/sproj/datasets/car-data-3-4-ONLY/*\",\"nvidia-1\")\n",
    "# td.train(\"/home/jason/rawdata/car-data-3-4/data/*\",\"nvidia-1\")"
   ]
  },
  {
   "cell_type": "code",
   "execution_count": null,
   "metadata": {},
   "outputs": [],
   "source": [
    "import os\n",
    "from PIL import Image\n",
    "\n",
    "fp = \"/home/jason/rawdata/car-data-3-4/data/\"\n",
    "# traverse root directory, and list directories as dirs and files as files\n",
    "count=0\n",
    "for root, dirs, files in os.walk(fp):\n",
    "    path = root.split(os.sep)\n",
    "    #print((len(path) - 1) * '---', os.path.basename(root))\n",
    "    for file in files:\n",
    "        count+=1\n",
    "        if file.endswith(\".jpg\"):\n",
    "            #print(len(path) * '---', file)\n",
    "            img = Image.open(os.path.join(fp,os.path.basename(root),file))\n",
    "            print(img.size)\n",
    "            if img.verify() != None:\n",
    "                print(os.path.join(fp,os.path.basename(root),file))\n",
    "        if count > 40:\n",
    "            break\n",
    "        "
   ]
  }
 ],
 "metadata": {
  "kernelspec": {
   "display_name": "Python 3",
   "language": "python",
   "name": "python3"
  },
  "language_info": {
   "codemirror_mode": {
    "name": "ipython",
    "version": 3
   },
   "file_extension": ".py",
   "mimetype": "text/x-python",
   "name": "python",
   "nbconvert_exporter": "python",
   "pygments_lexer": "ipython3",
   "version": "3.6.3"
  }
 },
 "nbformat": 4,
 "nbformat_minor": 2
}

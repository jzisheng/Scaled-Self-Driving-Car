{
 "cells": [
  {
   "cell_type": "code",
   "execution_count": 1,
   "metadata": {},
   "outputs": [
    {
     "data": {
      "text/html": [
       "<style>#notebook { padding-top:0px !important; } .container { width:100% !important; } .end_space { min-height:0px !important; } </style>"
      ],
      "text/plain": [
       "<IPython.core.display.HTML object>"
      ]
     },
     "metadata": {},
     "output_type": "display_data"
    }
   ],
   "source": [
    "import matplotlib\n",
    "matplotlib.use('Agg')\n",
    "# Remove padding around screen\n",
    "\n",
    "from IPython.core.display import display, HTML\n",
    "import matplotlib.pyplot as plt\n",
    "import matplotlib.image as img\n",
    "\n",
    "display(HTML(\"<style>\"\n",
    "    + \"#notebook { padding-top:0px !important; } \" \n",
    "    + \".container { width:100% !important; } \"\n",
    "    + \".end_space { min-height:0px !important; } \"\n",
    "    + \"</style>\"))"
   ]
  },
  {
   "cell_type": "code",
   "execution_count": 2,
   "metadata": {
    "scrolled": true
   },
   "outputs": [
    {
     "name": "stderr",
     "output_type": "stream",
     "text": [
      "Using TensorFlow backend.\n"
     ]
    }
   ],
   "source": [
    "from os import walk\n",
    "import tensorflow as tf\n",
    "\n",
    "import numpy\n",
    "import keras\n",
    "import PIL\n",
    "from PIL import Image\n",
    "\n",
    "output_angles = []\n",
    "angle = -25\n",
    "for i in range(45):\n",
    "    output_angles.append(round(angle,2))\n",
    "    angle+=1.155\n",
    "    \n",
    "def parse_img_name(fstr):\n",
    "    data = fstr.split(\"_\")\n",
    "    if(len(data)>2):\n",
    "        return(data[3])\n",
    "    else:\n",
    "        return -1\n",
    "\n",
    "def prepare_files(path):\n",
    "    # Numpy array containing images\n",
    "    imgs = []\n",
    "    # List containing steering angles\n",
    "    steerings = []\n",
    "    files = get_image_paths(path)\n",
    "    # Prepare training data\n",
    "    count = 0\n",
    "    for fname in files:\n",
    "        count+=1\n",
    "        #if(count > 1000):\n",
    "        #    break\n",
    "        parsed = parse_img_name(fname)\n",
    "        if not(parsed == -1): # Make sure the file is valid\n",
    "            # steerings.append( parse_img_name(fname) ) # Append steering\n",
    "            ohe_steering = one_hot_steering(parse_img_name(fname))\n",
    "            if(ohe_steering == None):\n",
    "                continue # Steering is not valid, continue without bad data\n",
    "            steerings.append( ohe_steering )\n",
    "            img = load_image(path+fname)    # Load the image\n",
    "            img = numpy.array(img)          # Convert to numpy array\n",
    "            B,G,R = channelSplit(img)\n",
    "            G = G.flatten()\n",
    "            imgs.append(G)                  # Append image to images array\n",
    "    return imgs, steerings\n",
    "\n",
    "def get_image_paths(path):\n",
    "    # Walk through all the images in the folder path\n",
    "    f = []\n",
    "    for (dirpath, dirnames, filenames) in walk(path):\n",
    "        f.extend(filenames)\n",
    "    return f\n",
    "\n",
    "def load_image(infilename):\n",
    "    size = 32,30\n",
    "    img = Image.open(infilename)\n",
    "    img.thumbnail(size, Image.ANTIALIAS)\n",
    "    data = numpy.asarray(img,dtype=\"uint8\")\n",
    "    return data\n",
    "\n",
    "def channelSplit(image):\n",
    "    return numpy.dsplit(image,image.shape[-1])\n",
    "\n",
    "def one_hot_steering(angle):\n",
    "    weights=[1,1,2,3,4,5,4,3,2,1,1]  # Weights to output feedback unit\n",
    "    encoding = [0] * 45\n",
    "    for i in range(len(output_angles)-1):\n",
    "        if (output_angles[i] <= float(angle)) and (float(angle) <= output_angles[i+1]):\n",
    "            for j in range(i-5,i+5,1): # Iterate through encoding and place weights\n",
    "                if(j>=0 and j<(len(encoding))):\n",
    "                    encoding[j] = weights[j+5-i]\n",
    "            return encoding\n",
    "        if (i == len(output_angles)-1):\n",
    "            print(\"Data incorrectly formatted\")\n",
    "            return encoding\n",
    "            break"
   ]
  },
  {
   "cell_type": "code",
   "execution_count": 3,
   "metadata": {},
   "outputs": [
    {
     "data": {
      "text/plain": [
       "(68509, 45)"
      ]
     },
     "execution_count": 3,
     "metadata": {},
     "output_type": "execute_result"
    }
   ],
   "source": [
    "filepath = \"../datasets/dataset1/\"\n",
    "imgs, steerings = prepare_files(filepath)\n",
    "train_y = numpy.array(steerings)\n",
    "train_x = numpy.array(imgs)\n",
    "# AC-frame_011922_st_23.87382_th_0.3.jpg\n",
    "# one_hot_steering(\"24\")\n",
    "train_y.shape"
   ]
  },
  {
   "cell_type": "code",
   "execution_count": null,
   "metadata": {},
   "outputs": [],
   "source": [
    "img = load_image(\"../datasets/testing/1242071frame_000026_st_0.4888471_th_0.3.jpg\")\n",
    "# Get only blue channel of image, set other\n",
    "# channel intesnities to 0\n",
    "img = numpy.array(img)\n",
    "img[:, :, 1] = 0    # Zero out contribution from green\n",
    "img[:, :, 2] = 0\n",
    "imgplot = plt.savefig('sample2.jpg')\n",
    "imgplot = plt.imshow(img)"
   ]
  },
  {
   "cell_type": "code",
   "execution_count": 4,
   "metadata": {},
   "outputs": [
    {
     "data": {
      "text/plain": [
       "68509"
      ]
     },
     "execution_count": 4,
     "metadata": {},
     "output_type": "execute_result"
    }
   ],
   "source": [
    "train_x.shape[0]"
   ]
  },
  {
   "cell_type": "code",
   "execution_count": null,
   "metadata": {
    "scrolled": true
   },
   "outputs": [],
   "source": [
    "def get_model(input_size):\n",
    "    model = keras.models.Sequential()\n",
    "    model.add(keras.layers.Dense(100, input_dim=input_size, activation='tanh'))\n",
    "    model.add(keras.layers.Dropout(0.1))\n",
    "    model.add(keras.layers.Dense(45,  activation='relu'))\n",
    "    return model\n",
    "# Get training image size\n",
    "i = train_x.shape[1]\n",
    "\n",
    "# Load callbacks\n",
    "checkpointer = keras.callbacks.ModelCheckpoint(\n",
    "    filepath='../outputs/ALVINNS1.h5',\n",
    "    verbose=1,\n",
    "    save_best_only=True)\n",
    "\n",
    "model = get_model(input_size=i)\n",
    "\n",
    "model.compile(optimizer='adam',\n",
    "              loss='kullback_leibler_divergence',\n",
    "              metrics=['accuracy'])\n",
    "\n",
    "model.summary()"
   ]
  },
  {
   "cell_type": "code",
   "execution_count": null,
   "metadata": {
    "scrolled": true
   },
   "outputs": [],
   "source": [
    "model.fit(x=train_x,y=train_y,nb_epoch=10,validation_split=0.1,callbacks=[checkpointer])"
   ]
  }
 ],
 "metadata": {
  "celltoolbar": "Raw Cell Format",
  "kernelspec": {
   "display_name": "Python 2",
   "language": "python",
   "name": "python2"
  },
  "language_info": {
   "codemirror_mode": {
    "name": "ipython",
    "version": 2
   },
   "file_extension": ".py",
   "mimetype": "text/x-python",
   "name": "python",
   "nbconvert_exporter": "python",
   "pygments_lexer": "ipython2",
   "version": "2.7.6"
  }
 },
 "nbformat": 4,
 "nbformat_minor": 2
}

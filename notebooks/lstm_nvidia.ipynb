{
 "cells": [
  {
   "cell_type": "code",
   "execution_count": 2,
   "metadata": {},
   "outputs": [
    {
     "name": "stdout",
     "output_type": "stream",
     "text": [
      "using donkey v2.2.1 ...\n"
     ]
    },
    {
     "name": "stderr",
     "output_type": "stream",
     "text": [
      "/usr/local/lib/python3.6/dist-packages/h5py/__init__.py:36: FutureWarning: Conversion of the second argument of issubdtype from `float` to `np.floating` is deprecated. In future, it will be treated as `np.float64 == np.dtype(float).type`.\n",
      "  from ._conv import register_converters as _register_converters\n",
      "Using TensorFlow backend.\n"
     ]
    }
   ],
   "source": [
    "import sys\n",
    "from os.path import dirname\n",
    "sys.path.append(\"/home/jason/sproj/donkeycar\")\n",
    "\n",
    "import donkeycar as dk\n",
    "#import parts\n",
    "from donkeycar.parts.camera import PiCamera\n",
    "from donkeycar.parts.transform import Lambda\n",
    "from donkeycar.parts.keras import KerasCategorical\n",
    "from donkeycar.parts.actuator import PCA9685, PWMSteering, PWMThrottle\n",
    "from donkeycar.parts.datastore import TubHandler, TubGroup\n",
    "from donkeycar.parts.controller import LocalWebController, JoystickController"
   ]
  },
  {
   "cell_type": "code",
   "execution_count": 7,
   "metadata": {},
   "outputs": [],
   "source": [
    "from keras.layers import Input, Dense, merge\n",
    "from keras.models import Model, Sequential\n",
    "from keras.layers import Convolution2D, MaxPooling2D, Reshape, BatchNormalization,Cropping2D\n",
    "from keras.layers import Dense, Activation, Flatten, Dropout\n",
    "from keras.layers.wrappers import TimeDistributed as TD\n",
    "from keras.layers import LSTM\n",
    "\n",
    "image_shape=(120,160,3)\n",
    "seq_length=3\n",
    "num_outputs=2\n",
    "hidden_size = 1152\n",
    "\n",
    "img_seq_shape = (seq_length,) + image_shape   \n",
    "img_in = Input(batch_shape = img_seq_shape, name='img_in')\n",
    "\n",
    "img_in = Input(shape=(120, 160, 3), name='img_in')                    \n",
    "model = Sequential()\n",
    "model.add(TD(Cropping2D(cropping=((60,0), (0,0))), input_shape=img_seq_shape )) #trim 60 pixels off top\n",
    "model.add(TD(Convolution2D(24, (5,5), strides=(2,2), activation='relu')))\n",
    "model.add(TD(Convolution2D(32, (5,5), strides=(2,2), activation='relu')))\n",
    "model.add(TD(Convolution2D(32, (3,3), strides=(2,2), activation='relu')))\n",
    "model.add(TD(Convolution2D(32, (3,3), strides=(1,1), activation='relu')))\n",
    "model.add(TD(MaxPooling2D(pool_size=(2, 2))))\n",
    "model.add(TD(Flatten(name='flattened')))\n",
    "model.add(TD(Dense(100, activation='relu')))\n",
    "model.add(TD(Dropout(.1)))\n",
    "\n",
    "model.add(LSTM(128, return_sequences=True, name=\"LSTM_seq\"))\n",
    "model.add(Dropout(.1))\n",
    "model.add(LSTM(128, return_sequences=False, name=\"LSTM_out\"))\n",
    "model.add(Dropout(.1))\n",
    "model.add(Dense(128, activation='relu'))\n",
    "model.add(Dropout(.1))\n",
    "model.add(Dense(64, activation='relu'))\n",
    "model.add(Dense(10, activation='relu'))\n",
    "model.add(Dense(num_outputs, activation='linear', name='model_outputs'))\n",
    "\n",
    "model.compile(optimizer=\"adam\",\n",
    "                  loss='mse')"
   ]
  },
  {
   "cell_type": "code",
   "execution_count": 9,
   "metadata": {},
   "outputs": [
    {
     "data": {
      "text/plain": [
       "TensorShape([Dimension(None), Dimension(120), Dimension(160), Dimension(3)])"
      ]
     },
     "execution_count": 9,
     "metadata": {},
     "output_type": "execute_result"
    }
   ],
   "source": [
    "img_in.shape"
   ]
  },
  {
   "cell_type": "code",
   "execution_count": 4,
   "metadata": {},
   "outputs": [
    {
     "name": "stdout",
     "output_type": "stream",
     "text": [
      "_________________________________________________________________\n",
      "Layer (type)                 Output Shape              Param #   \n",
      "=================================================================\n",
      "time_distributed_19 (TimeDis (None, 3, 60, 160, 3)     0         \n",
      "_________________________________________________________________\n",
      "time_distributed_20 (TimeDis (None, 3, 28, 78, 24)     1824      \n",
      "_________________________________________________________________\n",
      "time_distributed_21 (TimeDis (None, 3, 12, 37, 32)     19232     \n",
      "_________________________________________________________________\n",
      "time_distributed_22 (TimeDis (None, 3, 5, 18, 32)      9248      \n",
      "_________________________________________________________________\n",
      "time_distributed_23 (TimeDis (None, 3, 3, 16, 32)      9248      \n",
      "_________________________________________________________________\n",
      "time_distributed_24 (TimeDis (None, 3, 1, 8, 32)       0         \n",
      "_________________________________________________________________\n",
      "time_distributed_25 (TimeDis (None, 3, 256)            0         \n",
      "_________________________________________________________________\n",
      "time_distributed_26 (TimeDis (None, 3, 100)            25700     \n",
      "_________________________________________________________________\n",
      "time_distributed_27 (TimeDis (None, 3, 100)            0         \n",
      "_________________________________________________________________\n",
      "LSTM_seq (LSTM)              (None, 3, 128)            117248    \n",
      "_________________________________________________________________\n",
      "dropout_10 (Dropout)         (None, 3, 128)            0         \n",
      "_________________________________________________________________\n",
      "LSTM_out (LSTM)              (None, 128)               131584    \n",
      "_________________________________________________________________\n",
      "dropout_11 (Dropout)         (None, 128)               0         \n",
      "_________________________________________________________________\n",
      "dense_10 (Dense)             (None, 128)               16512     \n",
      "_________________________________________________________________\n",
      "dropout_12 (Dropout)         (None, 128)               0         \n",
      "_________________________________________________________________\n",
      "dense_11 (Dense)             (None, 64)                8256      \n",
      "_________________________________________________________________\n",
      "dense_12 (Dense)             (None, 10)                650       \n",
      "_________________________________________________________________\n",
      "model_outputs (Dense)        (None, 2)                 22        \n",
      "=================================================================\n",
      "Total params: 339,524\n",
      "Trainable params: 339,524\n",
      "Non-trainable params: 0\n",
      "_________________________________________________________________\n"
     ]
    }
   ],
   "source": [
    "model.summary()"
   ]
  }
 ],
 "metadata": {
  "kernelspec": {
   "display_name": "Python 3",
   "language": "python",
   "name": "python3"
  },
  "language_info": {
   "codemirror_mode": {
    "name": "ipython",
    "version": 3
   },
   "file_extension": ".py",
   "mimetype": "text/x-python",
   "name": "python",
   "nbconvert_exporter": "python",
   "pygments_lexer": "ipython3",
   "version": "3.6.3"
  }
 },
 "nbformat": 4,
 "nbformat_minor": 2
}

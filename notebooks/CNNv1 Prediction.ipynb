{
 "cells": [
  {
   "cell_type": "code",
   "execution_count": 15,
   "metadata": {},
   "outputs": [
    {
     "data": {
      "text/html": [
       "<style>#notebook { padding-top:0px !important; } .container { width:100% !important; } .end_space { min-height:0px !important; } </style>"
      ],
      "text/plain": [
       "<IPython.core.display.HTML object>"
      ]
     },
     "metadata": {},
     "output_type": "display_data"
    }
   ],
   "source": [
    "import matplotlib\n",
    "matplotlib.use('Agg')\n",
    "\n",
    "import tensorflow as tf\n",
    "import numpy\n",
    "import keras\n",
    "import PIL\n",
    "from PIL import Image\n",
    "\n",
    "# Remove padding around screen\n",
    "\n",
    "from IPython.core.display import display, HTML\n",
    "import matplotlib.pyplot as plt\n",
    "import matplotlib.image as img\n",
    "\n",
    "display(HTML(\"<style>\"\n",
    "    + \"#notebook { padding-top:0px !important; } \" \n",
    "    + \".container { width:100% !important; } \"\n",
    "    + \".end_space { min-height:0px !important; } \"\n",
    "    + \"</style>\"))"
   ]
  },
  {
   "cell_type": "code",
   "execution_count": 16,
   "metadata": {},
   "outputs": [],
   "source": [
    "model = keras.models.load_model(\"../outputs/alvinnw3.h5\")\n",
    "model.compile(\"adadelta\", \"mse\")"
   ]
  },
  {
   "cell_type": "code",
   "execution_count": 19,
   "metadata": {},
   "outputs": [],
   "source": [
    "def load_image(infilename):\n",
    "    size = 64,60\n",
    "    img = Image.open(infilename)\n",
    "    img.thumbnail(size, Image.ANTIALIAS)\n",
    "    data = numpy.asarray(img,dtype=\"uint8\")\n",
    "    return data\n",
    "\n",
    "path = \"../datasets/testing/\"\n",
    "name = \"capture.JPG\"\n",
    "img = load_image(path+name)"
   ]
  },
  {
   "cell_type": "code",
   "execution_count": 28,
   "metadata": {},
   "outputs": [
    {
     "data": {
      "text/plain": [
       "2.0831792"
      ]
     },
     "execution_count": 28,
     "metadata": {},
     "output_type": "execute_result"
    }
   ],
   "source": [
    "testimg = numpy.asarray(img)\n",
    "testimg = numpy.expand_dims(testimg,axis=0)\n",
    "steering = model.predict(testimg)\n",
    "steering[0][26]"
   ]
  }
 ],
 "metadata": {
  "kernelspec": {
   "display_name": "Python 2",
   "language": "python",
   "name": "python2"
  },
  "language_info": {
   "codemirror_mode": {
    "name": "ipython",
    "version": 2
   },
   "file_extension": ".py",
   "mimetype": "text/x-python",
   "name": "python",
   "nbconvert_exporter": "python",
   "pygments_lexer": "ipython2",
   "version": "2.7.6"
  }
 },
 "nbformat": 4,
 "nbformat_minor": 2
}
